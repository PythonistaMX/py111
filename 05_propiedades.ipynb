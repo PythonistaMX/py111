{
 "cells": [
  {
   "cell_type": "markdown",
   "metadata": {},
   "source": [
    "[![pythonista.io](imagenes/pythonista.png)](https://pythonista.io)"
   ]
  },
  {
   "cell_type": "markdown",
   "metadata": {},
   "source": [
    "# Propiedades."
   ]
  },
  {
   "cell_type": "markdown",
   "metadata": {},
   "source": [
    "\n",
    "En Python es posible hacer que ciertos métodos se comporten de como si fueran atributos mediante el uso de *property*.\n",
    "\n",
    "Las propiedades en Python corresponden a métodos que se comportan como \"getters\" y \"setters\" de un atributo.\n",
    "\n",
    "Un \"getter\" regresa el contenido de un atributo.\n",
    "Un \"setter\" crea o modifica el contenido de un atributo. \n",
    "\n",
    "La sintaxis para la definición de propiedades es la siguiente:\n",
    "\n",
    "```\n",
    "class <nombre de la clase>:\n",
    "    ...\n",
    "    ...\n",
    "    @property\n",
    "    def <nombre de la propiedad>(self):\n",
    "        ...\n",
    "        ...\n",
    "        return <objeto>\n",
    "    @<nombre de la propiedad>.setter\n",
    "    def<nombre de la propiedad>(self, <parametro>):\n",
    "        ...\n",
    "        ...\n",
    "```\n",
    "\n",
    "La primera función definida es un getter regresará un valor de la propiedad cuando se invoque y la segunda asignará el valor a la propiedad cuando se utilice un operador de asignación.\n",
    "\n",
    "Si no se define un setter, el valor de la propiedad no podrá ser cambiado.\n",
    "\n",
    "**Ejemplo:**\n",
    "En este caso se crearan dos propiedades: _clave_ y _nombre_.\n",
    "\n",
    "* El método *\\_\\_init\\_\\_()* crea una cadena de texto basada en una estampa de tiempo y lo liga al atributo *\\_\\_clave*.\n",
    "\n",
    "* La propiedad _clave_ sólo cuenta con un getter.\n",
    "\n",
    "* El getter de _clave_ despliega la cadena de caracteres del atributo *\\_\\_clave*.\n",
    "\n",
    "* El contenido de _nombre_ es guardado en el atributo *lista_nombre*, el cual debe de ser un objeto de tipo _list_ que debe de estar conformado por un número de 2 a 3 elementos.\n",
    "\n",
    "* El setter de _nombre_ valida que se ingrese una lista o una tupla que contenga entre 2 y 3 objetos. De lo contrario, levantará una excepción de tipo *ValueError*.\n",
    "\n",
    "* El getter de _nombre_ arma y regresa un objeto de tipo _str_ a partir del atributo *lista_nombre*."
   ]
  },
  {
   "cell_type": "code",
   "execution_count": null,
   "metadata": {},
   "outputs": [],
   "source": [
    " from time import time\n",
    "class Persona:\n",
    "    '''Clase base para creación de datos personales.'''\n",
    "    \n",
    "    def __init__(self):\n",
    "        '''Genera una clave única a partir de una estampa de tiempo y la relaciona con el atributo __clave.'''\n",
    "        self.__clave = str(int(time() / 0.017))[1:]\n",
    "        \n",
    "    @property\n",
    "    def clave(self):\n",
    "        '''Regresa el valor del atributo \"escondido\" __clave.'''\n",
    "        return self.__clave\n",
    "    \n",
    "    @property\n",
    "    def nombre(self):\n",
    "        '''Regresa una cadena de caracteres a partir de la lista contenida en lista_nombre.'''\n",
    "        return \" \".join(self.lista_nombre)\n",
    "    \n",
    "    @nombre.setter\n",
    "    def nombre(self, nombre):\n",
    "        '''Debe ingresarse una lista o tupla con entre 2 y 3 elementos.'''\n",
    "        if len(nombre) < 2 or len(nombre) > 3 or type(nombre) not in (list, tuple):\n",
    "            raise ValueError(\"Formato incorrecto.\")\n",
    "        else:\n",
    "            self.lista_nombre = nombre"
   ]
  },
  {
   "cell_type": "code",
   "execution_count": null,
   "metadata": {},
   "outputs": [],
   "source": [
    "sujeto = Persona()"
   ]
  },
  {
   "cell_type": "code",
   "execution_count": null,
   "metadata": {},
   "outputs": [],
   "source": [
    "sujeto.nombre"
   ]
  },
  {
   "cell_type": "code",
   "execution_count": null,
   "metadata": {},
   "outputs": [],
   "source": [
    "sujeto.nombre = [\"Jorge\", \"Sánchez\", \"Pérez\"]"
   ]
  },
  {
   "cell_type": "code",
   "execution_count": null,
   "metadata": {},
   "outputs": [],
   "source": [
    "sujeto.nombre"
   ]
  },
  {
   "cell_type": "code",
   "execution_count": null,
   "metadata": {},
   "outputs": [],
   "source": [
    "sujeto.lista_nombre"
   ]
  },
  {
   "cell_type": "code",
   "execution_count": null,
   "metadata": {},
   "outputs": [],
   "source": [
    "sujeto.clave"
   ]
  },
  {
   "cell_type": "code",
   "execution_count": null,
   "metadata": {},
   "outputs": [],
   "source": [
    "sujeto.clave = 12"
   ]
  },
  {
   "cell_type": "code",
   "execution_count": null,
   "metadata": {
    "scrolled": true
   },
   "outputs": [],
   "source": [
    "dir(sujeto)"
   ]
  },
  {
   "cell_type": "code",
   "execution_count": null,
   "metadata": {},
   "outputs": [],
   "source": [
    "getattr(sujeto, '_Persona__clave')"
   ]
  },
  {
   "cell_type": "code",
   "execution_count": null,
   "metadata": {},
   "outputs": [],
   "source": [
    "setattr(sujeto,\"_Persona__clave\", \"te juanquié\")"
   ]
  },
  {
   "cell_type": "code",
   "execution_count": null,
   "metadata": {},
   "outputs": [],
   "source": [
    "sujeto.clave"
   ]
  },
  {
   "cell_type": "markdown",
   "metadata": {
    "collapsed": true
   },
   "source": [
    "<p style=\"text-align: center\"><a rel=\"license\" href=\"http://creativecommons.org/licenses/by/4.0/\"><img alt=\"Licencia Creative Commons\" style=\"border-width:0\" src=\"https://i.creativecommons.org/l/by/4.0/80x15.png\" /></a><br />Esta obra está bajo una <a rel=\"license\" href=\"http://creativecommons.org/licenses/by/4.0/\">Licencia Creative Commons Atribución 4.0 Internacional</a>.</p>\n",
    "<p style=\"text-align: center\">&copy; José Luis Chiquete Valdivieso. 2019.</p>"
   ]
  }
 ],
 "metadata": {
  "kernelspec": {
   "display_name": "Python 3",
   "language": "python",
   "name": "python3"
  },
  "language_info": {
   "codemirror_mode": {
    "name": "ipython",
    "version": 3
   },
   "file_extension": ".py",
   "mimetype": "text/x-python",
   "name": "python",
   "nbconvert_exporter": "python",
   "pygments_lexer": "ipython3",
   "version": "3.7.3"
  }
 },
 "nbformat": 4,
 "nbformat_minor": 2
}
