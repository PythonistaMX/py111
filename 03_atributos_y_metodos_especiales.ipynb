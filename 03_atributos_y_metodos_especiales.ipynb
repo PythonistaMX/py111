{
 "cells": [
  {
   "cell_type": "markdown",
   "metadata": {
    "collapsed": true
   },
   "source": [
    "[![pythonista.io](imagenes/pythonista.png)](https://pythonista.io)"
   ]
  },
  {
   "cell_type": "markdown",
   "metadata": {},
   "source": [
    "# Atributos y métodos especiales."
   ]
  },
  {
   "cell_type": "markdown",
   "metadata": {
    "collapsed": true
   },
   "source": [
    "En Python se pueden identificar a los atributos y métodos especiales (magic methods) de un objeto por que su nombre está encerrado entre dobles guiones bajos \"*\\_\\_*\".\n",
    "\n",
    "Estos atributos se utilizan para definir comportamientos básicos de un objeto y son comunes con otras clases.\n",
    "\n",
    "Puede consultar diversos métodos especiales [en este sitio](http://minhhh.github.io/posts/a-guide-to-pythons-magic-methods).\n",
    "\n",
    "A continuación se muestran algunos de los atributos y métodos especiales más representativos."
   ]
  },
  {
   "cell_type": "markdown",
   "metadata": {},
   "source": [
    "## Métodos de operadores.\n",
    "Python es un lenguaje de muy alto nivel de abstracción que por ende, realiza operaciones de manera distinta a otros. Uno de esos casos es cuando el intérprete identifica un operador.\n",
    "\n",
    "Cuando el intérprete identifica a un operador en una expresión, no realiza la operación relacionada con el operador directamente, sino que invoca un método especial.\n",
    "\n",
    "Por ejemplo, el método *\\_\\_add\\_\\_()* se ejecuta cuando el intérprete se encuentra a la izquierda del símbolo de suma \"*+*\".\n",
    "\n",
    "**Ejemplo:**"
   ]
  },
  {
   "cell_type": "code",
   "execution_count": null,
   "metadata": {},
   "outputs": [],
   "source": [
    "dir(object)"
   ]
  },
  {
   "cell_type": "code",
   "execution_count": null,
   "metadata": {},
   "outputs": [],
   "source": [
    "class SuperficieCuadrada():\n",
    "    '''Realiza operaciones con superficies de cuadrados.'''\n",
    "    lado = 1\n",
    "    \n",
    "    def superficie(self):\n",
    "        '''Calcula la superficie de un cuadrado.'''\n",
    "        return self.lado ** 2\n",
    "    \n",
    "    def __add__(self, elemento):\n",
    "        '''Realiza operaciones de suma.'''\n",
    "        if type(elemento) is SuperficieCuadrada:\n",
    "            return self.superficie() + elemento.superficie()\n",
    "        elif type(elemento) in (int, float):\n",
    "            return self.superficie() + elemento\n",
    "        else:\n",
    "            raise NotImplementedError(\"No sé qué hacer\")"
   ]
  },
  {
   "cell_type": "code",
   "execution_count": null,
   "metadata": {},
   "outputs": [],
   "source": [
    "cuadros = (SuperficieCuadrada(), SuperficieCuadrada())"
   ]
  },
  {
   "cell_type": "code",
   "execution_count": null,
   "metadata": {},
   "outputs": [],
   "source": [
    "cuadros[0].lado = 25\n",
    "cuadros[1].lado = 12"
   ]
  },
  {
   "cell_type": "code",
   "execution_count": null,
   "metadata": {},
   "outputs": [],
   "source": [
    "cuadros[0] + cuadros[1]"
   ]
  },
  {
   "cell_type": "code",
   "execution_count": null,
   "metadata": {},
   "outputs": [],
   "source": [
    "cuadros[0] + 12"
   ]
  },
  {
   "cell_type": "code",
   "execution_count": null,
   "metadata": {},
   "outputs": [],
   "source": [
    "cuadros[1] + 2j"
   ]
  },
  {
   "cell_type": "code",
   "execution_count": null,
   "metadata": {},
   "outputs": [],
   "source": [
    "12 + cuadros[0]"
   ]
  },
  {
   "cell_type": "code",
   "execution_count": null,
   "metadata": {},
   "outputs": [],
   "source": [
    "sum(cuadros)"
   ]
  },
  {
   "cell_type": "markdown",
   "metadata": {},
   "source": [
    "### Métodos de operador recíprocos.\n",
    "\n",
    "En el ejemplo previo, el orden del operador tiene relevancia, ya que los objetos de tipo _int_ y de tipo _float_, los cuales se invocan primero por estar a la izquierda del operador, no cuentan con una implementación de *\\_\\_add\\_\\_* para la clase *SuperficieCuadrada*.\n",
    "\n",
    "Lo mismo ocurre con la función _sum()_, la cual comienza a realizar la suma desde _0_, el cual es de tipo _int_.\n",
    "\n",
    "Cuando un objeto de tipo numérico no encuentra una implementación adecuada, busca un método recíproco en el objeto a la derecha del operador. En este caso busca al método *\\_\\_radd\\_\\_()*.\n",
    "\n",
    "Los métodos de operador recíprocos de son:\n",
    "\n",
    "* *\\_\\_radd\\_\\_()*\n",
    "* *\\_\\_rdiv\\_\\_()*\n",
    "* *\\_\\_rmod\\_\\_()*\n",
    "* *\\_\\_rmul\\_\\_()*\n",
    "* *\\_\\_rsub\\_\\_()*\n",
    "\n",
    "**Ejemplo:**"
   ]
  },
  {
   "cell_type": "code",
   "execution_count": null,
   "metadata": {},
   "outputs": [],
   "source": [
    "class SuperficieCuadrada():\n",
    "    '''Realiza operaciones con superficies de cuadrados.'''\n",
    "    lado = 1\n",
    "    \n",
    "    def superficie(self):\n",
    "        '''Calcula la superfice de un cuadrado.'''\n",
    "        return self.lado ** 2\n",
    "    \n",
    "    def __add__(self, elemento):\n",
    "        '''Realiza operaciones de suma.'''\n",
    "        if type(elemento) is SuperficieCuadrada:\n",
    "            return self.superficie() + elemento.superficie()\n",
    "        elif type(elemento) in (int, float):\n",
    "            return self.superficie() + elemento\n",
    "        else:\n",
    "            raise NotImplementedError(\"No sé qué hacer.\")\n",
    "            \n",
    "    def __radd__(self, elemento):\n",
    "        '''Realiza operaciones de suma cuando el otro objeto no la tiene implementada.'''\n",
    "        return self.__add__(elemento)"
   ]
  },
  {
   "cell_type": "code",
   "execution_count": null,
   "metadata": {},
   "outputs": [],
   "source": [
    "cuadrados = [SuperficieCuadrada(), SuperficieCuadrada(), SuperficieCuadrada()]"
   ]
  },
  {
   "cell_type": "code",
   "execution_count": null,
   "metadata": {},
   "outputs": [],
   "source": [
    "cuadrados[0].lado = 13.5\n",
    "cuadrados[1].lado = 50.33\n",
    "cuadrados[2].lado = 23.1"
   ]
  },
  {
   "cell_type": "code",
   "execution_count": null,
   "metadata": {},
   "outputs": [],
   "source": [
    "12.5 + cuadrados[1]"
   ]
  },
  {
   "cell_type": "code",
   "execution_count": null,
   "metadata": {},
   "outputs": [],
   "source": [
    "cuadrados[1] + 21"
   ]
  },
  {
   "cell_type": "code",
   "execution_count": null,
   "metadata": {},
   "outputs": [],
   "source": [
    "sum(cuadrados)"
   ]
  },
  {
   "cell_type": "code",
   "execution_count": null,
   "metadata": {},
   "outputs": [],
   "source": [
    "cuadrados[2] + 15.4"
   ]
  },
  {
   "cell_type": "code",
   "execution_count": null,
   "metadata": {},
   "outputs": [],
   "source": [
    "1j+ cuadrados[0]"
   ]
  },
  {
   "cell_type": "markdown",
   "metadata": {},
   "source": [
    "## Métodos de inicio y finalización de objetos.\n",
    "\n",
    "### El método *\\_\\_new\\_\\_()*.\n",
    "Es el método que se ejecuta para crear una instancia del objeto. Se utiliza de forma muy esporádica y en la mayoría de los casos para modificar clases de objetos inmutables. El estudio de este método queda fuera del alcance de este curso introductorio.\n",
    "\n",
    "### El método *\\_\\_init\\_\\_()*.\n",
    "Es el primer método que se ejecuta un vez instanciado un objeto. Los argumentos que se ingresan dentro del paréntesis al crear un objetos son transferidos a este método.\n",
    "\n",
    "**Ejemplo:**"
   ]
  },
  {
   "cell_type": "code",
   "execution_count": null,
   "metadata": {},
   "outputs": [],
   "source": [
    "class PoblacionCensada():\n",
    "    '''Crea censos de población. '''\n",
    "    \n",
    "    def __init__(self, nombre, numero=0):\n",
    "        \n",
    "        print(\"Se ha creado la población {} con {} habitantes.\".format(nombre, numero))\n",
    "        self.nombre = nombre\n",
    "        self.numero = numero"
   ]
  },
  {
   "cell_type": "code",
   "execution_count": null,
   "metadata": {},
   "outputs": [],
   "source": [
    "urbana = PoblacionCensada(\"Texcoco\", 20000)"
   ]
  },
  {
   "cell_type": "code",
   "execution_count": null,
   "metadata": {},
   "outputs": [],
   "source": [
    "urbana.nombre"
   ]
  },
  {
   "cell_type": "code",
   "execution_count": null,
   "metadata": {},
   "outputs": [],
   "source": [
    "urbana.numero"
   ]
  },
  {
   "cell_type": "markdown",
   "metadata": {},
   "source": [
    "El método *\\_\\_init\\_\\_()* se utiliza generalmente para inicializar el estado de un objeto."
   ]
  },
  {
   "cell_type": "markdown",
   "metadata": {},
   "source": [
    "### El método *\\_\\_del\\_\\_()*.\n",
    "Es el método que se ejecuta cuando un objeto es desechado.\n",
    "\n",
    "**Ejemplo:**"
   ]
  },
  {
   "cell_type": "code",
   "execution_count": null,
   "metadata": {},
   "outputs": [],
   "source": [
    "class Ente():\n",
    "    '''Ejemplifica el ciclo de vida de un objeto.'''\n",
    "    \n",
    "    def __init__(self, nombre='Juan'):\n",
    "        print('Hola. Mi nombre es {}.'.format(nombre))\n",
    "        self.nombre = nombre\n",
    "    \n",
    "    def __del__(self):\n",
    "        print ('{} ha dejado de existir.'.format(self.nombre))"
   ]
  },
  {
   "cell_type": "code",
   "execution_count": null,
   "metadata": {},
   "outputs": [],
   "source": [
    "entidades = [Ente('Hugo'), Ente('Paco'), Ente('Luis')]"
   ]
  },
  {
   "cell_type": "code",
   "execution_count": null,
   "metadata": {},
   "outputs": [],
   "source": [
    "del entidades[1]"
   ]
  },
  {
   "cell_type": "code",
   "execution_count": null,
   "metadata": {},
   "outputs": [],
   "source": [
    "del entidades"
   ]
  },
  {
   "cell_type": "code",
   "execution_count": null,
   "metadata": {},
   "outputs": [],
   "source": [
    "Ente('Jose')"
   ]
  },
  {
   "cell_type": "markdown",
   "metadata": {},
   "source": [
    "## Atributos de información.\n",
    "\n",
    "### El atributo *\\_\\_doc\\_\\_* .\n",
    "Es el atributo que contiene la docstring que se utiliza para documentar al código.\n",
    "\n",
    "### El atributo *\\_\\_class\\_\\_*.\n",
    "Regresa la clase de la que ha sido instanciado un objeto.\n",
    "\n",
    "### El método *\\_\\_dir\\_\\_()*.\n",
    "Regresa la lista de atributos contenidos en un objeto.\n",
    "\n",
    "**Ejemplos:**"
   ]
  },
  {
   "cell_type": "code",
   "execution_count": null,
   "metadata": {},
   "outputs": [],
   "source": [
    "class Ente():\n",
    "    '''Ejemplifica el ciclo de vida de un objeto.'''\n",
    "    \n",
    "    def __init__(self, nombre='Juan'):\n",
    "        print('Hola. Mi nombre es {}.'.format(nombre))\n",
    "        self.nombre = nombre\n",
    "    \n",
    "    def __del__(self):\n",
    "        print ('{} ha dejado de existir.'.format(self.nombre))"
   ]
  },
  {
   "cell_type": "code",
   "execution_count": null,
   "metadata": {},
   "outputs": [],
   "source": [
    "entidad = Ente()"
   ]
  },
  {
   "cell_type": "code",
   "execution_count": null,
   "metadata": {},
   "outputs": [],
   "source": [
    "entidad.__doc__"
   ]
  },
  {
   "cell_type": "code",
   "execution_count": null,
   "metadata": {},
   "outputs": [],
   "source": [
    "entidad.__class__"
   ]
  },
  {
   "cell_type": "code",
   "execution_count": null,
   "metadata": {},
   "outputs": [],
   "source": [
    "entidad.__dir__()"
   ]
  },
  {
   "cell_type": "markdown",
   "metadata": {},
   "source": [
    "## Métodos de conversión.\n",
    "\n",
    "### El método *\\_\\_repr\\_\\_()*.\n",
    "Se utiliza para desplegar información que será accedida y despelgada por el intérprete.\n",
    "\n",
    "### El método *\\_\\_str\\_\\_()*.\n",
    "Se utiliza para desplegar información que será convertida al tipo _str_. La función _str()_ es la implementación de este método.\n",
    "\n",
    "### El método *\\_\\_format\\_\\_()*.\n",
    "Se utiliza para desplegar información que se ajuste a el método *format* de los objetos de tipo _str_.\n",
    "\n",
    "### El método *\\_\\_int\\_\\_()*.\n",
    "Se utiliza para desplegar información que será convertida al tipo _int_.  La función _int()_ es la implementación de este método.\n",
    "\n",
    "### El método *\\_\\_float\\_\\_()*.\n",
    "Se utiliza para desplegar información que será convertida al tipo _float_.  La función _float()_ es la implementación de este método.\n",
    "\n",
    "### El método *\\_\\_bool\\_\\_()*.\n",
    "Se utiliza para desplegar información que será convertida al tipo _bool_.  La función _bool()_ es la implementación de este método.\n",
    "\n",
    "**Ejemplo:**"
   ]
  },
  {
   "cell_type": "code",
   "execution_count": null,
   "metadata": {},
   "outputs": [],
   "source": [
    "class Ente():\n",
    "    '''Ejemplifica el ciclo de vida de un objeto.'''\n",
    "    \n",
    "    def __init__(self, nombre='Juan'):\n",
    "        print('Hola. Mi nombre es {}.'.format(nombre))\n",
    "        self.nombre = nombre\n",
    "    \n",
    "    def __del__(self):\n",
    "        print ('{} ha dejado de existir.'.format(self.nombre))\n",
    "    \n",
    "    def __str__(self):\n",
    "        '''Regresa el contenido del atributo nombre convertido a mayúsculas.'''\n",
    "        return self.nombre.upper()\n",
    "    \n",
    "    def __bool__(self):\n",
    "        '''Regresa el resultado de evaluar si el atributo nombre tiene en mayúsculas \n",
    "        la primera letra de cada palabra que contiene.''' \n",
    "        return self.nombre.istitle()\n",
    "    \n",
    "    def __repr__(self):\n",
    "        '''Regresa la representación del objeto.'''\n",
    "        return \"Objeto de la clase Ente\""
   ]
  },
  {
   "cell_type": "code",
   "execution_count": null,
   "metadata": {
    "scrolled": true
   },
   "outputs": [],
   "source": [
    "ente = Ente('Luis Ramón')"
   ]
  },
  {
   "cell_type": "code",
   "execution_count": null,
   "metadata": {},
   "outputs": [],
   "source": [
    "ente"
   ]
  },
  {
   "cell_type": "code",
   "execution_count": null,
   "metadata": {},
   "outputs": [],
   "source": [
    "str(ente)"
   ]
  },
  {
   "cell_type": "code",
   "execution_count": null,
   "metadata": {},
   "outputs": [],
   "source": [
    "print(ente)"
   ]
  },
  {
   "cell_type": "code",
   "execution_count": null,
   "metadata": {},
   "outputs": [],
   "source": [
    "bool(ente)"
   ]
  },
  {
   "cell_type": "markdown",
   "metadata": {},
   "source": [
    "### El método *\\_\\_iter\\_\\_()*.\n",
    "\n",
    "Convierte a las instancias de la clase en objetos iterables.\n",
    "\n",
    "**Ejemplo:**"
   ]
  },
  {
   "cell_type": "code",
   "execution_count": null,
   "metadata": {},
   "outputs": [],
   "source": [
    "class Ente():\n",
    "    '''Ejemplifica el ciclo de vida de un objeto.'''\n",
    "    \n",
    "    def __init__(self, nombre='Juan'):\n",
    "        print('Hola. Mi nombre es {}.'.format(nombre))\n",
    "        self.nombre = nombre\n",
    "    \n",
    "    def __del__(self):\n",
    "        print ('{} ha dejado de existir.'.format(self.nombre))\n",
    "    \n",
    "    def __str__(self):\n",
    "        '''Regresa el contenido del atributo nombre convertido a mayúsculas.'''\n",
    "        return self.nombre.upper()\n",
    "    \n",
    "    def __bool__(self):\n",
    "        '''Regresa el resultado de evaluar si el atributo nombre tiene en mayúsculas \n",
    "        la primera letra de cada palabra que contiene.''' \n",
    "        return self.nombre.istitle()\n",
    "    \n",
    "    def __iter__(self):\n",
    "        '''Crea un iterador que regresa cada letra contenida en el atributo nombre convertida \n",
    "        a minúscuclas.'''\n",
    "        for letra in self.nombre:\n",
    "            yield letra.lower() "
   ]
  },
  {
   "cell_type": "code",
   "execution_count": null,
   "metadata": {},
   "outputs": [],
   "source": [
    "persona = Ente('JAVIER')"
   ]
  },
  {
   "cell_type": "code",
   "execution_count": null,
   "metadata": {},
   "outputs": [],
   "source": [
    "for letra in persona:\n",
    "    print(letra)"
   ]
  },
  {
   "cell_type": "code",
   "execution_count": null,
   "metadata": {},
   "outputs": [],
   "source": [
    "iterador = iter(persona)"
   ]
  },
  {
   "cell_type": "code",
   "execution_count": null,
   "metadata": {},
   "outputs": [],
   "source": [
    "type(iterador)"
   ]
  },
  {
   "cell_type": "code",
   "execution_count": null,
   "metadata": {},
   "outputs": [],
   "source": [
    "iterador.__next__()"
   ]
  },
  {
   "cell_type": "markdown",
   "metadata": {},
   "source": [
    "<p style=\"text-align: center\"><a rel=\"license\" href=\"http://creativecommons.org/licenses/by/4.0/\"><img alt=\"Licencia Creative Commons\" style=\"border-width:0\" src=\"https://i.creativecommons.org/l/by/4.0/80x15.png\" /></a><br />Esta obra está bajo una <a rel=\"license\" href=\"http://creativecommons.org/licenses/by/4.0/\">Licencia Creative Commons Atribución 4.0 Internacional</a>.</p>\n",
    "<p style=\"text-align: center\">&copy; José Luis Chiquete Valdivieso. 2019.</p>"
   ]
  }
 ],
 "metadata": {
  "kernelspec": {
   "display_name": "Python 3",
   "language": "python",
   "name": "python3"
  },
  "language_info": {
   "codemirror_mode": {
    "name": "ipython",
    "version": 3
   },
   "file_extension": ".py",
   "mimetype": "text/x-python",
   "name": "python",
   "nbconvert_exporter": "python",
   "pygments_lexer": "ipython3",
   "version": "3.6.6"
  }
 },
 "nbformat": 4,
 "nbformat_minor": 2
}
