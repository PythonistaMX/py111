{
 "cells": [
  {
   "cell_type": "markdown",
   "metadata": {
    "collapsed": true
   },
   "source": [
    "[![pythonista.io](imagenes/pythonista.png)](https://pythonista.io)"
   ]
  },
  {
   "cell_type": "markdown",
   "metadata": {},
   "source": [
    "# Objetos, clases e instancias."
   ]
  },
  {
   "cell_type": "markdown",
   "metadata": {},
   "source": [
    "## Particularidades de Python.\n",
    "\n",
    "* Todo es un objeto, incluyendo los tipos y clases.\n",
    "* Tipos y clases son sinónimos.\n",
    "* Permite herencia múltiple.\n",
    "* No existen métodos ni atributos privados.\n",
    "* Los atributos pueden ser accedidos directamente sin necesidad de definir propiedades.\n",
    "* Las clases abstractas son opcionales, pero pueden ser implementadas.\n",
    "* Permite \"monkey patching\".\n",
    "* Permite \"duck typing\".\n",
    "* Permite \"mixins\".\n",
    "* Permite la sobrecarga de operadores.\n",
    "* Permite la creación de nuevos tipos de datos."
   ]
  },
  {
   "cell_type": "markdown",
   "metadata": {},
   "source": [
    "## Clases.\n",
    "\n",
    "Las clases son prototipos a partir de los cuales pueden crearse objetos que adquieren las propiedades, características y comportamientos definidos por las clases."
   ]
  },
  {
   "cell_type": "markdown",
   "metadata": {},
   "source": [
    "### Reglas sobre los nombres de las clases.\n",
    "\n",
    "Sintácticamente, las clases pueden llevar cualquier nombre. Sin embargo, para facilitar su dientificación, el [PEP8](https://www.python.org/dev/peps/pep-0008/#class-names), indica que las clases deben de usar el estilo camel case:\n",
    "\n",
    "* La primera letra del nombre de la clase debe de ser maýúscula y el resto deben de ser minúsculas. \n",
    "* Si el nombre se compone de varias palabras, la letra incial de cada palabra debe de ser mayúscula.\n",
    "\n",
    "**Ejemplos:**\n",
    "\n",
    "Los siguientes son nombres de clase que se apegan al ```PEP 8```.\n",
    "\n",
    "* ```Cadrilatero```.\n",
    "* ```FormaSimple```.\n",
    "* ```AlumnoRegularRegistrado```.\n",
    "* ```Base```.\n",
    "* ```NotImplementedError```."
   ]
  },
  {
   "cell_type": "markdown",
   "metadata": {},
   "source": [
    "### Definición de una clase.\n",
    "\n",
    "Las clases utilizan la palabra clave ```class``` para ser definidas.\n",
    "\n",
    "Sintaxis:\n",
    "\n",
    "```\n",
    "class <Nombre>(<superclase_1>, <superclase_2>... <superclase_n>):\n",
    "    ...\n",
    "    ...\n",
    "```\n",
    "Las clases en Python pueden \"heredar\" los componentes de otras clases definidas previamente a las que se conocen como \"superclases\" de la clase en cuestión. \n",
    "\n",
    "Si no se indica una superclase, no es necesario usar los paréntesis y la clase heredaría las características de ```object```.\n",
    "\n",
    "La herencia es uno de los conceptos fundamentales de la programación orientada a objetos y se estudiará a profundidad en capítulos posteriores.\n",
    "\n",
    "**Nota:** La herencia es una relación que se da exclisuvamente entre clases."
   ]
  },
  {
   "cell_type": "markdown",
   "metadata": {},
   "source": [
    "**Ejemplo:**"
   ]
  },
  {
   "cell_type": "markdown",
   "metadata": {},
   "source": [
    "* La siguiente celda creará un clase sin contenido. "
   ]
  },
  {
   "cell_type": "code",
   "execution_count": 1,
   "metadata": {},
   "outputs": [],
   "source": [
    "class MiClase:\n",
    "    '''Una clase básica.'''\n",
    "    pass"
   ]
  },
  {
   "cell_type": "markdown",
   "metadata": {},
   "source": [
    "* La clase ```MiClase``` hereda los atributos de ```object```."
   ]
  },
  {
   "cell_type": "code",
   "execution_count": null,
   "metadata": {
    "scrolled": true
   },
   "outputs": [],
   "source": [
    "help(MiClase)"
   ]
  },
  {
   "cell_type": "markdown",
   "metadata": {},
   "source": [
    "* La siguiente celda desplegará todos los atributos heredados de  ```object``` por parte de ```MiClase```."
   ]
  },
  {
   "cell_type": "code",
   "execution_count": null,
   "metadata": {},
   "outputs": [],
   "source": [
    "dir(MiClase)"
   ]
  },
  {
   "cell_type": "markdown",
   "metadata": {},
   "source": [
    "## Objetos.\n",
    "\n",
    "Los objetos son las implementaciones de una clase. A la creación de un objeto a partir de una clase, se le llama \"instanciar\".\n",
    "\n",
    "Todos los elementos de Python son instancias de al menos una clase.\n",
    "\n",
    "Para crear un objeto se utiliza la siguiente sintaxis:\n",
    "\n",
    "```\n",
    "<Nombre de la Clase>(<argumentos>)\n",
    "```\n",
    "\n",
    "Si no se le asigna un nombre al objeto, este es desechado de inmediato por el intérprete de Python."
   ]
  },
  {
   "cell_type": "markdown",
   "metadata": {},
   "source": [
    "**Ejemplo:**"
   ]
  },
  {
   "cell_type": "markdown",
   "metadata": {},
   "source": [
    "* La siguiente celda creará una instancia de ```MiClase```, pero al no contar con un nombre, será desechada automáticamente por el intérprete de Python."
   ]
  },
  {
   "cell_type": "code",
   "execution_count": null,
   "metadata": {},
   "outputs": [],
   "source": [
    "MiClase()"
   ]
  },
  {
   "cell_type": "markdown",
   "metadata": {},
   "source": [
    "* La siguiente celda creará una instancia de ```MiClase```, y se le asignará el nombre ```mi_objeto```."
   ]
  },
  {
   "cell_type": "code",
   "execution_count": 3,
   "metadata": {},
   "outputs": [],
   "source": [
    "mi_objeto = MiClase()"
   ]
  },
  {
   "cell_type": "markdown",
   "metadata": {},
   "source": [
    "## La función ```type()```.\n",
    "\n",
    "* En Python las clases y los objetos se refieren al mismo concepto, por lo que la función ```type()``` regresará la clase a partir de la cual fue instanciada un objeto que es ingresado como atributos.\n",
    "\n",
    "```\n",
    "type(<objeto>)\n",
    "```"
   ]
  },
  {
   "cell_type": "markdown",
   "metadata": {},
   "source": [
    "**Ejemplo:**"
   ]
  },
  {
   "cell_type": "markdown",
   "metadata": {},
   "source": [
    "* Al ejecutar la función ```type()``` ingresando al objeto ```mi_objeto``` como argumento, regresará ```__main__.MiClase```, haciendo referencia a la clase ```MiClase```, la cual fue definida desde el intérprete. "
   ]
  },
  {
   "cell_type": "code",
   "execution_count": 4,
   "metadata": {},
   "outputs": [
    {
     "data": {
      "text/plain": [
       "__main__.MiClase"
      ]
     },
     "execution_count": 4,
     "metadata": {},
     "output_type": "execute_result"
    }
   ],
   "source": [
    "type(mi_objeto)"
   ]
  },
  {
   "cell_type": "markdown",
   "metadata": {},
   "source": [
    "* Al hacer referencia un objeto desde el intérprete, esto regresará la clase de la cual fue instanciado y la posición de memoria en la que se encuentra."
   ]
  },
  {
   "cell_type": "code",
   "execution_count": 6,
   "metadata": {},
   "outputs": [
    {
     "data": {
      "text/plain": [
       "<__main__.MiClase at 0x277708d5508>"
      ]
     },
     "execution_count": 6,
     "metadata": {},
     "output_type": "execute_result"
    }
   ],
   "source": [
    "mi_objeto"
   ]
  },
  {
   "cell_type": "code",
   "execution_count": null,
   "metadata": {
    "scrolled": true
   },
   "outputs": [],
   "source": [
    "help(mi_objeto)"
   ]
  },
  {
   "cell_type": "markdown",
   "metadata": {},
   "source": [
    "* La siguiente celda creará un objeto de tipo ```tuple``` con mombre ```tupla_objetos```, el cual contendrá cuatro instancias de ```MiClase```."
   ]
  },
  {
   "cell_type": "code",
   "execution_count": 9,
   "metadata": {},
   "outputs": [],
   "source": [
    "tupla_objetos = (MiClase(), MiClase(), MiClase(), MiClase())"
   ]
  },
  {
   "cell_type": "markdown",
   "metadata": {},
   "source": [
    "* La siguiente celda desplegará a cada elemento de ```tupla_objetos```, incluyendo su número identificador."
   ]
  },
  {
   "cell_type": "code",
   "execution_count": 11,
   "metadata": {},
   "outputs": [
    {
     "name": "stdout",
     "output_type": "stream",
     "text": [
      "<__main__.MiClase object at 0x000002777096B5C8> 2712013288904\n",
      "<__main__.MiClase object at 0x000002777096B548> 2712013288776\n",
      "<__main__.MiClase object at 0x000002777096B608> 2712013288968\n",
      "<__main__.MiClase object at 0x000002777096B6C8> 2712013289160\n"
     ]
    }
   ],
   "source": [
    "for item in tupla_objetos:\n",
    "    print(item, id(item))"
   ]
  },
  {
   "cell_type": "markdown",
   "metadata": {},
   "source": [
    "## La función ```isinstance()```.\n",
    "\n",
    "Para saber si un objeto es una instancia de una clase se utiliza la función ```isinstnace()```.\n",
    "\n",
    "Sintaxis:\n",
    "\n",
    "```\n",
    "isinstance( <objeto>, <clase>)\n",
    "```"
   ]
  },
  {
   "cell_type": "markdown",
   "metadata": {},
   "source": [
    "**Ejemplo:**"
   ]
  },
  {
   "cell_type": "markdown",
   "metadata": {},
   "source": [
    "* La siguiente celda evaluará si el objeto ```mi_objeto``` es instancia de la clase ```MiClase```."
   ]
  },
  {
   "cell_type": "code",
   "execution_count": 12,
   "metadata": {},
   "outputs": [
    {
     "data": {
      "text/plain": [
       "True"
      ]
     },
     "execution_count": 12,
     "metadata": {},
     "output_type": "execute_result"
    }
   ],
   "source": [
    "isinstance(mi_objeto, MiClase)"
   ]
  },
  {
   "cell_type": "markdown",
   "metadata": {},
   "source": [
    "Los objetos de tipo ```bool``` son clases que heredan a ```int```, por lo que ```True``` es una instancia de ```bool``` \n",
    "y también una instancia de ```int```."
   ]
  },
  {
   "cell_type": "markdown",
   "metadata": {},
   "source": [
    "* La siguiente celda evaluará si ```True``` es instancia de la clase ```int```."
   ]
  },
  {
   "cell_type": "code",
   "execution_count": 15,
   "metadata": {
    "scrolled": true
   },
   "outputs": [
    {
     "data": {
      "text/plain": [
       "True"
      ]
     },
     "execution_count": 15,
     "metadata": {},
     "output_type": "execute_result"
    }
   ],
   "source": [
    "isinstance(True, int)"
   ]
  },
  {
   "cell_type": "markdown",
   "metadata": {},
   "source": [
    "* La siguiente celda evaluará si ```True``` es instancias de la clase ```bool```."
   ]
  },
  {
   "cell_type": "code",
   "execution_count": null,
   "metadata": {},
   "outputs": [],
   "source": [
    "isinstance(True, bool)"
   ]
  },
  {
   "cell_type": "markdown",
   "metadata": {},
   "source": [
    "## El objeto  ```object```.\n",
    "\n",
    "Todos los tipos y clases en Python 3 heredan a ```object```.\n",
    "\n",
    "En Python 3 si no se indica, el intérprete da por sentado que la clase hereda a ```object```."
   ]
  },
  {
   "cell_type": "markdown",
   "metadata": {},
   "source": [
    "**Ejemplos:**"
   ]
  },
  {
   "cell_type": "markdown",
   "metadata": {},
   "source": [
    "* Se creará la clase ```MiClase``` sin usar paréntesis."
   ]
  },
  {
   "cell_type": "code",
   "execution_count": null,
   "metadata": {},
   "outputs": [],
   "source": [
    "class MiClase:\n",
    "    pass"
   ]
  },
  {
   "cell_type": "markdown",
   "metadata": {},
   "source": [
    "* ```MiClase``` es instancia de ```object```."
   ]
  },
  {
   "cell_type": "code",
   "execution_count": null,
   "metadata": {
    "scrolled": true
   },
   "outputs": [],
   "source": [
    "isinstance(MiClase, object)"
   ]
  },
  {
   "cell_type": "markdown",
   "metadata": {},
   "source": [
    "* Ahora se creará la clase ```MiClase_1``` usando parántesis, sin argumentos. "
   ]
  },
  {
   "cell_type": "code",
   "execution_count": null,
   "metadata": {},
   "outputs": [],
   "source": [
    "class MiClase_1():\n",
    "    pass"
   ]
  },
  {
   "cell_type": "markdown",
   "metadata": {},
   "source": [
    "* ```MiClase_1``` es instancia de ```object```."
   ]
  },
  {
   "cell_type": "code",
   "execution_count": null,
   "metadata": {
    "scrolled": false
   },
   "outputs": [],
   "source": [
    "isinstance(MiClase_1, object)"
   ]
  },
  {
   "cell_type": "markdown",
   "metadata": {},
   "source": [
    "* Ahora se creará la clase ```MiClase_2``` usando parántesis, e ingrsando ```object``` como argumento. "
   ]
  },
  {
   "cell_type": "code",
   "execution_count": null,
   "metadata": {},
   "outputs": [],
   "source": [
    "class MiClase_2(object):\n",
    "    pass"
   ]
  },
  {
   "cell_type": "markdown",
   "metadata": {},
   "source": [
    "* ```MiClase_2``` es instancia de ```object```."
   ]
  },
  {
   "cell_type": "code",
   "execution_count": null,
   "metadata": {
    "scrolled": true
   },
   "outputs": [],
   "source": [
    "isinstance(MiClase_2, object)"
   ]
  },
  {
   "cell_type": "markdown",
   "metadata": {},
   "source": [
    "### Definción de clases en Python 2.\n",
    "\n",
    "En Python 2 es obligatorio indicar que una clase hereda a ```object``` con la siguiente sintaxis:\n",
    "\n",
    "```\n",
    "class <nombre>(object):\n",
    "    ...\n",
    "    ...\n",
    "```"
   ]
  },
  {
   "cell_type": "markdown",
   "metadata": {
    "collapsed": true
   },
   "source": [
    "<p style=\"text-align: center\"><a rel=\"license\" href=\"http://creativecommons.org/licenses/by/4.0/\"><img alt=\"Licencia Creative Commons\" style=\"border-width:0\" src=\"https://i.creativecommons.org/l/by/4.0/80x15.png\" /></a><br />Esta obra está bajo una <a rel=\"license\" href=\"http://creativecommons.org/licenses/by/4.0/\">Licencia Creative Commons Atribución 4.0 Internacional</a>.</p>\n",
    "<p style=\"text-align: center\">&copy; José Luis Chiquete Valdivieso. 2020.</p>"
   ]
  }
 ],
 "metadata": {
  "kernelspec": {
   "display_name": "Python 3",
   "language": "python",
   "name": "python3"
  },
  "language_info": {
   "codemirror_mode": {
    "name": "ipython",
    "version": 3
   },
   "file_extension": ".py",
   "mimetype": "text/x-python",
   "name": "python",
   "nbconvert_exporter": "python",
   "pygments_lexer": "ipython3",
   "version": "3.7.6"
  }
 },
 "nbformat": 4,
 "nbformat_minor": 2
}
