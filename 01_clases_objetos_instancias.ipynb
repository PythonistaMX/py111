{
 "cells": [
  {
   "cell_type": "markdown",
   "metadata": {
    "collapsed": true
   },
   "source": [
    "[![pythonista.io](imagenes/pythonista.png)](https://pythonista.io)"
   ]
  },
  {
   "cell_type": "markdown",
   "metadata": {},
   "source": [
    "# Objetos, clases e instancias."
   ]
  },
  {
   "cell_type": "markdown",
   "metadata": {},
   "source": [
    "## Particularidades de Python.\n",
    "\n",
    "* Todo es un objeto, incluyendo los tipos y clases.\n",
    "* Tipos y clases son sinónimos.\n",
    "* Permite herencia múltiple.\n",
    "* No existen métodos ni atributos privados.\n",
    "* Los atributos pueden ser modificados directamente.\n",
    "* Las clases abstractas son opcionales, pero pueden ser implementadas.\n",
    "* Permite \"monkey patching\".\n",
    "* Permite \"duck typing\".\n",
    "* Permite \"mixins\".\n",
    "* Permite la sobrecarga de operadores.\n",
    "* Permite la creación de nuevos tipos de datos.\n",
    "\n",
    "## Clases y objetos.\n",
    "\n",
    "### Clases.\n",
    "\n",
    "Las clases son prototipos a partir de los cuales pueden crearse objetos que adquieren las propiedades, características y comportamientos definidos por las clases.\n",
    "\n",
    "\n",
    "### Definición de una clase.\n",
    "\n",
    "Por convención los nombres de clases utilizan el fomato \"CamelCase\".\n",
    "\n",
    "Sintaxis:\n",
    "\n",
    "```\n",
    "class <Nombre>(<superclase_1>, <superclase_2>... <superclase_n>):\n",
    "    ...\n",
    "    ...\n",
    "```\n",
    "Las clases en Python pueden \"heredar\" los componentes de otras clases definidas previamente a las que se conocen como \"superclases\" de la clase en cuestión. \n",
    "\n",
    "Si no se indica una superclase, no es necesario usar los paréntesis y la clase heredaría las características de _object_.\n",
    "\n",
    "La herencia es uno de los conceptos fundamentales de la programación orientada a objetos y se estudiará a profundidad en capítulos posteriores.\n",
    "\n",
    "**Ejemplo:**"
   ]
  },
  {
   "cell_type": "code",
   "execution_count": null,
   "metadata": {},
   "outputs": [],
   "source": [
    "class Clase:\n",
    "    '''Una clase básica.'''\n",
    "    pass"
   ]
  },
  {
   "cell_type": "code",
   "execution_count": null,
   "metadata": {
    "scrolled": true
   },
   "outputs": [],
   "source": [
    "help(Clase)"
   ]
  },
  {
   "cell_type": "code",
   "execution_count": null,
   "metadata": {},
   "outputs": [],
   "source": [
    "dir(Clase)"
   ]
  },
  {
   "cell_type": "markdown",
   "metadata": {},
   "source": [
    "## Objetos.\n",
    "\n",
    "Los objetos son las implementaciones de una clase. A la creación de un objeto a partir de una clase, se le llama \"instanciar\".\n",
    "\n",
    "Todos los elementos de Python son instancias de al menos una clase.\n",
    "\n",
    "Para crear un objeto se utiliza la siguiente sintaxis:\n",
    "\n",
    "```\n",
    "<Nombre de la Clase>(<argumentos>)\n",
    "```\n",
    "Si no se le asigna un nombre al objeto, este es desechado de inmediato por el intérprete de Python.\n",
    "\n",
    "**Ejemplo:**"
   ]
  },
  {
   "cell_type": "code",
   "execution_count": null,
   "metadata": {},
   "outputs": [],
   "source": [
    "Clase()"
   ]
  },
  {
   "cell_type": "code",
   "execution_count": null,
   "metadata": {},
   "outputs": [],
   "source": [
    "objeto = Clase()"
   ]
  },
  {
   "cell_type": "code",
   "execution_count": null,
   "metadata": {},
   "outputs": [],
   "source": [
    "objeto"
   ]
  },
  {
   "cell_type": "code",
   "execution_count": null,
   "metadata": {},
   "outputs": [],
   "source": [
    "help(objeto)"
   ]
  },
  {
   "cell_type": "code",
   "execution_count": null,
   "metadata": {},
   "outputs": [],
   "source": [
    "objetos = (Clase(), Clase(), Clase(), Clase())"
   ]
  },
  {
   "cell_type": "code",
   "execution_count": null,
   "metadata": {},
   "outputs": [],
   "source": [
    "for elemento in objetos:\n",
    "    print(id(elemento), elemento)"
   ]
  },
  {
   "cell_type": "markdown",
   "metadata": {},
   "source": [
    "## La función _isinstance()_.\n",
    "\n",
    "Para saber si un objeto es una instancia de una clase se utiliza la función _isinstnace()_.\n",
    "\n",
    "Sintaxis:\n",
    "\n",
    "```\n",
    "isinstance( <objeto>, <clase>)\n",
    "```\n",
    "**Ejemplo:**"
   ]
  },
  {
   "cell_type": "code",
   "execution_count": null,
   "metadata": {},
   "outputs": [],
   "source": [
    "isinstance(objeto, Clase)"
   ]
  },
  {
   "cell_type": "code",
   "execution_count": null,
   "metadata": {},
   "outputs": [],
   "source": [
    "isinstance(True, int)"
   ]
  },
  {
   "cell_type": "markdown",
   "metadata": {},
   "source": [
    "## El objeto  _object_.\n",
    "\n",
    "Todos los objetos, tipos  y clases en Python emanan de _object_, el cual a su vez es un objeto y una clase.\n",
    "\n",
    "En Python 2 es obligatorio indicar que una clase hereda a _object_ con la siguiente sintaxis:\n",
    "\n",
    "```\n",
    "class <nombre>(object):\n",
    "    ...\n",
    "    ...\n",
    "```\n",
    "En Python 3 si no se indica, el intérprete da por sentado que la clase hereda a _object_.\n",
    "\n",
    "**Ejemplos:**"
   ]
  },
  {
   "cell_type": "code",
   "execution_count": null,
   "metadata": {},
   "outputs": [],
   "source": [
    "class Clase:\n",
    "    pass"
   ]
  },
  {
   "cell_type": "code",
   "execution_count": null,
   "metadata": {},
   "outputs": [],
   "source": [
    "isinstance(Clase, object)"
   ]
  },
  {
   "cell_type": "code",
   "execution_count": null,
   "metadata": {},
   "outputs": [],
   "source": [
    "class Clase_1():\n",
    "    pass"
   ]
  },
  {
   "cell_type": "code",
   "execution_count": null,
   "metadata": {
    "scrolled": true
   },
   "outputs": [],
   "source": [
    "isinstance(Clase_1, object)"
   ]
  },
  {
   "cell_type": "code",
   "execution_count": null,
   "metadata": {},
   "outputs": [],
   "source": [
    "class Clase_2(object):\n",
    "    pass"
   ]
  },
  {
   "cell_type": "code",
   "execution_count": null,
   "metadata": {},
   "outputs": [],
   "source": [
    "isinstance(Clase_2, object)"
   ]
  },
  {
   "cell_type": "code",
   "execution_count": null,
   "metadata": {},
   "outputs": [],
   "source": [
    "issubclass(Clase, object)"
   ]
  },
  {
   "cell_type": "code",
   "execution_count": null,
   "metadata": {
    "scrolled": true
   },
   "outputs": [],
   "source": [
    "help(object)"
   ]
  },
  {
   "cell_type": "code",
   "execution_count": null,
   "metadata": {},
   "outputs": [],
   "source": [
    "dir(Clase)"
   ]
  },
  {
   "cell_type": "markdown",
   "metadata": {
    "collapsed": true
   },
   "source": [
    "<p style=\"text-align: center\"><a rel=\"license\" href=\"http://creativecommons.org/licenses/by/4.0/\"><img alt=\"Licencia Creative Commons\" style=\"border-width:0\" src=\"https://i.creativecommons.org/l/by/4.0/80x15.png\" /></a><br />Esta obra está bajo una <a rel=\"license\" href=\"http://creativecommons.org/licenses/by/4.0/\">Licencia Creative Commons Atribución 4.0 Internacional</a>.</p>\n",
    "<p style=\"text-align: center\">&copy; José Luis Chiquete Valdivieso. 2019.</p>"
   ]
  }
 ],
 "metadata": {
  "kernelspec": {
   "display_name": "Python 3",
   "language": "python",
   "name": "python3"
  },
  "language_info": {
   "codemirror_mode": {
    "name": "ipython",
    "version": 3
   },
   "file_extension": ".py",
   "mimetype": "text/x-python",
   "name": "python",
   "nbconvert_exporter": "python",
   "pygments_lexer": "ipython3",
   "version": "3.7.0"
  }
 },
 "nbformat": 4,
 "nbformat_minor": 2
}
