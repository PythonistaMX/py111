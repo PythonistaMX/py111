{
 "cells": [
  {
   "cell_type": "markdown",
   "metadata": {},
   "source": [
    "[![pythonista.io](imagenes/pythonista.png)](https://pythonista.io)"
   ]
  },
  {
   "cell_type": "markdown",
   "metadata": {},
   "source": [
    "# Herencia."
   ]
  },
  {
   "cell_type": "markdown",
   "metadata": {
    "collapsed": true
   },
   "source": [
    "Es posible crear nuevas clases a partir de una o varias clases mediante la herencia.\n",
    "La clase original se denomina \"superclase\" y la clase que hereda los atributos y métodos de la superclase se denomina \"subclase\".\n",
    "Se pueden definir atributos  y métodos adicionales a la superclase e incluso se pueden sobrescribir los atributos y métodos heredados en la subclase.\n",
    "\n",
    "La sintaxis de herencia es la siguiente:\n",
    "\n",
    "```\n",
    "class <nombre de la subclase>(<nombre de la superclase>):\n",
    "    ...\n",
    "    ...\n",
    "```\n",
    "**Ejemplo:**\n",
    "\n",
    "Se creará la clase _Estudiante_ a partir de la clase _Persona_."
   ]
  },
  {
   "cell_type": "code",
   "execution_count": null,
   "metadata": {},
   "outputs": [],
   "source": [
    "class Persona:\n",
    "    '''Clase base para creación de datos personales.'''\n",
    "    \n",
    "    def __init__(self):\n",
    "        '''Genera una clave única a partir de una estampa de tiempo y la relaciona con el atributo __clave.'''\n",
    "        from time import time\n",
    "        self.__clave = str(int(time() / 0.017))[1:]\n",
    "        \n",
    "    @property\n",
    "    \n",
    "    def clave(self):\n",
    "        '''Regresa el valor del atributo \"escondido\" __clave.'''\n",
    "        return self.__clave\n",
    "    \n",
    "    @property\n",
    "    def nombre(self):\n",
    "        '''Regresa una cadena de caracteres a partir de la lista contenida en lista_nombre.'''\n",
    "        return \" \".join(self.lista_nombre)\n",
    "    \n",
    "    @nombre.setter\n",
    "    def nombre(self, nombre):\n",
    "        '''Debe ingresarse una lista o tupla con entre 2 y 3 elementos.'''\n",
    "        if len(nombre) < 2 or len(nombre) > 3 or type(nombre) not in (list, tuple):\n",
    "            raise ValueError(\"Formato incorrecto.\")\n",
    "        else:\n",
    "            self.lista_nombre = nombre"
   ]
  },
  {
   "cell_type": "code",
   "execution_count": null,
   "metadata": {},
   "outputs": [],
   "source": [
    "dir(Persona)"
   ]
  },
  {
   "cell_type": "code",
   "execution_count": null,
   "metadata": {},
   "outputs": [],
   "source": [
    "class Estudiante(Persona):\n",
    "    '''Clase que hereda a Persona.'''\n",
    "    tira_de_materias = []\n",
    "    \n",
    "    def inscripcion(self, materia):\n",
    "        '''Añade elementos a tira_de_materias.'''\n",
    "        self.tira_de_materias.append(materia)        "
   ]
  },
  {
   "cell_type": "code",
   "execution_count": null,
   "metadata": {},
   "outputs": [],
   "source": [
    "alumno_1 = Estudiante()"
   ]
  },
  {
   "cell_type": "code",
   "execution_count": null,
   "metadata": {},
   "outputs": [],
   "source": [
    "alumno_1"
   ]
  },
  {
   "cell_type": "code",
   "execution_count": null,
   "metadata": {},
   "outputs": [],
   "source": [
    "alumno_1.inscripcion(\"Álgebra I\")"
   ]
  },
  {
   "cell_type": "code",
   "execution_count": null,
   "metadata": {},
   "outputs": [],
   "source": [
    "alumno_1.tira_de_materias"
   ]
  },
  {
   "cell_type": "code",
   "execution_count": null,
   "metadata": {
    "scrolled": false
   },
   "outputs": [],
   "source": [
    "help(Estudiante)"
   ]
  },
  {
   "cell_type": "code",
   "execution_count": null,
   "metadata": {},
   "outputs": [],
   "source": [
    "dir(Estudiante)"
   ]
  },
  {
   "cell_type": "code",
   "execution_count": null,
   "metadata": {},
   "outputs": [],
   "source": [
    "alumno_1.clave"
   ]
  },
  {
   "cell_type": "code",
   "execution_count": null,
   "metadata": {},
   "outputs": [],
   "source": [
    "alumno_1._Persona__clave"
   ]
  },
  {
   "cell_type": "code",
   "execution_count": null,
   "metadata": {},
   "outputs": [],
   "source": [
    "alumno_1.nombre"
   ]
  },
  {
   "cell_type": "code",
   "execution_count": null,
   "metadata": {},
   "outputs": [],
   "source": [
    "alumno_1.nombre=['Juan', 'Pérez']"
   ]
  },
  {
   "cell_type": "code",
   "execution_count": null,
   "metadata": {},
   "outputs": [],
   "source": [
    "alumno_1.nombre"
   ]
  },
  {
   "cell_type": "code",
   "execution_count": null,
   "metadata": {},
   "outputs": [],
   "source": [
    "alumno_1.lista_nombre"
   ]
  },
  {
   "cell_type": "markdown",
   "metadata": {},
   "source": [
    "## La función _issubclass()_.\n",
    "Para saber si una clase es subclase de otra, se utiliza la función _subclass()_.\n",
    "\n",
    "Sintaxis:\n",
    "\n",
    "```\n",
    "issubclass(<clase_1>, <clase_2>)\n",
    "```\n",
    "**Ejemplo:**"
   ]
  },
  {
   "cell_type": "code",
   "execution_count": null,
   "metadata": {},
   "outputs": [],
   "source": [
    "issubclass(alumno_1.__class__, Persona)"
   ]
  },
  {
   "cell_type": "code",
   "execution_count": null,
   "metadata": {},
   "outputs": [],
   "source": [
    "issubclass(Estudiante, Persona)"
   ]
  },
  {
   "cell_type": "code",
   "execution_count": null,
   "metadata": {},
   "outputs": [],
   "source": [
    "issubclass(Estudiante, object)"
   ]
  },
  {
   "cell_type": "markdown",
   "metadata": {},
   "source": [
    "## Sobrescritura de métodos con _super()_.\n",
    "\n",
    "En algunos casos es conveniente reutilizar parte del código de un método de una superclase que ha sido sobrescrito por el método de la subclase. \n",
    "\n",
    "La funcion _super()_ permite insertar el código del método de la superclase que ha sido sobrescrito.\n",
    "\n",
    "```\n",
    "class <SubClase>(<SuperClase>):\n",
    "    ...\n",
    "    ...\n",
    "    def <método>(<parámetros>):\n",
    "        ...\n",
    "        ...\n",
    "        super().<método de la superclase>(<argumentos>)\n",
    "        ...\n",
    "     ...\n",
    "```\n",
    "**Ejemplo:**"
   ]
  },
  {
   "cell_type": "code",
   "execution_count": null,
   "metadata": {},
   "outputs": [],
   "source": [
    "class Estudiante(Persona):\n",
    "    tira_de_materias = []\n",
    "    \n",
    "    def __init__(self, genero='otro'):\n",
    "        '''Añade el atributo genero al método __init__ de la superclase.'''\n",
    "        if genero.casefold() in ['masculino', 'femenino', 'otro']:\n",
    "            self.genero = genero\n",
    "        else:\n",
    "            raise ValueError\n",
    "        super().__init__()\n",
    "         \n",
    "    def inscripcion(self, materia):\n",
    "        '''Añade elementos a tira_de_materias.'''\n",
    "        self.tira_de_materias.append(materia)   "
   ]
  },
  {
   "cell_type": "code",
   "execution_count": null,
   "metadata": {},
   "outputs": [],
   "source": [
    "estudiante_2 = Estudiante('masculino')"
   ]
  },
  {
   "cell_type": "code",
   "execution_count": null,
   "metadata": {},
   "outputs": [],
   "source": [
    "estudiante_2.genero"
   ]
  },
  {
   "cell_type": "code",
   "execution_count": null,
   "metadata": {},
   "outputs": [],
   "source": [
    "estudiante_2.clave"
   ]
  },
  {
   "cell_type": "markdown",
   "metadata": {},
   "source": [
    "## Herencia múltiple.\n",
    "Python permite que una subclase pueda heredar de varias subclases. Sólo hay que ingresar el nombre de las subclases como argumentos en la definición de la clase.\n",
    "\n",
    "Sintaxis:\n",
    "\n",
    "```\n",
    "class <SubClase>(<SuperClase 1>, <SuperClase 2>, ..., <SuperClase n>)\n",
    "```\n",
    "\n",
    "La primera superclase que se ingrese sobrescribirá los atributos de la siguiente y así sucesivamente.\n",
    "\n",
    "**Ejemplo:**\n",
    "\n",
    "* En este caso, la clase _Ornitorrinco_ es subclase de _Reptil_ y _Manifero_, las cuales a su vez son subclases de _Animal_.\n",
    "* El método *\\_\\_init\\_\\_()* de _Ornitorrinco_ sobrescribe al método *\\_\\_init\\_\\_()* de _Animal_, pero es recuperado mediante la función _super()_.\n",
    "* Debido a que la superclase _Reptil_ fue ingresad antes que _Mamifero_ en _Ornitorrinco_, el método _reproduccion()_ de _Reptil_ es el que va a sobrescribir al resto."
   ]
  },
  {
   "cell_type": "code",
   "execution_count": null,
   "metadata": {},
   "outputs": [],
   "source": [
    "class Animal:\n",
    "    '''Clase base de todos los animales.'''\n",
    "    \n",
    "    def __init__(self, nombre):\n",
    "        self.nombre = nombre\n",
    "        print('Hola. Mi nombre es {}.'.format(self.nombre))\n",
    "    \n",
    "    def reproduccion(self):\n",
    "        '''Sólo define una interfaz.'''\n",
    "        pass\n",
    "    \n",
    "    def __del__(self):\n",
    "        print(\"El animal {} acaba de fallecer.\".format(self.nombre))"
   ]
  },
  {
   "cell_type": "code",
   "execution_count": null,
   "metadata": {},
   "outputs": [],
   "source": [
    "class Mamifero(Animal):\n",
    "    '''Clase que incluye actividades de los mamíferos.'''\n",
    "    \n",
    "    def reproduccion(self):\n",
    "        '''Es la implementación de la interfaz reproducción de la superclase.'''\n",
    "        print('Toma un cachorro.')\n",
    "        \n",
    "    def amamanta(self):\n",
    "        print('Toma un vaso de leche.')"
   ]
  },
  {
   "cell_type": "code",
   "execution_count": null,
   "metadata": {},
   "outputs": [],
   "source": [
    "class Reptil(Animal):\n",
    "    '''Clase que incluye actividades de los reptiles.'''\n",
    "    venenoso = True\n",
    "    def reproduccion(self):\n",
    "        '''Es la implementación de la interfaz reproducción de la superclase.'''\n",
    "        print('Toma un huevo.')\n",
    "    \n",
    "    def veneno(self):\n",
    "        if self.venenoso:\n",
    "            print(\"Estás envenenado.\")\n",
    "        else:\n",
    "            print(\"No soy venenoso.\")"
   ]
  },
  {
   "cell_type": "code",
   "execution_count": null,
   "metadata": {},
   "outputs": [],
   "source": [
    "class Ornitorrinco(Reptil, Mamifero):\n",
    "    '''Los ornitorrincos son animales muy raros.'''\n",
    "    \n",
    "    def __init__(self, nombre):\n",
    "        '''Despliega un texto y ejecuta elcódigo del método __init__() de la superclase.'''\n",
    "        super().__init__(nombre)\n",
    "        print('¿Pero qué es esto?')"
   ]
  },
  {
   "cell_type": "code",
   "execution_count": null,
   "metadata": {},
   "outputs": [],
   "source": [
    "help(Ornitorrinco)"
   ]
  },
  {
   "cell_type": "code",
   "execution_count": null,
   "metadata": {
    "scrolled": true
   },
   "outputs": [],
   "source": [
    "perry = Ornitorrinco(\"Agente P\")"
   ]
  },
  {
   "cell_type": "code",
   "execution_count": null,
   "metadata": {},
   "outputs": [],
   "source": [
    "perry.veneno()"
   ]
  },
  {
   "cell_type": "code",
   "execution_count": null,
   "metadata": {},
   "outputs": [],
   "source": [
    "perry.reproduccion()"
   ]
  },
  {
   "cell_type": "code",
   "execution_count": null,
   "metadata": {},
   "outputs": [],
   "source": [
    "perry.amamanta()"
   ]
  },
  {
   "cell_type": "code",
   "execution_count": null,
   "metadata": {},
   "outputs": [],
   "source": [
    "del perry"
   ]
  },
  {
   "cell_type": "code",
   "execution_count": null,
   "metadata": {},
   "outputs": [],
   "source": [
    "issubclass(Ornitorrinco, Reptil)"
   ]
  },
  {
   "cell_type": "code",
   "execution_count": null,
   "metadata": {},
   "outputs": [],
   "source": [
    "issubclass(Ornitorrinco, Mamifero)"
   ]
  },
  {
   "cell_type": "code",
   "execution_count": null,
   "metadata": {},
   "outputs": [],
   "source": [
    "issubclass(Ornitorrinco, Animal)"
   ]
  },
  {
   "cell_type": "markdown",
   "metadata": {
    "collapsed": true
   },
   "source": [
    "<p style=\"text-align: center\"><a rel=\"license\" href=\"http://creativecommons.org/licenses/by/4.0/\"><img alt=\"Licencia Creative Commons\" style=\"border-width:0\" src=\"https://i.creativecommons.org/l/by/4.0/80x15.png\" /></a><br />Esta obra está bajo una <a rel=\"license\" href=\"http://creativecommons.org/licenses/by/4.0/\">Licencia Creative Commons Atribución 4.0 Internacional</a>.</p>\n",
    "<p style=\"text-align: center\">&copy; José Luis Chiquete Valdivieso. 2019.</p>"
   ]
  }
 ],
 "metadata": {
  "kernelspec": {
   "display_name": "Python 3",
   "language": "python",
   "name": "python3"
  },
  "language_info": {
   "codemirror_mode": {
    "name": "ipython",
    "version": 3
   },
   "file_extension": ".py",
   "mimetype": "text/x-python",
   "name": "python",
   "nbconvert_exporter": "python",
   "pygments_lexer": "ipython3",
   "version": "3.6.6"
  }
 },
 "nbformat": 4,
 "nbformat_minor": 2
}
