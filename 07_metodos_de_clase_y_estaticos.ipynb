{
 "cells": [
  {
   "cell_type": "markdown",
   "metadata": {
    "collapsed": true
   },
   "source": [
    "[![pythonista.io](imagenes/pythonista.png)](https://pythonista.io)"
   ]
  },
  {
   "cell_type": "markdown",
   "metadata": {},
   "source": [
    "# Métodos de clase y métodos de estáticos."
   ]
  },
  {
   "cell_type": "markdown",
   "metadata": {},
   "source": [
    "Existen algunos casos en los que se requiera de extender o restringir el ámbito de un método. Los métodos de clase y los métodos estáticos son ejemplo de este tipo de casos."
   ]
  },
  {
   "cell_type": "markdown",
   "metadata": {
    "collapsed": true
   },
   "source": [
    "## Métodos de clase.\n",
    "\n",
    "Un método de clase puede modificar el estado de una clase, accediendo a los atributos de dicha clase, aún cuando el método es invocado desde un objeto. En lugar de definirse utilizando ```self``` como primer parámetro, se utiliza ```cls```. \n",
    "\n",
    "Los métodos de clase se definen con la siguiente sintaxis:\n",
    "\n",
    "```\n",
    "@classmethod\n",
    "def <nombre>(cls , <parámetros>):\n",
    "  ...\n",
    "```\n",
    "**Ejemplo:**"
   ]
  },
  {
   "cell_type": "code",
   "execution_count": null,
   "metadata": {},
   "outputs": [],
   "source": [
    "class PoblacionCensada():\n",
    "    '''Clase capaz de registrar la cantidad de habitantes de todas sus instancias.'''\n",
    "    poblacion = 0\n",
    "    '''Crea censos de población. '''\n",
    "    \n",
    "    @classmethod\n",
    "    def opera_poblacion(cls, operador, cantidad):\n",
    "        '''Método de clase que registra el número total de población de todas las instancias de la clase.'''\n",
    "        cls.poblacion = eval(str(cls.poblacion) + operador + str(cantidad))\n",
    "    \n",
    "    @classmethod\n",
    "    def despliega_total(cls):\n",
    "        '''Método de clase que despliega el atributo de clase cls. población.'''\n",
    "        return cls.poblacion\n",
    "    \n",
    "    def __init__(self, nombre, numero=0):\n",
    "        print(\"Se ha creado la población {} con {} habitantes.\".format(nombre, numero))\n",
    "        self.nombre = nombre\n",
    "        self.poblacion = numero\n",
    "        self.opera_poblacion('+', self.poblacion)   \n",
    "    \n",
    "    def __del__(self):\n",
    "        self.opera_poblacion('-', self.poblacion) "
   ]
  },
  {
   "cell_type": "code",
   "execution_count": null,
   "metadata": {},
   "outputs": [],
   "source": [
    "edomex = [PoblacionCensada(\"Tlalnepantla\", 600000), PoblacionCensada(\"Toluca\", 1000000),\n",
    "         PoblacionCensada(\"Valle de Chalco\", 750000), PoblacionCensada('Valle de Bravo', 100000)]"
   ]
  },
  {
   "cell_type": "code",
   "execution_count": null,
   "metadata": {},
   "outputs": [],
   "source": [
    "edomex[0].despliega_total()"
   ]
  },
  {
   "cell_type": "code",
   "execution_count": null,
   "metadata": {},
   "outputs": [],
   "source": [
    "PoblacionCensada.poblacion"
   ]
  },
  {
   "cell_type": "code",
   "execution_count": null,
   "metadata": {},
   "outputs": [],
   "source": [
    "edomex[0].poblacion"
   ]
  },
  {
   "cell_type": "code",
   "execution_count": null,
   "metadata": {},
   "outputs": [],
   "source": [
    "del edomex[1]"
   ]
  },
  {
   "cell_type": "code",
   "execution_count": null,
   "metadata": {},
   "outputs": [],
   "source": [
    "edomex[0].despliega_total()"
   ]
  },
  {
   "cell_type": "code",
   "execution_count": null,
   "metadata": {},
   "outputs": [],
   "source": [
    "for entidad in edomex:\n",
    "    print(entidad.nombre, entidad.poblacion)"
   ]
  },
  {
   "cell_type": "code",
   "execution_count": null,
   "metadata": {},
   "outputs": [],
   "source": [
    "PoblacionCensada.poblacion"
   ]
  },
  {
   "cell_type": "markdown",
   "metadata": {},
   "source": [
    "## Métodos estáticos.\n",
    "\n",
    "Los métodos estáticos están restringidos en su ámbito, de tal manera que no tienen acceso a los atributos del objeto. Se definen de forma idéntica a una función, sin necesidad de ingresar el parámetro inicial ```self```.\n",
    "\n",
    "Sintaxis:\n",
    "\n",
    "```\n",
    "@staticmethod\n",
    "def <nombre>(<parámetros>):\n",
    "  ...\n",
    "  ```\n",
    "  **Ejemplo:**"
   ]
  },
  {
   "cell_type": "code",
   "execution_count": null,
   "metadata": {},
   "outputs": [],
   "source": [
    "class Servidor:\n",
    "    '''Clase que emula a un servidor muy básico.'''\n",
    "    usuarios_activos = set(())\n",
    "    \n",
    "    def __init__(self, dominio, lista):\n",
    "        self.lista_usuarios = lista\n",
    "        self.dominio = dominio\n",
    "    \n",
    "    def conexion(self, usuario):\n",
    "        '''Conexión de un usuario válido al servidor.'''\n",
    "        if usuario in self.lista_usuarios:\n",
    "            self.usuarios_activos.add(usuario)\n",
    "        else:\n",
    "            return False\n",
    "        \n",
    "    @staticmethod\n",
    "    def ping(ip):\n",
    "        '''Regresa el ping a la IP de origen.'''\n",
    "        return (ip, \"ping\")        "
   ]
  },
  {
   "cell_type": "code",
   "execution_count": null,
   "metadata": {},
   "outputs": [],
   "source": [
    "server = Servidor(\"demo.pythonista.mx\", [\"josech\", \"juan\", \"mglez\", \"jklx\"])"
   ]
  },
  {
   "cell_type": "code",
   "execution_count": null,
   "metadata": {},
   "outputs": [],
   "source": [
    "server.ping(\"182.168.100.1\")"
   ]
  },
  {
   "cell_type": "code",
   "execution_count": null,
   "metadata": {},
   "outputs": [],
   "source": [
    "server.lista_usuarios"
   ]
  },
  {
   "cell_type": "code",
   "execution_count": null,
   "metadata": {},
   "outputs": [],
   "source": [
    "server.conexion('juan')"
   ]
  },
  {
   "cell_type": "code",
   "execution_count": null,
   "metadata": {},
   "outputs": [],
   "source": [
    "server.usuarios_activos"
   ]
  },
  {
   "cell_type": "markdown",
   "metadata": {
    "collapsed": true
   },
   "source": [
    "<p style=\"text-align: center\"><a rel=\"license\" href=\"http://creativecommons.org/licenses/by/4.0/\"><img alt=\"Licencia Creative Commons\" style=\"border-width:0\" src=\"https://i.creativecommons.org/l/by/4.0/80x15.png\" /></a><br />Esta obra está bajo una <a rel=\"license\" href=\"http://creativecommons.org/licenses/by/4.0/\">Licencia Creative Commons Atribución 4.0 Internacional</a>.</p>\n",
    "<p style=\"text-align: center\">&copy; José Luis Chiquete Valdivieso. 2020.</p>"
   ]
  }
 ],
 "metadata": {
  "kernelspec": {
   "display_name": "Python 3",
   "language": "python",
   "name": "python3"
  },
  "language_info": {
   "codemirror_mode": {
    "name": "ipython",
    "version": 3
   },
   "file_extension": ".py",
   "mimetype": "text/x-python",
   "name": "python",
   "nbconvert_exporter": "python",
   "pygments_lexer": "ipython3",
   "version": "3.7.6"
  }
 },
 "nbformat": 4,
 "nbformat_minor": 2
}
