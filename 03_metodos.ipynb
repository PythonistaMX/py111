{
 "cells": [
  {
   "cell_type": "markdown",
   "metadata": {
    "collapsed": true
   },
   "source": [
    "[![pythonista.io](imagenes/pythonista.png)](https://pythonista.io)"
   ]
  },
  {
   "cell_type": "markdown",
   "metadata": {},
   "source": [
    "# Métodos."
   ]
  },
  {
   "cell_type": "markdown",
   "metadata": {},
   "source": [
    "Los métodos son un tipo especial de atributo que corresponde a un objeto invocable (callable) muy parecido a una función.\n",
    "\n",
    "\n",
    "## Definición de un método.\n",
    "\n",
    "Los métodos deben ser definidos en una clase.\n",
    "\n",
    "```\n",
    "class <Clase>():\n",
    "   ...\n",
    "   def <método>(self, <parámetro 1>, <parámetro 2>, ...,<parámetro n>):\n",
    "      ...\n",
    "  ...\n",
    "  ```\n",
    "  \n",
    "Donde:\n",
    "\n",
    "   * ```<Clase>``` es la clase que contendrá al método.\n",
    "   * ```<método>``` es el nombre del método.\n",
    "   * ```<parámetro x>``` el un parámetro del método.\n",
    "\n",
    "La definición de un método siempre debe de incluir un parámetro inicial el cual no será utilizado, pero le indica a Python la naturaleza del objeto. Por convención, ese parámetro lleva el nombre ```self```."
   ]
  },
  {
   "cell_type": "markdown",
   "metadata": {},
   "source": [
    "**Ejemplo:**"
   ]
  },
  {
   "cell_type": "markdown",
   "metadata": {},
   "source": [
    "* La definición de la clase ```Modales``` contiene al método ```saludo()``` y define 2 parámetros.\n",
    "* ```self```.\n",
    "* ```nombre=\"vecino\"```."
   ]
  },
  {
   "cell_type": "code",
   "execution_count": null,
   "metadata": {},
   "outputs": [],
   "source": [
    "class Modales():\n",
    "    \"\"\"Clase con un método\"\"\"\n",
    "    def saluda(self, nombre=\"vecino\"):\n",
    "        \"\"\"Función que saluda.\"\"\"\n",
    "        return \"Hola, {}.\".format(nombre); "
   ]
  },
  {
   "cell_type": "markdown",
   "metadata": {},
   "source": [
    "## Ejecución de un método.\n",
    "\n",
    "Los métodos sólo pueden ser ejecutados desde un objeto instanciado. \n",
    "\n",
    "```\n",
    "<objeto>.<método>(<argumento 1>, <argumento 2>, ...,  <argumento n>)\n",
    "```\n",
    "\n",
    "Donde:\n",
    "\n",
    "   * ```<objeto>``` es el objeto instanciado de la clase que contiene al método.\n",
    "   * ```<método>``` es el nombre del método.\n",
    "   * ```<argumento x>``` es un argumento. Ninguno de estos argumentos será asignado al parámetro ```self```.\n",
    "   \n",
    "**Nota:** En un próximo capítulo se estudiarán los métodos de clase."
   ]
  },
  {
   "cell_type": "markdown",
   "metadata": {},
   "source": [
    "**Ejemplo:**"
   ]
  },
  {
   "cell_type": "markdown",
   "metadata": {},
   "source": [
    "* Se creará una instancia de ```Modales``` de nombre ```vecino```. "
   ]
  },
  {
   "cell_type": "code",
   "execution_count": null,
   "metadata": {},
   "outputs": [],
   "source": [
    "vecino = Modales()"
   ]
  },
  {
   "cell_type": "markdown",
   "metadata": {},
   "source": [
    "* Se ejecutará el método ```vecino.salida()``` sin argumentos. "
   ]
  },
  {
   "cell_type": "code",
   "execution_count": null,
   "metadata": {},
   "outputs": [],
   "source": [
    "vecino.saluda()"
   ]
  },
  {
   "cell_type": "markdown",
   "metadata": {},
   "source": [
    "* Se ejecutará el método ```vecino.salida()``` ingresando el argumento ```\"Juan\"```. Dicho argumento será asignado al parámetro ```nombre``` de dicho método."
   ]
  },
  {
   "cell_type": "code",
   "execution_count": null,
   "metadata": {},
   "outputs": [],
   "source": [
    "vecino.saluda(\"Juan\")"
   ]
  },
  {
   "cell_type": "markdown",
   "metadata": {},
   "source": [
    "* Al intentar ejecutar el método ```saluda()``` directamente desde la clase ```Modales```, se generará un error de tipo ```TypeError```."
   ]
  },
  {
   "cell_type": "code",
   "execution_count": null,
   "metadata": {},
   "outputs": [],
   "source": [
    "Modales.saluda()"
   ]
  },
  {
   "cell_type": "markdown",
   "metadata": {},
   "source": [
    "## Acceso a los atributos en un objeto.\n",
    "\n",
    "Además de que los métodos cuentan con ámbitos de forma similar a las funciones, también es posible que los métodos accedan a los atributos del objeto al que pertence.\n",
    "\n",
    "Para hacer referencia a un atributo dentro del objeto en el que también se encuentra un método, se utiliza la siguiente sintaxis:\n",
    "\n",
    "```\n",
    "self.<atributo>\n",
    "```\n",
    "\n",
    "Donde:\n",
    "\n",
    "* ```<atributo>``` es un atributo del objeto.\n",
    "\n",
    "Siendo que los métodos son un tipo de atributo, es posible invocar a otro método dentro del objeto de la siguiente forma:\n",
    "\n",
    "```\n",
    "self.<nombre del método>(<argumentos>)\n",
    "```"
   ]
  },
  {
   "cell_type": "markdown",
   "metadata": {},
   "source": [
    "**Ejemplo:**"
   ]
  },
  {
   "cell_type": "markdown",
   "metadata": {},
   "source": [
    "* La clase ```PrismaRectangular``` contiene a:\n",
    "   * El atributo ```lado``` que contiene al objeto ```1```.\n",
    "   * El atributo ```altura``` que contiene al objeto ```1```.\n",
    "   * El método ```superficie()```, el cual accede a:\n",
    "       * El atributo ```lado```.\n",
    "   * El método ```volumen()```, el cual accede a:\n",
    "       * El atributo ```altura```.\n",
    "       * El método ```superficie()```."
   ]
  },
  {
   "cell_type": "code",
   "execution_count": null,
   "metadata": {},
   "outputs": [],
   "source": [
    "class PrismaRectangular:\n",
    "    \"\"\"Clase para calcular área de la base y volúmen de un\n",
    "    prisma rectangular.\"\"\"\n",
    "    lado = 1\n",
    "    altura = 1\n",
    "    \n",
    "    def superficie(self):\n",
    "        \"\"\"Calcula la superficie de la base.\"\"\"\n",
    "        return self.lado ** 2\n",
    "    \n",
    "    def volumen(self):\n",
    "        \"\"\"Calcula el volumen del prisma.\"\"\"\n",
    "        return self.superficie() * self.altura "
   ]
  },
  {
   "cell_type": "markdown",
   "metadata": {},
   "source": [
    "* Se creará una instancia de ```PrismaRectangular``` con nombre ```cubo``` y se ejecutarán los métodos:\n",
    "    * ```cubo.superficie()```.\n",
    "    * ```cubo.volumen()```."
   ]
  },
  {
   "cell_type": "code",
   "execution_count": null,
   "metadata": {},
   "outputs": [],
   "source": [
    "cubo = PrismaRectangular()"
   ]
  },
  {
   "cell_type": "code",
   "execution_count": null,
   "metadata": {},
   "outputs": [],
   "source": [
    "cubo.superficie()"
   ]
  },
  {
   "cell_type": "code",
   "execution_count": null,
   "metadata": {},
   "outputs": [],
   "source": [
    "cubo.volumen()"
   ]
  },
  {
   "cell_type": "markdown",
   "metadata": {},
   "source": [
    "###  Creación y modificación de atributos dentro de un método.\n",
    "\n",
    "Para modificar o añadir un atributo desde un método se utiliza el operador de asignación ```=```.\n",
    "\n",
    "```\n",
    "self.<atributo> = <objeto>\n",
    "```\n",
    "\n",
    "Donde:\n",
    "\n",
    "* ```<atributo>``` es un atributo del objeto. En caso de que el atributo no exista, éste será creado.\n",
    "* ```<objeto>``` es el objeto que se le asignará al atributo."
   ]
  },
  {
   "cell_type": "markdown",
   "metadata": {},
   "source": [
    "**Ejemplo:**"
   ]
  },
  {
   "cell_type": "markdown",
   "metadata": {},
   "source": [
    "* La clase ```CirculoExtrusible``` contiene a:\n",
    "   * El atributo ```radio``` que contiene al objeto ```1```.\n",
    "   * El método ```superficie()```, el cual:\n",
    "       * Accede al atributo ```radio```.\n",
    "   * El método ```volumen()```, el cual:\n",
    "       * Accede al método ```superficie()```.\n",
    "       * Modifica o crea el atributo ```altura```."
   ]
  },
  {
   "cell_type": "code",
   "execution_count": null,
   "metadata": {},
   "outputs": [],
   "source": [
    "class CirculoExtrusible:\n",
    "    \"\"\"Clase que calcula los datos de un círculo y de un cilindro.\"\"\"\n",
    "    radio = 1\n",
    "    \n",
    "    def superficie(self):\n",
    "        \"\"\"Calcula la superficie de la base circular.\"\"\"\n",
    "        return 3.1519265 * self.radio ** 2\n",
    "        \n",
    "    def volumen(self, altura=None):\n",
    "        \"\"\"Calcula el volumen del cilindro a partir de altura y crea\n",
    "        el atributo altura.\"\"\"\n",
    "        if altura:\n",
    "            self.altura = altura\n",
    "        return self.superficie() * self.altura"
   ]
  },
  {
   "cell_type": "markdown",
   "metadata": {},
   "source": [
    "* Se creará una instancia de ```CirculoExtrusible``` con nombre ```cilindro```."
   ]
  },
  {
   "cell_type": "code",
   "execution_count": null,
   "metadata": {},
   "outputs": [],
   "source": [
    "cilindro = CirculoExtrusible()"
   ]
  },
  {
   "cell_type": "markdown",
   "metadata": {},
   "source": [
    "* Se asignará el objeto ```3``` al atributo ```cilindro.radio```."
   ]
  },
  {
   "cell_type": "code",
   "execution_count": null,
   "metadata": {},
   "outputs": [],
   "source": [
    "cilindro.radio = 3"
   ]
  },
  {
   "cell_type": "markdown",
   "metadata": {},
   "source": [
    "* Se verificará si el objeto ```cilindro``` contiene al atributo ```altura```. El resultado será ```False```."
   ]
  },
  {
   "cell_type": "code",
   "execution_count": null,
   "metadata": {},
   "outputs": [],
   "source": [
    "hasattr(cilindro, \"altura\")"
   ]
  },
  {
   "cell_type": "markdown",
   "metadata": {},
   "source": [
    "* Se ejecutará el método ```cilindro.volumen()``` sin ingresar un argumento y sin definir al atributo ```altura```, lo cual desencadenará un error de tipo ```AttributeError```."
   ]
  },
  {
   "cell_type": "code",
   "execution_count": null,
   "metadata": {
    "scrolled": true
   },
   "outputs": [],
   "source": [
    "cilindro.volumen()"
   ]
  },
  {
   "cell_type": "markdown",
   "metadata": {},
   "source": [
    "* Se ejecutará el método ```cilindro.volumen()``` ingresando ```5``` como argumento."
   ]
  },
  {
   "cell_type": "code",
   "execution_count": null,
   "metadata": {},
   "outputs": [],
   "source": [
    "cilindro.volumen(5)"
   ]
  },
  {
   "cell_type": "markdown",
   "metadata": {},
   "source": [
    "* Ahora el atributo ```cilindro.altura``` fue creado y se le a asignado el objeto ```5```."
   ]
  },
  {
   "cell_type": "code",
   "execution_count": null,
   "metadata": {},
   "outputs": [],
   "source": [
    "cilindro.altura"
   ]
  },
  {
   "cell_type": "markdown",
   "metadata": {},
   "source": [
    "* Debido a que ya existe el atributo ```cilindro.altura```, es posible ejecutar ```cilindro.volumen()``` sin argumentos."
   ]
  },
  {
   "cell_type": "code",
   "execution_count": null,
   "metadata": {
    "scrolled": true
   },
   "outputs": [],
   "source": [
    "cilindro.volumen()"
   ]
  },
  {
   "cell_type": "markdown",
   "metadata": {},
   "source": [
    "### Ámbitos en los métodos.\n",
    "\n",
    "De forma idéntica a las funciones, los métodos tienen un ámbito local y pueden acceder al ámbito global."
   ]
  },
  {
   "cell_type": "markdown",
   "metadata": {},
   "source": [
    "**Ejemplo:**"
   ]
  },
  {
   "cell_type": "markdown",
   "metadata": {},
   "source": [
    "* La clase ```CirculoSinPi``` contiene a:\n",
    "   * El atributo ```radio``` que contiene al objeto ```1```.\n",
    "   * El método ```superficie()```, el cual:\n",
    "       * Accede al atributo ```radio```.\n",
    "   * El método ```volumen()```, el cual:\n",
    "       * Accede al método ```superficie()```.\n",
    "       * Modifica o crea el atributo ```altura```.\n",
    "       * Hace referencia al nombre ```pi```, pero no es definido dentro de dicho método."
   ]
  },
  {
   "cell_type": "code",
   "execution_count": null,
   "metadata": {},
   "outputs": [],
   "source": [
    "class CirculoSinPi:\n",
    "    \"\"\"Clase que calcula los datos de un círculo y de un cilindro.\"\"\"\n",
    "    radio = 1\n",
    "    \n",
    "    def superficie(self):\n",
    "        \"\"\"Calcula la superficie de la base circular sin\n",
    "        definir a pi.\"\"\"\n",
    "        return pi * self.radio ** 2\n",
    "        \n",
    "    def volumen(self, altura=None):\n",
    "        \"\"\"Calcula el volumen del cilindro a partir de altura y crea\n",
    "        el atributo altura.\"\"\"\n",
    "        if altura:\n",
    "            self.altura = altura\n",
    "        return self.superficie() * self.altura"
   ]
  },
  {
   "cell_type": "markdown",
   "metadata": {},
   "source": [
    "* Se creará una instancia de ```CirculoSinPi``` de nombre ```rueda```."
   ]
  },
  {
   "cell_type": "code",
   "execution_count": null,
   "metadata": {},
   "outputs": [],
   "source": [
    "rueda = CirculoSinPi()"
   ]
  },
  {
   "cell_type": "markdown",
   "metadata": {},
   "source": [
    "* Se intentará ejecutar al método ```rueda.volumen()```ingresando el argumento ```7```.\n",
    "    * El atributo ```altura ``` es creado.\n",
    "    * El método hace referencia al nombre ```pi```, el cual no existe en el ámbito del método y tampoco en el ámbito global, desencadenará un error de tipo ```NameError```."
   ]
  },
  {
   "cell_type": "code",
   "execution_count": null,
   "metadata": {},
   "outputs": [],
   "source": [
    "rueda.volumen(12)"
   ]
  },
  {
   "cell_type": "code",
   "execution_count": null,
   "metadata": {},
   "outputs": [],
   "source": [
    "rueda.altura"
   ]
  },
  {
   "cell_type": "markdown",
   "metadata": {},
   "source": [
    "* La siguiente celda importará al obneto ```pi``` del módulo ```math``` y lo guardará en el ámbito global."
   ]
  },
  {
   "cell_type": "code",
   "execution_count": null,
   "metadata": {},
   "outputs": [],
   "source": [
    "from math import pi"
   ]
  },
  {
   "cell_type": "markdown",
   "metadata": {},
   "source": [
    "* Ahora es posible ejecutar el método ```rueda.volumen()``` sin argumentos."
   ]
  },
  {
   "cell_type": "code",
   "execution_count": null,
   "metadata": {},
   "outputs": [],
   "source": [
    "rueda.volumen()"
   ]
  },
  {
   "cell_type": "markdown",
   "metadata": {},
   "source": [
    "## Agregación de funciones a  objetos (monkey patching).\n",
    "\n",
    "Python permite agregar funciones a objetos como si fueran un atributo más. \n",
    "Debido a que los métodos utilizan el parámetro ```self```, si se intenta añadir una función a una clase, está no funcionaría como si fuera un método."
   ]
  },
  {
   "cell_type": "markdown",
   "metadata": {},
   "source": [
    "**Ejemplo:**"
   ]
  },
  {
   "cell_type": "markdown",
   "metadata": {},
   "source": [
    "Se definirá la clase ```Animal```, la cual incluye al único atributo ```nombre``` al que se le asigna el objeto ```\"Fido\"```."
   ]
  },
  {
   "cell_type": "code",
   "execution_count": null,
   "metadata": {},
   "outputs": [],
   "source": [
    "class Animal:\n",
    "    nombre = \"Fido\""
   ]
  },
  {
   "cell_type": "markdown",
   "metadata": {},
   "source": [
    "* Se creará al objetos de tipo ```tuple``` con nombre ```perros```, el cual contendrá dos instancias de ```Animal```."
   ]
  },
  {
   "cell_type": "code",
   "execution_count": null,
   "metadata": {},
   "outputs": [],
   "source": [
    "perros = (Animal(), Animal())"
   ]
  },
  {
   "cell_type": "markdown",
   "metadata": {},
   "source": [
    "* Se creará una instancia de ```Animal```con nombre ```gato```."
   ]
  },
  {
   "cell_type": "code",
   "execution_count": null,
   "metadata": {},
   "outputs": [],
   "source": [
    "gato = Animal()"
   ]
  },
  {
   "cell_type": "markdown",
   "metadata": {},
   "source": [
    "* Se definirá la función ```maulla()```."
   ]
  },
  {
   "cell_type": "code",
   "execution_count": null,
   "metadata": {},
   "outputs": [],
   "source": [
    "def maulla():\n",
    "    print(\"miau\")"
   ]
  },
  {
   "cell_type": "code",
   "execution_count": null,
   "metadata": {},
   "outputs": [],
   "source": [
    "type(maulla)"
   ]
  },
  {
   "cell_type": "markdown",
   "metadata": {},
   "source": [
    "* Se creará el atributo ```gato.ruido``` al que se le asignará la función ```maulla```."
   ]
  },
  {
   "cell_type": "code",
   "execution_count": null,
   "metadata": {},
   "outputs": [],
   "source": [
    "gato.ruido = maulla"
   ]
  },
  {
   "cell_type": "markdown",
   "metadata": {},
   "source": [
    "* Ahora el objeto gato puede ejecutar al atributo ```ruido``` como una función."
   ]
  },
  {
   "cell_type": "code",
   "execution_count": null,
   "metadata": {},
   "outputs": [],
   "source": [
    "gato.ruido()"
   ]
  },
  {
   "cell_type": "markdown",
   "metadata": {},
   "source": [
    "* Se definirá la función ```duerme()```."
   ]
  },
  {
   "cell_type": "code",
   "execution_count": null,
   "metadata": {},
   "outputs": [],
   "source": [
    "def duerme():\n",
    "    print(\"zzzz\")"
   ]
  },
  {
   "cell_type": "markdown",
   "metadata": {},
   "source": [
    "* Se creará el atributo ```Animal.ronca```, asignándole la función ```duerme```."
   ]
  },
  {
   "cell_type": "code",
   "execution_count": null,
   "metadata": {},
   "outputs": [],
   "source": [
    "Animal.ronca = duerme"
   ]
  },
  {
   "cell_type": "markdown",
   "metadata": {},
   "source": [
    "* Ahora todas las instancias de ```Animal```tienen el atributo ```ronca```."
   ]
  },
  {
   "cell_type": "code",
   "execution_count": null,
   "metadata": {},
   "outputs": [],
   "source": [
    "for item in perros:\n",
    "    print(hasattr(item, \"ronca\"))"
   ]
  },
  {
   "cell_type": "code",
   "execution_count": null,
   "metadata": {
    "scrolled": true
   },
   "outputs": [],
   "source": [
    "hasattr(gato, \"ronca\")"
   ]
  },
  {
   "cell_type": "markdown",
   "metadata": {},
   "source": [
    "* Debido a que la función ```duerme``` no define un parámetro ```self```, esto provocará un error de tipo ```TypeError``` al tratar de ejecutar el atributo ```ronca``` como una función."
   ]
  },
  {
   "cell_type": "code",
   "execution_count": null,
   "metadata": {},
   "outputs": [],
   "source": [
    "gato.ronca()"
   ]
  },
  {
   "cell_type": "markdown",
   "metadata": {},
   "source": [
    "## Añadidura de métodos a clases.\n",
    "\n",
    "Los métodos requieren que en su definición exista ```self``` como primer parámentro."
   ]
  },
  {
   "cell_type": "markdown",
   "metadata": {},
   "source": [
    "**Ejemplo:**"
   ]
  },
  {
   "cell_type": "markdown",
   "metadata": {},
   "source": [
    "* Tanto el nombre ```duerme```, como el atributo ```Animal.ronca``` hacen referencia al mismo objeto."
   ]
  },
  {
   "cell_type": "code",
   "execution_count": null,
   "metadata": {},
   "outputs": [],
   "source": [
    "id(duerme)"
   ]
  },
  {
   "cell_type": "code",
   "execution_count": null,
   "metadata": {},
   "outputs": [],
   "source": [
    "id(Animal.ronca)"
   ]
  },
  {
   "cell_type": "markdown",
   "metadata": {},
   "source": [
    "* Se definirá nuevamente a la función ```duerme()```, pero ahora incluyendo ```self``` como parámetro. "
   ]
  },
  {
   "cell_type": "code",
   "execution_count": null,
   "metadata": {},
   "outputs": [],
   "source": [
    "def duerme(self):\n",
    "    print(\"zzzzz\")"
   ]
  },
  {
   "cell_type": "markdown",
   "metadata": {},
   "source": [
    "* Ahora el objeto ```duerme``` hace referencia a un objeto distinto al atributo ```Animal.ronca```."
   ]
  },
  {
   "cell_type": "code",
   "execution_count": null,
   "metadata": {},
   "outputs": [],
   "source": [
    "id(duerme)"
   ]
  },
  {
   "cell_type": "code",
   "execution_count": null,
   "metadata": {},
   "outputs": [],
   "source": [
    "id(Animal.ronca)"
   ]
  },
  {
   "cell_type": "markdown",
   "metadata": {},
   "source": [
    "* La siguiente celda sustituirá al objeto ligado al atributo ```Animal.ronca``` con el nuevo objeto de nombre ```duerme```."
   ]
  },
  {
   "cell_type": "code",
   "execution_count": null,
   "metadata": {},
   "outputs": [],
   "source": [
    "Animal.ronca = duerme"
   ]
  },
  {
   "cell_type": "markdown",
   "metadata": {},
   "source": [
    "* Ahora el atributo ```Animal.ronca``` puede ser usado adecuadamente como un método."
   ]
  },
  {
   "cell_type": "markdown",
   "metadata": {},
   "source": [
    "gato.ronca()"
   ]
  },
  {
   "cell_type": "markdown",
   "metadata": {
    "collapsed": true
   },
   "source": [
    "<p style=\"text-align: center\"><a rel=\"license\" href=\"http://creativecommons.org/licenses/by/4.0/\"><img alt=\"Licencia Creative Commons\" style=\"border-width:0\" src=\"https://i.creativecommons.org/l/by/4.0/80x15.png\" /></a><br />Esta obra está bajo una <a rel=\"license\" href=\"http://creativecommons.org/licenses/by/4.0/\">Licencia Creative Commons Atribución 4.0 Internacional</a>.</p>\n",
    "<p style=\"text-align: center\">&copy; José Luis Chiquete Valdivieso. 2020.</p>"
   ]
  }
 ],
 "metadata": {
  "kernelspec": {
   "display_name": "Python 3",
   "language": "python",
   "name": "python3"
  },
  "language_info": {
   "codemirror_mode": {
    "name": "ipython",
    "version": 3
   },
   "file_extension": ".py",
   "mimetype": "text/x-python",
   "name": "python",
   "nbconvert_exporter": "python",
   "pygments_lexer": "ipython3",
   "version": "3.7.6"
  }
 },
 "nbformat": 4,
 "nbformat_minor": 2
}
