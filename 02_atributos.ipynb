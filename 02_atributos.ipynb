{
 "cells": [
  {
   "cell_type": "markdown",
   "metadata": {
    "collapsed": true
   },
   "source": [
    "[![pythonista.io](imagenes/pythonista.png)](https://pythonista.io)"
   ]
  },
  {
   "cell_type": "markdown",
   "metadata": {},
   "source": [
    "# Atributos."
   ]
  },
  {
   "cell_type": "markdown",
   "metadata": {},
   "source": [
    "Los atributos son objetos que pueden ser añadidos a una clase mediante un nombre y pueden ser creados mediante la siguiente sintaxis.\n",
    "\n",
    "```\n",
    "class <Clase>():\n",
    "    ...\n",
    "    <atributo> = <objeto>\n",
    "    ...\n",
    "```\n",
    "\n",
    "Donde:\n",
    "\n",
    "   * ```<Clase>``` es la clase que contendrá al atributo.\n",
    "   * ```<atributo>``` es el nombre del atributo.\n",
    "   * ```<objeto>``` el es objeto que se le asignará al atributo.\n",
    "\n",
    "Para acceder al atributo se utiliza el operador de atributo, el cual corresponde a un punto ```.```.\n",
    "\n",
    "```\n",
    "<Nombre>.<nombre_de_atributo>\n",
    "```\n",
    "\n",
    "En caso de hacer referencia a un atributo inexistente se generará un error de tipo ```AttributeError```."
   ]
  },
  {
   "cell_type": "markdown",
   "metadata": {},
   "source": [
    "## Estado de una clase/objeto.\n",
    "\n",
    "Al conjunto de valores contenidos en los atributos de un objeto o clase se le conoce como \"estado\".\n",
    "\n",
    "**Nota:**  A diferencia de otros lenguajes de programación, las clases en Python pueden cambiar de estado."
   ]
  },
  {
   "cell_type": "markdown",
   "metadata": {},
   "source": [
    "### La función ```dir()```.\n",
    "\n",
    "La función ```dir()``` regresará un objeto de tipo ```list``` el cual contiene a una colección de objetos de tipo ```str``` enlistando los nombres de los atributos del objeto ingresado como argumento.\n",
    "\n",
    "```\n",
    "dir(<objeto>)\n",
    "```\n",
    "\n",
    "Donde:\n",
    "\n",
    "* ```<objeto>``` es cualquier objeto. En caso de no ingresar un argumento, el objeto por defecto es el espacio de nombres del intérprete."
   ]
  },
  {
   "cell_type": "markdown",
   "metadata": {},
   "source": [
    "**Ejemplo:**"
   ]
  },
  {
   "cell_type": "markdown",
   "metadata": {},
   "source": [
    "* La siguiente celda definirá a la clase ```Cuadrado``` la cual contiene al atributo ```lado``` equivalente a ```1```."
   ]
  },
  {
   "cell_type": "code",
   "execution_count": null,
   "metadata": {},
   "outputs": [],
   "source": [
    "class Cuadrado():\n",
    "    '''Clase que ejemplifica el uso de atributos.'''\n",
    "    lado = 1"
   ]
  },
  {
   "cell_type": "markdown",
   "metadata": {},
   "source": [
    "* La siguiente celda desplegará los atributos de la clase ```Cuadrado```. Además de los atributos heredados de ```object``` se enlistará el nombre ```'lado'```."
   ]
  },
  {
   "cell_type": "code",
   "execution_count": null,
   "metadata": {
    "scrolled": false
   },
   "outputs": [],
   "source": [
    "dir(Cuadrado)"
   ]
  },
  {
   "cell_type": "markdown",
   "metadata": {},
   "source": [
    "* La siguiente celda regresará el contenido del atributo ```Cuadrado.lado```, correspondiente a ```1```."
   ]
  },
  {
   "cell_type": "code",
   "execution_count": null,
   "metadata": {},
   "outputs": [],
   "source": [
    "Cuadrado.lado"
   ]
  },
  {
   "cell_type": "markdown",
   "metadata": {},
   "source": [
    "* La siguiente celda hará referencia al atributo ```Cuadrado.unidades```, el cual no exsite. Desencadenando un error de tipo ```AttributeError```."
   ]
  },
  {
   "cell_type": "code",
   "execution_count": null,
   "metadata": {
    "scrolled": true
   },
   "outputs": [],
   "source": [
    "Cuadrado.unidades"
   ]
  },
  {
   "cell_type": "markdown",
   "metadata": {},
   "source": [
    "* La siguiente celda definirá al objeto de nombre ```cuadros```, el cual es de tipo ```tuple``` y contendrá cuatro instancias de ```Cuadrado```."
   ]
  },
  {
   "cell_type": "code",
   "execution_count": null,
   "metadata": {},
   "outputs": [],
   "source": [
    "cuadros = (Cuadrado(), Cuadrado(), Cuadrado(), Cuadrado())"
   ]
  },
  {
   "cell_type": "markdown",
   "metadata": {},
   "source": [
    "* La siguiente celda desplegará a cada elemento de ```cuadros```."
   ]
  },
  {
   "cell_type": "code",
   "execution_count": null,
   "metadata": {
    "scrolled": true
   },
   "outputs": [],
   "source": [
    "for item in cuadros:\n",
    "    print(item)"
   ]
  },
  {
   "cell_type": "markdown",
   "metadata": {},
   "source": [
    "Cada objeto instanciado de ```Cuadrado``` contiene un atributo ```lado``` equivalente a ```1```."
   ]
  },
  {
   "cell_type": "code",
   "execution_count": null,
   "metadata": {},
   "outputs": [],
   "source": [
    "for item in cuadros:\n",
    "    print(item.lado)"
   ]
  },
  {
   "cell_type": "markdown",
   "metadata": {},
   "source": [
    "* La siguiente celda regresará el contenido del atributo ```lado``` del objeto ```cuadros[0]``` ."
   ]
  },
  {
   "cell_type": "markdown",
   "metadata": {},
   "source": [
    "## Modificación de un atributo.\n",
    "\n",
    "Para modificar el contenido de un atributo se utiliza el operador de asignación ```=``` con la siguiente sintaxis:\n",
    "\n",
    "```\n",
    "<clase u objeto>.<atributo> = <valor>\n",
    "```\n",
    "\n",
    "Donde:\n",
    "\n",
    "* ```<clase u objeto>``` es la clase u objeto que contiene al atributo a ser modificado.\n",
    "* ```<atributo>``` corresponde al nombre del atributo a modificar.\n",
    "* ```<valor>``` corresponde al valor u objeto asignado al atributo."
   ]
  },
  {
   "cell_type": "markdown",
   "metadata": {},
   "source": [
    "**Ejemplo:**"
   ]
  },
  {
   "cell_type": "markdown",
   "metadata": {},
   "source": [
    "El contenido del atributo ```cuadros[0]``` es ```1```."
   ]
  },
  {
   "cell_type": "code",
   "execution_count": null,
   "metadata": {},
   "outputs": [],
   "source": [
    "cuadros[0].lado"
   ]
  },
  {
   "cell_type": "markdown",
   "metadata": {},
   "source": [
    "* La siguiente celda asignará ```3```  al atributo  ```cuadros[0].lado``` ."
   ]
  },
  {
   "cell_type": "code",
   "execution_count": null,
   "metadata": {},
   "outputs": [],
   "source": [
    "cuadros[0].lado = 3"
   ]
  },
  {
   "cell_type": "code",
   "execution_count": null,
   "metadata": {},
   "outputs": [],
   "source": [
    "cuadros[0].lado"
   ]
  },
  {
   "cell_type": "markdown",
   "metadata": {},
   "source": [
    "* La siguiente celda asignará ```11```  al atributo  ```cuadros[0].lado``` ."
   ]
  },
  {
   "cell_type": "code",
   "execution_count": null,
   "metadata": {},
   "outputs": [],
   "source": [
    "cuadros[3].lado = 11"
   ]
  },
  {
   "cell_type": "code",
   "execution_count": null,
   "metadata": {},
   "outputs": [],
   "source": [
    "cuadros[3].lado"
   ]
  },
  {
   "cell_type": "markdown",
   "metadata": {},
   "source": [
    "* El estado de ```cuadros[0]``` y ```cuadros[3]``` ha cambiado con respecto a las otras instancias de ```Cuadrado```."
   ]
  },
  {
   "cell_type": "code",
   "execution_count": null,
   "metadata": {
    "scrolled": true
   },
   "outputs": [],
   "source": [
    "for item in cuadros:\n",
    "    print(item.lado)"
   ]
  },
  {
   "cell_type": "markdown",
   "metadata": {},
   "source": [
    "## Atributos de clase.\n",
    "\n",
    "Las atributos de clase definen el estado de una clase. Dicho estado será el estado incial de las instancias de dicha clase.\n",
    "\n",
    "En el caso de Python es posible modificar los atributos de clase de la siguiente forma:\n",
    "\n",
    "```\n",
    "<Clase>.<atributo> = <objeto>\n",
    "```\n",
    "\n",
    "Al cambiar el estado de una clase, dicho cambio se reflejará en todos aquellos objetos instanciados que conserven los atributos originales."
   ]
  },
  {
   "cell_type": "markdown",
   "metadata": {},
   "source": [
    "**Ejemplo:**"
   ]
  },
  {
   "cell_type": "markdown",
   "metadata": {},
   "source": [
    "* El atributo de clase ```Cuadrado.lado``` es ```1```."
   ]
  },
  {
   "cell_type": "code",
   "execution_count": null,
   "metadata": {},
   "outputs": [],
   "source": [
    "Cuadrado.lado"
   ]
  },
  {
   "cell_type": "markdown",
   "metadata": {},
   "source": [
    "* La siguiente celda modificará el atributo de clase ```Cuadrado.lado``` y le asignará ```20```."
   ]
  },
  {
   "cell_type": "code",
   "execution_count": null,
   "metadata": {},
   "outputs": [],
   "source": [
    "Cuadrado.lado = 20"
   ]
  },
  {
   "cell_type": "markdown",
   "metadata": {},
   "source": [
    "* El cambio de estado en ```Cuadrado``` también cambiará el estado de los objetos instanciados que no hayan modificado el atributo ```lado```."
   ]
  },
  {
   "cell_type": "code",
   "execution_count": null,
   "metadata": {
    "scrolled": true
   },
   "outputs": [],
   "source": [
    "for item in cuadros:\n",
    "    print(item.lado)"
   ]
  },
  {
   "cell_type": "markdown",
   "metadata": {},
   "source": [
    "## Añadidura de atributos.\n",
    "\n",
    "Python permite añadir nuevos atributos tanto a clases como a objetos mediante el uso del operador de asignación ```=```.\n",
    "\n",
    "Sintaxis:\n",
    "```\n",
    "<objeto>.<atributo> = <objeto>\n",
    "```\n",
    "\n",
    "Donde:\n",
    "\n",
    "* ```<objeto>``` puede ser una clase o un objeto.\n",
    "* ```<atributo>``` es un atributo nuevo.\n",
    "* ```<objeto>``` es el objeto que se le asignará al atributo.\n",
    "\n",
    "\n",
    "La adición de un atributo a una clase tendrá efecto en el estado de todos los objetos instanciados de dicha clase."
   ]
  },
  {
   "cell_type": "markdown",
   "metadata": {},
   "source": [
    "**Ejemplo:**"
   ]
  },
  {
   "cell_type": "markdown",
   "metadata": {},
   "source": [
    "* La siguiente celda añadirá el atributo de clase ```Cuadrado.unidades```."
   ]
  },
  {
   "cell_type": "code",
   "execution_count": null,
   "metadata": {},
   "outputs": [],
   "source": [
    "Cuadrado.unidades = \"metros\""
   ]
  },
  {
   "cell_type": "markdown",
   "metadata": {},
   "source": [
    "* Este cambio en el estado de la clase afecta a todas sus instancias."
   ]
  },
  {
   "cell_type": "code",
   "execution_count": null,
   "metadata": {
    "scrolled": false
   },
   "outputs": [],
   "source": [
    "for item in cuadros:\n",
    "    print(item.unidades)"
   ]
  },
  {
   "cell_type": "markdown",
   "metadata": {},
   "source": [
    "* La siguiente celda añadirá el atributo ```nombre``` a objeto ```cuadros[1]```."
   ]
  },
  {
   "cell_type": "code",
   "execution_count": null,
   "metadata": {},
   "outputs": [],
   "source": [
    "cuadros[1].nombre = \"Rectángulo\""
   ]
  },
  {
   "cell_type": "code",
   "execution_count": null,
   "metadata": {},
   "outputs": [],
   "source": [
    "cuadros[1].nombre"
   ]
  },
  {
   "cell_type": "markdown",
   "metadata": {},
   "source": [
    "* El cambio de estado del objeto ```cuadros[1]``` no afecta a las otras instacias de ```Cuadrado```, por lo que la siguiente línea generará in error de tipo ```AttributeError``` en vista de que ```cuadros[0]``` no tiene el atributo ```nombre```."
   ]
  },
  {
   "cell_type": "code",
   "execution_count": null,
   "metadata": {
    "scrolled": true
   },
   "outputs": [],
   "source": [
    "cuadros[0].nombre"
   ]
  },
  {
   "cell_type": "markdown",
   "metadata": {},
   "source": [
    "## Eliminación de atributos.\n",
    "\n",
    "Es posible eliminar un atributo mediante la palabra reservada ```del```.\n",
    "\n",
    "Sintaxis:\n",
    "\n",
    "```\n",
    "del <nombre>.<nombre de atributo>\n",
    "```\n",
    "\n",
    "Al eliminar un atributo de clase, éste será eliminado de todas las instancias de la clase cuyo atributo no haya sido modificado.\n",
    "\n",
    "Es posible eliminar los atributos añadidos a un objeto, pero no es posible eliminar los atributos de clase desde objeto instanciado."
   ]
  },
  {
   "cell_type": "markdown",
   "metadata": {},
   "source": [
    "**Ejemplo:**"
   ]
  },
  {
   "cell_type": "markdown",
   "metadata": {},
   "source": [
    "* La siguiente celda definirá clase ```Cuadrilatero```, definiendo los atributos:\n",
    "    * ```Cuadrilatero.lado``` equivalente a ```1```.\n",
    "    * ```Cuadrilatero.unidad``` equivalente a ```metros```."
   ]
  },
  {
   "cell_type": "code",
   "execution_count": null,
   "metadata": {},
   "outputs": [],
   "source": [
    "class Cuadrilatero():\n",
    "    '''Clase que ejemplifica el uso de atributos.'''\n",
    "    lado = 1\n",
    "    unidad = \"metros\""
   ]
  },
  {
   "cell_type": "markdown",
   "metadata": {},
   "source": [
    "* La siguiente celda definirá a un objeto de tipo ```tuple``` llamado ```nuevos_cuadros```, el cual contendrá a dos instancias de ```Cuadrilatero```."
   ]
  },
  {
   "cell_type": "code",
   "execution_count": null,
   "metadata": {},
   "outputs": [],
   "source": [
    "otros_cuadros = (Cuadrilatero(), Cuadrilatero())"
   ]
  },
  {
   "cell_type": "markdown",
   "metadata": {},
   "source": [
    "* La siguiente celda definirá a un objeto instanciade de ```Cuadrilatero``` llamado ```cuadro_control```."
   ]
  },
  {
   "cell_type": "code",
   "execution_count": null,
   "metadata": {},
   "outputs": [],
   "source": [
    "cuadro_control = Cuadrilatero()"
   ]
  },
  {
   "cell_type": "markdown",
   "metadata": {},
   "source": [
    "* La siguiente celda creará el atributo ```cuadro_control.alto``` equivalente a ```30```."
   ]
  },
  {
   "cell_type": "code",
   "execution_count": null,
   "metadata": {},
   "outputs": [],
   "source": [
    "cuadro_control.alto = 30"
   ]
  },
  {
   "cell_type": "code",
   "execution_count": null,
   "metadata": {},
   "outputs": [],
   "source": [
    "cuadro_control.alto"
   ]
  },
  {
   "cell_type": "markdown",
   "metadata": {},
   "source": [
    "* La siguiente celda modificará al atributo ```cuadro_control.unidad``` asignándole ```\"pulgadas\"```."
   ]
  },
  {
   "cell_type": "code",
   "execution_count": null,
   "metadata": {},
   "outputs": [],
   "source": [
    "cuadro_control.unidad = \"pulgadas\""
   ]
  },
  {
   "cell_type": "markdown",
   "metadata": {},
   "source": [
    "* La siguiente celda eliminará el atributo ```alto``` en el objeto ```cuadro_control```."
   ]
  },
  {
   "cell_type": "code",
   "execution_count": null,
   "metadata": {},
   "outputs": [],
   "source": [
    "del cuadro_control.alto"
   ]
  },
  {
   "cell_type": "markdown",
   "metadata": {},
   "source": [
    "* La siguiente celda hará referencia al atributo ```cuadro_control.alto```, el cual fue eliminado y se desencadenará un error de tipo ```AttributeError```."
   ]
  },
  {
   "cell_type": "code",
   "execution_count": null,
   "metadata": {
    "scrolled": true
   },
   "outputs": [],
   "source": [
    "cuadro_control.alto"
   ]
  },
  {
   "cell_type": "markdown",
   "metadata": {},
   "source": [
    "* El objeto ```cuadros[0]``` no  tiene el atributo ```unidad```, por lo que se generará un error de tipo ```AtributeError```."
   ]
  },
  {
   "cell_type": "code",
   "execution_count": null,
   "metadata": {},
   "outputs": [],
   "source": [
    "del cuadros[0].unidad"
   ]
  },
  {
   "cell_type": "markdown",
   "metadata": {},
   "source": [
    "* La siguiente celda eliminará al atributo de clase ```Cuadrilatero.unidad```."
   ]
  },
  {
   "cell_type": "code",
   "execution_count": null,
   "metadata": {},
   "outputs": [],
   "source": [
    "del Cuadrilatero.unidad"
   ]
  },
  {
   "cell_type": "markdown",
   "metadata": {},
   "source": [
    "* El atribito ```unidad``` será eliminado de todos loselementos de ```otros_cuadros```."
   ]
  },
  {
   "cell_type": "code",
   "execution_count": null,
   "metadata": {},
   "outputs": [],
   "source": [
    "otros_cuadros[0].unidad"
   ]
  },
  {
   "cell_type": "code",
   "execution_count": null,
   "metadata": {
    "scrolled": false
   },
   "outputs": [],
   "source": [
    "otros_cuadros[1].unidad"
   ]
  },
  {
   "cell_type": "markdown",
   "metadata": {},
   "source": [
    "* Debido a que el objeto ```cuadro_control.unidad``` fue modificado, este no es eliminado."
   ]
  },
  {
   "cell_type": "code",
   "execution_count": null,
   "metadata": {
    "scrolled": true
   },
   "outputs": [],
   "source": [
    "cuadro_control.unidad"
   ]
  },
  {
   "cell_type": "markdown",
   "metadata": {},
   "source": [
    "## Funciones relativas a atributos.\n",
    "\n",
    "Las siguientes funciones pueden ser utilizadas para consultar o eliminar atributos tanto en clases como objetos."
   ]
  },
  {
   "cell_type": "markdown",
   "metadata": {},
   "source": [
    "### La función ```hasattr()```.\n",
    "\n",
    "Perimite saber si dentro de una clase u objeto existe un atributo. Dicha función regresa ```True``` en caso de que exista y ```False``` en caso contrario.\n",
    "\n",
    "``` \n",
    "hasattr(<clase u objeto>, <atributo>)\n",
    "```\n",
    "\n",
    "Donde:\n",
    "\n",
    "* ```<clase u objeto>``` corresponde a la clase u objeto que será consultada.\n",
    "* ```<atributo>``` corresponde a un objeto ```str``` con el nombre del atributo a validar."
   ]
  },
  {
   "cell_type": "markdown",
   "metadata": {},
   "source": [
    "**Ejemplos:**"
   ]
  },
  {
   "cell_type": "markdown",
   "metadata": {},
   "source": [
    "* La siguiente celda validará si existe el atributo ```Cuadrilatero.unidad```."
   ]
  },
  {
   "cell_type": "code",
   "execution_count": null,
   "metadata": {},
   "outputs": [],
   "source": [
    "hasattr(Cuadrilatero, \"unidad\")"
   ]
  },
  {
   "cell_type": "markdown",
   "metadata": {},
   "source": [
    "* La siguiente celda validará si existe el atributo ```cuadro_control.unidad```."
   ]
  },
  {
   "cell_type": "code",
   "execution_count": null,
   "metadata": {},
   "outputs": [],
   "source": [
    "hasattr(cuadro_control, \"unidad\")"
   ]
  },
  {
   "cell_type": "markdown",
   "metadata": {},
   "source": [
    "* La siguiente celda validará si existe el atributo ```otros_cuadros[0].lado```."
   ]
  },
  {
   "cell_type": "code",
   "execution_count": null,
   "metadata": {},
   "outputs": [],
   "source": [
    "hasattr(otros_cuadros[0], \"lado\")"
   ]
  },
  {
   "cell_type": "markdown",
   "metadata": {},
   "source": [
    "### La función ```getattr()```.\n",
    "\n",
    "Esta función regresa el contenido de de atributo de una clase u objeto.\n",
    " \n",
    "\n",
    "``` \n",
    "getattr(<nombre de clase u objeto>, <atributo>, <sustituto>)\n",
    "```\n",
    "\n",
    "Donde:\n",
    "\n",
    "* ```<clase u objeto>``` corresponde a la clase u objeto que será consultada.\n",
    "* ```<atributo>``` corresponde a un objeto ```str``` con el nombre del atributo.\n",
    "* ```<sustituto>``` es el objeto que regresará la función en caso de que el atributo no exista. Si este argumento no es ingresado, se desencadenará un  error de tipo ```AttributeError``` en caso de que no exista el atributo.  "
   ]
  },
  {
   "cell_type": "markdown",
   "metadata": {},
   "source": [
    "**Ejemplos:**"
   ]
  },
  {
   "cell_type": "markdown",
   "metadata": {},
   "source": [
    "* La siguiente celda regresará mediante la función ```getattr()``` el contenido del atributo ```otros_cuadros[1].lado``` correspondiente a ```1```."
   ]
  },
  {
   "cell_type": "code",
   "execution_count": null,
   "metadata": {},
   "outputs": [],
   "source": [
    "getattr(otros_cuadros[1], \"lado\")"
   ]
  },
  {
   "cell_type": "markdown",
   "metadata": {},
   "source": [
    "* La siguiente celda intentará regresar  mediante la función ```getattr()``` el contenido del atributo ```Cuadrilatero.lado```, pero debido a que no existe, se desencadenará un error de tipo ```AttributeError```."
   ]
  },
  {
   "cell_type": "code",
   "execution_count": null,
   "metadata": {
    "scrolled": true
   },
   "outputs": [],
   "source": [
    "getattr(Cuadrilatero, \"alto\")"
   ]
  },
  {
   "cell_type": "markdown",
   "metadata": {},
   "source": [
    "* La siguiente celda intentará regresar  mediante la función ```getattr()``` el contenido del atributo ```Cuadrilatero.lado```, pero debido a que no existe, regresará ```False```."
   ]
  },
  {
   "cell_type": "code",
   "execution_count": null,
   "metadata": {},
   "outputs": [],
   "source": [
    "getattr(Cuadrilatero, \"alto\", False)"
   ]
  },
  {
   "cell_type": "markdown",
   "metadata": {},
   "source": [
    "### La función ```setattr()```.\n",
    "\n",
    "Esta función añade un nuevo atributo o sustituye el contenido de un atributo existente en un objeto o clase.\n",
    "\n",
    "``` \n",
    "setattr(<nombre de clase u objeto>, <atributo>, <objeto nuevo>)\n",
    "```\n",
    "\n",
    "Donde:\n",
    "\n",
    "* ```<clase u objeto>``` corresponde a la clase u objeto cuyo estado será modificado.\n",
    "* ```<atributo>``` corresponde a un objeto ```str``` con el nombre del atributo a modificar o añadir.\n",
    "* ```<objeto nuevo>``` es el objeto que será asignado al atributo."
   ]
  },
  {
   "cell_type": "markdown",
   "metadata": {},
   "source": [
    "**Ejemplos:**"
   ]
  },
  {
   "cell_type": "markdown",
   "metadata": {},
   "source": [
    "* La siguiente celda asignará ```15``` al atributo ```cuadro_control.lado```."
   ]
  },
  {
   "cell_type": "code",
   "execution_count": null,
   "metadata": {},
   "outputs": [],
   "source": [
    "setattr(cuadro_control, \"lado\", 15)"
   ]
  },
  {
   "cell_type": "code",
   "execution_count": null,
   "metadata": {},
   "outputs": [],
   "source": [
    "getattr(cuadro_control, \"lado\")"
   ]
  },
  {
   "cell_type": "markdown",
   "metadata": {},
   "source": [
    "* La siguiente celda creará el atributo ```Cuadrilatero.unidad``` asignándole ```\"metros\"```."
   ]
  },
  {
   "cell_type": "code",
   "execution_count": null,
   "metadata": {},
   "outputs": [],
   "source": [
    "setattr(Cuadrilatero, \"unidad\", \"metros\")"
   ]
  },
  {
   "cell_type": "markdown",
   "metadata": {},
   "source": [
    "* Lo cual tendrá efecto en las instancias de ```Cuadrilátero``` que no tengan ese atributo."
   ]
  },
  {
   "cell_type": "code",
   "execution_count": null,
   "metadata": {},
   "outputs": [],
   "source": [
    "for item in otros_cuadros:\n",
    "    print(getattr(item, \"unidad\"))"
   ]
  },
  {
   "cell_type": "code",
   "execution_count": null,
   "metadata": {},
   "outputs": [],
   "source": [
    "getattr(cuadro_control, \"unidad\")"
   ]
  },
  {
   "cell_type": "markdown",
   "metadata": {},
   "source": [
    "### La función ```deltattr()```.\n",
    "\n",
    "Es ta función eliminará un atributo de una clase u objeto.\n",
    "\n",
    "\n",
    "Sintaxis:\n",
    "\n",
    "``` \n",
    "delattr(<nombre de clase u objeto>, \"<atributo>\")\n",
    "```\n",
    "\n",
    "Donde:\n",
    "\n",
    "* ```<clase u objeto>``` corresponde a la clase u objeto cuyo estado será modificado.\n",
    "* ```<atributo>``` corresponde a un objeto ```str``` con el nombre del atributo a eliminar.\n",
    "* ```<objeto nuevo>``` es el objeto que será asignado al atributo. En caso de que no exista el atributo con el nombre correspondiente, se levantará una excepción de tipo ```AttributeError```. "
   ]
  },
  {
   "cell_type": "markdown",
   "metadata": {},
   "source": [
    "**Ejemplos:**"
   ]
  },
  {
   "cell_type": "markdown",
   "metadata": {},
   "source": [
    "* La siguiente celda modificará al atributo ```otros_cuadros,unidad``` asignándole el objeto ```\"yardas\"```."
   ]
  },
  {
   "cell_type": "code",
   "execution_count": null,
   "metadata": {},
   "outputs": [],
   "source": [
    "setattr(otros_cuadros[1], \"unidad\", \"yardas\")"
   ]
  },
  {
   "cell_type": "markdown",
   "metadata": {},
   "source": [
    "* la siguiente celda eliminará al atributo de clase ```Cuadrilatero.unidad```"
   ]
  },
  {
   "cell_type": "code",
   "execution_count": null,
   "metadata": {},
   "outputs": [],
   "source": [
    "delattr(Cuadrilatero, \"unidad\")"
   ]
  },
  {
   "cell_type": "markdown",
   "metadata": {},
   "source": [
    "* Esto afectará a las instancias de ```Cuadrilatero``` que no hayan modificado al atributo ```unidad``` ."
   ]
  },
  {
   "cell_type": "code",
   "execution_count": null,
   "metadata": {},
   "outputs": [],
   "source": [
    "for item in otros_cuadros:\n",
    "    print(hasattr(item, \"unidad\"))"
   ]
  },
  {
   "cell_type": "code",
   "execution_count": null,
   "metadata": {},
   "outputs": [],
   "source": [
    "hasattr(cuadro_control, \"unidad\")"
   ]
  },
  {
   "cell_type": "markdown",
   "metadata": {},
   "source": [
    "* La siguiente celda tratará de aplicar la función ```delattr()``` al atributo ```otros_cuadros[0].unidad```, pero en vista de que dicho atributo no existe, se desencadenará un error de tipo ```AttributeError```."
   ]
  },
  {
   "cell_type": "code",
   "execution_count": null,
   "metadata": {},
   "outputs": [],
   "source": [
    "delattr(otros_cuadros[0], \"unidad\")"
   ]
  },
  {
   "cell_type": "markdown",
   "metadata": {},
   "source": [
    "## Agregación y composición.\n",
    "\n",
    "En Python, cuando se asigna un valor a un atributo, en realidad se está asignado un objeto. A esto se le conoce como agregación o composición.\n",
    "\n",
    "### Composición.\n",
    "\n",
    "En la teoría de programación orientada a objetos se entiende por compisición a la definción de atributos que son propios de un objeto y que son destruidos al desechar el objeto que los contiene.\n",
    "\n",
    "### Agregación.\n",
    "\n",
    "La agregación ocurre cuando se le añade un atributo a un objeto. Y dicho objeto asignado perdura después de que el objeto al que fue agregado es desechado."
   ]
  },
  {
   "cell_type": "markdown",
   "metadata": {},
   "source": [
    "**Ejemplo:**"
   ]
  },
  {
   "cell_type": "code",
   "execution_count": null,
   "metadata": {},
   "outputs": [],
   "source": [
    "class Cuadrilatero:\n",
    "    lado = 1"
   ]
  },
  {
   "cell_type": "code",
   "execution_count": null,
   "metadata": {},
   "outputs": [],
   "source": [
    "cuadro = Cuadrilatero()"
   ]
  },
  {
   "cell_type": "code",
   "execution_count": null,
   "metadata": {},
   "outputs": [],
   "source": [
    "cuadro.lado"
   ]
  },
  {
   "cell_type": "code",
   "execution_count": null,
   "metadata": {},
   "outputs": [],
   "source": [
    "id(cuadro.lado)"
   ]
  },
  {
   "cell_type": "code",
   "execution_count": null,
   "metadata": {},
   "outputs": [],
   "source": [
    "type(cuadro.lado)"
   ]
  },
  {
   "cell_type": "code",
   "execution_count": null,
   "metadata": {},
   "outputs": [],
   "source": [
    "magnitud = cuadro.lado"
   ]
  },
  {
   "cell_type": "code",
   "execution_count": null,
   "metadata": {},
   "outputs": [],
   "source": [
    "id(magnitud)"
   ]
  },
  {
   "cell_type": "code",
   "execution_count": null,
   "metadata": {},
   "outputs": [],
   "source": [
    "del cuadro"
   ]
  },
  {
   "cell_type": "code",
   "execution_count": null,
   "metadata": {},
   "outputs": [],
   "source": [
    "magnitud"
   ]
  },
  {
   "cell_type": "code",
   "execution_count": null,
   "metadata": {},
   "outputs": [],
   "source": [
    "id(magnitud)"
   ]
  },
  {
   "cell_type": "markdown",
   "metadata": {
    "collapsed": true
   },
   "source": [
    "<p style=\"text-align: center\"><a rel=\"license\" href=\"http://creativecommons.org/licenses/by/4.0/\"><img alt=\"Licencia Creative Commons\" style=\"border-width:0\" src=\"https://i.creativecommons.org/l/by/4.0/80x15.png\" /></a><br />Esta obra está bajo una <a rel=\"license\" href=\"http://creativecommons.org/licenses/by/4.0/\">Licencia Creative Commons Atribución 4.0 Internacional</a>.</p>\n",
    "<p style=\"text-align: center\">&copy; José Luis Chiquete Valdivieso. 2020.</p>"
   ]
  }
 ],
 "metadata": {
  "kernelspec": {
   "display_name": "Python 3",
   "language": "python",
   "name": "python3"
  },
  "language_info": {
   "codemirror_mode": {
    "name": "ipython",
    "version": 3
   },
   "file_extension": ".py",
   "mimetype": "text/x-python",
   "name": "python",
   "nbconvert_exporter": "python",
   "pygments_lexer": "ipython3",
   "version": "3.7.6"
  }
 },
 "nbformat": 4,
 "nbformat_minor": 2
}
