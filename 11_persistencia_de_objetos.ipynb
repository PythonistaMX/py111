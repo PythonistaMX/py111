{
 "cells": [
  {
   "cell_type": "markdown",
   "metadata": {},
   "source": [
    "[![pythonista.io](imagenes/pythonista.png)](https://pythonista.io)"
   ]
  },
  {
   "cell_type": "markdown",
   "metadata": {},
   "source": [
    "# Persistencia de objetos."
   ]
  },
  {
   "cell_type": "markdown",
   "metadata": {},
   "source": [
    "Cuando un programa  termina su ejecución, el estado de los objetos que contenía es eliminado.\n",
    "Sin embargo, existen varias formas de permitir que el  estado de un objeto \"persista\". \n",
    "\n",
    "## El módulo *pickle*.\n",
    "\n",
    "### Serialización mediante  la función _dump_().\n",
    "\n",
    "La serialización es una técnica que permite conservar el estado de un objeto almacenando los valores/objetos ligados a los atributos del objeto de origen.\n",
    "\n",
    "Python  cuenta con el módulo _pickle_, el cual es capaz de serializar un objeto.\n",
    "\n",
    "La función _dump_() del módulo _pickle_, permite guardar un objeto en un archivo.\n",
    "\n",
    "Sintaxis:\n",
    "\n",
    "```\n",
    "pickle.dump( <objeto>, <archivo>)\n",
    "```\n",
    "\n",
    "### La función _load_().\n",
    "\n",
    "La función _load_() del módulo _pickle_, permite cargar un objeto desde un archivo y regresarlo.\n",
    "\n",
    "```\n",
    "pickle.load( <archivo>)\n",
    "```\n",
    "\n",
    "**Ejemplo:**"
   ]
  },
  {
   "cell_type": "code",
   "execution_count": null,
   "metadata": {},
   "outputs": [],
   "source": [
    "import pickle"
   ]
  },
  {
   "cell_type": "code",
   "execution_count": null,
   "metadata": {},
   "outputs": [],
   "source": [
    "help(pickle)"
   ]
  },
  {
   "cell_type": "code",
   "execution_count": null,
   "metadata": {},
   "outputs": [],
   "source": [
    "lista = [[1, 2, 3], [4, 5, 6]]"
   ]
  },
  {
   "cell_type": "code",
   "execution_count": null,
   "metadata": {},
   "outputs": [],
   "source": [
    "with open(\"salmuera.bin\", \"wb\") as archivo:\n",
    "    pickle.dump(lista, archivo)"
   ]
  },
  {
   "cell_type": "code",
   "execution_count": null,
   "metadata": {},
   "outputs": [],
   "source": [
    "%cat salmuera.bin"
   ]
  },
  {
   "cell_type": "code",
   "execution_count": null,
   "metadata": {},
   "outputs": [],
   "source": [
    "with open(\"salmuera.bin\", \"br\") as archivo:\n",
    "    otra_lista = pickle.load(archivo)"
   ]
  },
  {
   "cell_type": "code",
   "execution_count": null,
   "metadata": {},
   "outputs": [],
   "source": [
    "otra_lista"
   ]
  },
  {
   "cell_type": "code",
   "execution_count": null,
   "metadata": {},
   "outputs": [],
   "source": [
    "id(lista)"
   ]
  },
  {
   "cell_type": "code",
   "execution_count": null,
   "metadata": {},
   "outputs": [],
   "source": [
    "id(otra_lista)"
   ]
  },
  {
   "cell_type": "code",
   "execution_count": null,
   "metadata": {},
   "outputs": [],
   "source": [
    "lista == otra_lista"
   ]
  },
  {
   "cell_type": "code",
   "execution_count": null,
   "metadata": {},
   "outputs": [],
   "source": [
    "lista is otra_lista"
   ]
  },
  {
   "cell_type": "markdown",
   "metadata": {
    "collapsed": true
   },
   "source": [
    "## La función _dumps()_.\n",
    "\n",
    "La función _dumps()_ del módulo _pickle_, permite convertir el estado de un objeto en un objeto de tipo _bytes_.\n",
    "\n",
    "Sintaxis:\n",
    "\n",
    "```\n",
    "pickle.dumps( <objeto>)\n",
    "```\n",
    "\n",
    "## La función _loads()_.\n",
    "\n",
    "La función loads() del módulo pickle, regresa un objeto con el estado almacenado en un objeto de tipo _bytes_.\n",
    "\n",
    "Sintaxis:\n",
    "\n",
    "```\n",
    "pickle.loads( <objeto tipo str>)\n",
    "\n",
    "```\n",
    "\n",
    "**Ejemplo:**"
   ]
  },
  {
   "cell_type": "code",
   "execution_count": null,
   "metadata": {},
   "outputs": [],
   "source": [
    "class Persona:\n",
    "    \n",
    "    def __init__(self):\n",
    "        from time import time\n",
    "        self.__clave = str(int(time() / 0.017))[1:]\n",
    "        \n",
    "    @property\n",
    "    def clave(self):\n",
    "        return self.__clave\n",
    "    \n",
    "    @property\n",
    "    def nombre(self):\n",
    "        return \" \".join(self.lista_nombre)\n",
    "    \n",
    "    @nombre.setter\n",
    "    def nombre(self, nombre):\n",
    "        if len(nombre) < 2 or len(nombre) > 3 or type(nombre) not in (list, tuple):\n",
    "            raise ValueError(\"Formato incorrecto.\")\n",
    "        else:\n",
    "            self.lista_nombre = nombre"
   ]
  },
  {
   "cell_type": "code",
   "execution_count": null,
   "metadata": {},
   "outputs": [],
   "source": [
    "individuo = Persona()\n",
    "individuo.nombre = ['Juan', 'Pérez', 'Sánchez']"
   ]
  },
  {
   "cell_type": "code",
   "execution_count": null,
   "metadata": {},
   "outputs": [],
   "source": [
    "salmuera = pickle.dumps(individuo)"
   ]
  },
  {
   "cell_type": "code",
   "execution_count": null,
   "metadata": {},
   "outputs": [],
   "source": [
    "salmuera"
   ]
  },
  {
   "cell_type": "code",
   "execution_count": null,
   "metadata": {},
   "outputs": [],
   "source": [
    "otro_individuo = pickle.loads(salmuera)"
   ]
  },
  {
   "cell_type": "code",
   "execution_count": null,
   "metadata": {},
   "outputs": [],
   "source": [
    "otro_individuo.nombre"
   ]
  },
  {
   "cell_type": "code",
   "execution_count": null,
   "metadata": {},
   "outputs": [],
   "source": [
    "otro_individuo.clave"
   ]
  },
  {
   "cell_type": "code",
   "execution_count": null,
   "metadata": {},
   "outputs": [],
   "source": [
    "individuo.clave"
   ]
  },
  {
   "cell_type": "code",
   "execution_count": null,
   "metadata": {},
   "outputs": [],
   "source": [
    "individuo == otro_individuo"
   ]
  },
  {
   "cell_type": "code",
   "execution_count": null,
   "metadata": {},
   "outputs": [],
   "source": [
    "id(individuo)"
   ]
  },
  {
   "cell_type": "code",
   "execution_count": null,
   "metadata": {},
   "outputs": [],
   "source": [
    "id(otro_individuo)"
   ]
  },
  {
   "cell_type": "markdown",
   "metadata": {
    "collapsed": true
   },
   "source": [
    "## Restricciones.\n",
    "\n",
    "Las funciones del módulo _pickle_ sólo guardan el estado de un objeto, por lo que es necesario que el intérprete tenga acceso a la clase a partir de la cual fueron instanciados los objetos, así como los otros  objetos que pudieran habérsele agregado al objeto en cuestión. \n",
    " \n",
    "**Ejemplo:**"
   ]
  },
  {
   "cell_type": "code",
   "execution_count": null,
   "metadata": {},
   "outputs": [],
   "source": [
    "class Persona:\n",
    "    \n",
    "    def __init__(self):\n",
    "        from time import time\n",
    "        self.__clave = str(int(time() / 0.017))[1:]\n",
    "        \n",
    "    @property\n",
    "    def clave(self):\n",
    "        return self.__clave\n",
    "    \n",
    "    @property\n",
    "    def nombre(self):\n",
    "        return \" \".join(self.lista_nombre)\n",
    "    \n",
    "    @nombre.setter\n",
    "    def nombre(self, nombre):\n",
    "        if len(nombre) < 2 or len(nombre) > 3 or type(nombre) not in (list, tuple):\n",
    "            raise ValueError(\"Formato incorrecto.\")\n",
    "        else:\n",
    "            self.lista_nombre = nombre"
   ]
  },
  {
   "cell_type": "code",
   "execution_count": null,
   "metadata": {},
   "outputs": [],
   "source": [
    "def saluda():\n",
    "    print('Hola')"
   ]
  },
  {
   "cell_type": "code",
   "execution_count": null,
   "metadata": {},
   "outputs": [],
   "source": [
    "fulanito = Persona()"
   ]
  },
  {
   "cell_type": "code",
   "execution_count": null,
   "metadata": {},
   "outputs": [],
   "source": [
    "perenganito = Persona()"
   ]
  },
  {
   "cell_type": "code",
   "execution_count": null,
   "metadata": {},
   "outputs": [],
   "source": [
    "fulanito.saluda = saluda"
   ]
  },
  {
   "cell_type": "code",
   "execution_count": null,
   "metadata": {},
   "outputs": [],
   "source": [
    "fulanito.saluda()"
   ]
  },
  {
   "cell_type": "code",
   "execution_count": null,
   "metadata": {},
   "outputs": [],
   "source": [
    "conserva = pickle.dumps(fulanito)"
   ]
  },
  {
   "cell_type": "code",
   "execution_count": null,
   "metadata": {},
   "outputs": [],
   "source": [
    "conserva"
   ]
  },
  {
   "cell_type": "code",
   "execution_count": null,
   "metadata": {},
   "outputs": [],
   "source": [
    "menganito = pickle.loads(conserva)"
   ]
  },
  {
   "cell_type": "code",
   "execution_count": null,
   "metadata": {},
   "outputs": [],
   "source": [
    "menganito.saluda()"
   ]
  },
  {
   "cell_type": "code",
   "execution_count": null,
   "metadata": {},
   "outputs": [],
   "source": [
    "del saluda"
   ]
  },
  {
   "cell_type": "code",
   "execution_count": null,
   "metadata": {},
   "outputs": [],
   "source": [
    "perenganito = pickle.loads(conserva)"
   ]
  },
  {
   "cell_type": "markdown",
   "metadata": {},
   "source": [
    "## Precauciones con respecto a la serialización de objetos.\n",
    "\n",
    "* La serialización no es de ningún modo una técnica de cifrado, por lo que no se debe de utilizar de tal forma.\n",
    "* La serialización puede representar un riesgo de seguridad si las clases originales son sustituidas por otras clases con las mismas interfaces y estructura pero con implementaciones distintas. Por lo tanto, se recomienda que la serialización se utilice exclusivamente para garantizar la persistencia de los objetos, pero no como un formato de transmisión de datos.\n"
   ]
  },
  {
   "cell_type": "markdown",
   "metadata": {},
   "source": [
    "<p style=\"text-align: center\"><a rel=\"license\" href=\"http://creativecommons.org/licenses/by/4.0/\"><img alt=\"Licencia Creative Commons\" style=\"border-width:0\" src=\"https://i.creativecommons.org/l/by/4.0/80x15.png\" /></a><br />Esta obra está bajo una <a rel=\"license\" href=\"http://creativecommons.org/licenses/by/4.0/\">Licencia Creative Commons Atribución 4.0 Internacional</a>.</p>\n",
    "<p style=\"text-align: center\">&copy; José Luis Chiquete Valdivieso. 2019.</p>"
   ]
  }
 ],
 "metadata": {
  "kernelspec": {
   "display_name": "Python 3",
   "language": "python",
   "name": "python3"
  },
  "language_info": {
   "codemirror_mode": {
    "name": "ipython",
    "version": 3
   },
   "file_extension": ".py",
   "mimetype": "text/x-python",
   "name": "python",
   "nbconvert_exporter": "python",
   "pygments_lexer": "ipython3",
   "version": "3.7.0"
  }
 },
 "nbformat": 4,
 "nbformat_minor": 2
}
