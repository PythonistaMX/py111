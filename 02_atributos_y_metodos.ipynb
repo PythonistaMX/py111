{
 "cells": [
  {
   "cell_type": "markdown",
   "metadata": {
    "collapsed": true
   },
   "source": [
    "[![pythonista.io](imagenes/pythonista.png)](https://pythonista.io)"
   ]
  },
  {
   "cell_type": "markdown",
   "metadata": {},
   "source": [
    "# Atributos y métodos."
   ]
  },
  {
   "cell_type": "markdown",
   "metadata": {},
   "source": [
    "## Atributos.\n",
    "\n",
    "Los atributos son objetos que pueden ser añadidos a una clase mediante un nombre y pueden ser creados mediante la siguiente sintaxis.\n",
    "\n",
    "```\n",
    "class <Nombre>():\n",
    "    ...\n",
    "    <nombre_de_atributo> = <objeto>\n",
    "    ...\n",
    "```\n",
    "\n",
    "Para acceder al atributo se utiliza el operador de atributo, el cual corresponde a un punto \".\".\n",
    "\n",
    "```\n",
    "<Nombre>.<nombre_de_atributo>\n",
    "```\n",
    "Los atributos definidos en una clase son asignados a sus instancias con los valores definidos en dicha clase.\n",
    "\n",
    "### Estado de una clase/objeto.\n",
    "\n",
    "Por lo general es posible modificar el contenido e incluso añadir o eliminar los atributos en una clase u objeto. Al conjunto de valores y otros objetos que contiene un objeto o clase en un momento específico, se le conoce como \"estado\".\n",
    "\n",
    "A diferencia de otros lenguajes de programación, las clases en Python pueden cambiar de estado, de tal forma que todas las instancias cuyos atributos no hayan sido modificados cambiarían su estado al estado de la clase.\n",
    "\n",
    "Para sustituir el contenido de un atributo se utiliza el operador de asignación \"*=*\" con la siguiente sintaxis:\n",
    "\n",
    "```\n",
    "<nombre>.<nombre_del_atributo> = <objeto>\n",
    "```\n",
    "\n",
    "**Ejemplo:**"
   ]
  },
  {
   "cell_type": "code",
   "execution_count": null,
   "metadata": {},
   "outputs": [],
   "source": [
    "class Cuadrado():\n",
    "    '''Clase que ejemplifica el uso de atributos.'''\n",
    "    lado = 1"
   ]
  },
  {
   "cell_type": "code",
   "execution_count": null,
   "metadata": {},
   "outputs": [],
   "source": [
    "cuadros = (Cuadrado(), Cuadrado(), Cuadrado(), Cuadrado())"
   ]
  },
  {
   "cell_type": "code",
   "execution_count": null,
   "metadata": {},
   "outputs": [],
   "source": [
    "cuadros[1].lado"
   ]
  },
  {
   "cell_type": "code",
   "execution_count": null,
   "metadata": {},
   "outputs": [],
   "source": [
    "cuadros[0].lado = 3"
   ]
  },
  {
   "cell_type": "code",
   "execution_count": null,
   "metadata": {},
   "outputs": [],
   "source": [
    "cuadros[3].lado = 11"
   ]
  },
  {
   "cell_type": "code",
   "execution_count": null,
   "metadata": {},
   "outputs": [],
   "source": [
    "for cuadro in cuadros:\n",
    "    print(\"El lado de cuadrado con id = {} tiene el valor de {}.\".format(id(cuadro), cuadro.lado))"
   ]
  },
  {
   "cell_type": "code",
   "execution_count": null,
   "metadata": {},
   "outputs": [],
   "source": [
    "Cuadrado.lado = 20"
   ]
  },
  {
   "cell_type": "code",
   "execution_count": null,
   "metadata": {},
   "outputs": [],
   "source": [
    "for cuadro in cuadros:\n",
    "    print(\"El lado de cuadrado con id = {} tiene el valor de {}.\".format(id(cuadro), cuadro.lado))"
   ]
  },
  {
   "cell_type": "markdown",
   "metadata": {},
   "source": [
    "### Agregación de atributos.\n",
    "\n",
    "Python permite añadir nuevos atributos tanto a clases como a objetos mediante el uso del operador de asignación \"*=*\".\n",
    "\n",
    "Sintaxis:\n",
    "```\n",
    "<nombre>.<nombre_del_atributo> = <objeto>\n",
    "```\n",
    "\n",
    "Si la clase u objeto no contiene un atributo con el nombre indicado, dicho atributo es añadido.\n",
    "\n",
    "Los atributos añadidos a una clase tendrá efecto en todas las instancias de ésta.\n",
    "\n",
    "**Ejemplo:**"
   ]
  },
  {
   "cell_type": "code",
   "execution_count": null,
   "metadata": {},
   "outputs": [],
   "source": [
    "class Cuadrado():\n",
    "    '''Clase que ejemplifica el uso de atributos.'''\n",
    "    lado = 1"
   ]
  },
  {
   "cell_type": "code",
   "execution_count": null,
   "metadata": {},
   "outputs": [],
   "source": [
    "cuadros = (Cuadrado(), Cuadrado())"
   ]
  },
  {
   "cell_type": "code",
   "execution_count": null,
   "metadata": {},
   "outputs": [],
   "source": [
    "for cuadro in cuadros:\n",
    "    print(\"El valor de unidades en el objeto id = {} es {}.\".format(id(cuadro), cuadro.unidades))"
   ]
  },
  {
   "cell_type": "code",
   "execution_count": null,
   "metadata": {},
   "outputs": [],
   "source": [
    "Cuadrado.unidades = \"metros\""
   ]
  },
  {
   "cell_type": "code",
   "execution_count": null,
   "metadata": {
    "scrolled": true
   },
   "outputs": [],
   "source": [
    "for cuadro in cuadros:\n",
    "    print(\"El valor de unidades en el objeto id = {} es {}.\".format(id(cuadro), cuadro.unidades))"
   ]
  },
  {
   "cell_type": "code",
   "execution_count": null,
   "metadata": {},
   "outputs": [],
   "source": [
    "cuadros[1].nombre = \"Rectángulo\""
   ]
  },
  {
   "cell_type": "code",
   "execution_count": null,
   "metadata": {},
   "outputs": [],
   "source": [
    "cuadros[1].nombre"
   ]
  },
  {
   "cell_type": "code",
   "execution_count": null,
   "metadata": {
    "scrolled": true
   },
   "outputs": [],
   "source": [
    "cuadros[0].nombre"
   ]
  },
  {
   "cell_type": "markdown",
   "metadata": {},
   "source": [
    "### Eliminación de atributos.\n",
    "\n",
    "Es posible eliminar un atributo mediante la palabra reservada _del_.\n",
    "\n",
    "Sintaxis:\n",
    "\n",
    "```\n",
    "del <nombre>.<nombre de atributo>\n",
    "```\n",
    "\n",
    "Al eliminar un atributo definido en una clase (atributo de clase), éste será eliminado de todas sus instancias.\n",
    "\n",
    "Es posible eliminar los atributos agregados a un objeto, pero no es posible eliminar los atributos de clase de la que dicho objeto fue instanciado.\n",
    "\n",
    "**Ejemplos: **"
   ]
  },
  {
   "cell_type": "code",
   "execution_count": null,
   "metadata": {},
   "outputs": [],
   "source": [
    "class Cuadrado():\n",
    "    '''Clase que ejemplifica el uso de atributos.'''\n",
    "    lado = 1\n",
    "    unidad = \"metros\"\n",
    "\n",
    "cuadros = (Cuadrado(), Cuadrado())"
   ]
  },
  {
   "cell_type": "code",
   "execution_count": null,
   "metadata": {},
   "outputs": [],
   "source": [
    "cuadros[0].alto = 30"
   ]
  },
  {
   "cell_type": "code",
   "execution_count": null,
   "metadata": {},
   "outputs": [],
   "source": [
    "cuadros[0].alto"
   ]
  },
  {
   "cell_type": "code",
   "execution_count": null,
   "metadata": {},
   "outputs": [],
   "source": [
    "del cuadros[0].alto"
   ]
  },
  {
   "cell_type": "code",
   "execution_count": null,
   "metadata": {},
   "outputs": [],
   "source": [
    "cuadros[0].alto"
   ]
  },
  {
   "cell_type": "code",
   "execution_count": null,
   "metadata": {},
   "outputs": [],
   "source": [
    "del cuadros[0].unidad"
   ]
  },
  {
   "cell_type": "code",
   "execution_count": null,
   "metadata": {},
   "outputs": [],
   "source": [
    "del Cuadrado.unidad"
   ]
  },
  {
   "cell_type": "code",
   "execution_count": null,
   "metadata": {},
   "outputs": [],
   "source": [
    "cuadros[1].unidad"
   ]
  },
  {
   "cell_type": "markdown",
   "metadata": {},
   "source": [
    "### Funciones relativas a atributos.\n",
    "\n",
    "Las siguientes funciones pueden ser utilizadas para consultar o eliminar atributos tanto en clases como objetos.\n",
    "\n",
    "#### La función _hasattr()_.\n",
    "\n",
    "Perimite saber si dentro de una clase u objeto cuyo nombre es ingresado como primer argumento contiene un atributo con el nombre idéntico al objeto de tipo _str_ ingresado como segundo argumento. Regresa _True_ en caso de que exista y _False_ en caso contrario.\n",
    "\n",
    "Sintaxis:\n",
    "\n",
    "``` \n",
    "hasattr(<nombre de clase u objeto>, \"<atributo>\")\n",
    "```\n",
    "#### La función _getattr()_.\n",
    "\n",
    "Regresa el contenido del atributo de una clase u objeto cuyo nombre es ingresado como primer argumento.\n",
    "\n",
    "En caso de que no exista un atributo con el nombre correspondiente al objeto de tipo _str_ ingresado como segundo argumento, regresará el valor ingresado como tercer argumento. De no haberse ingresado un tercer argumento, se levantará una excepción de tipo _InstanceError_. \n",
    "\n",
    "Sintaxis:\n",
    "\n",
    "``` \n",
    "getattr(<nombre de clase u objeto>, \"<atributo>\", <objeto>)\n",
    "```\n",
    "\n",
    "#### La función _setattr()_.\n",
    "\n",
    "Sustituye el objeto ingresado como tercer argumento de un atributo cuyo nombre correspondiente aun objeto de tipo _str_ fue ingresado como segundo argumento en una clase u objeto cuyo nombre es ingresado como primer argumento. En caso de que no exista un atributo con el nombre indicado, se añade el atributo con el valor indicado.\n",
    "\n",
    "Sintaxis:\n",
    "\n",
    "``` \n",
    "setattr(<nombre de clase u objeto>, \"<atributo>\", <objeto>)\n",
    "```\n",
    "\n",
    "#### La función _deltattr()_.\n",
    "\n",
    "Elimina el atributo de una clase u objeto cuyo nombre es ingresado como primer argumento.\n",
    "\n",
    "En caso de que no exista un atributo con el nombre correspondiente al objeto de tipo _str_ ingresado como segundo argumento, regresará el valor ingresado como tercer argumento. De no haberse ingresado un tercer argumento, se levantará una excepción de tipo _InstanceError_. \n",
    "\n",
    "Sintaxis:\n",
    "\n",
    "``` \n",
    "delattr(<nombre de clase u objeto>, \"<atributo>\", <objeto>)\n",
    "```\n",
    "\n",
    "**Ejemplos:**"
   ]
  },
  {
   "cell_type": "code",
   "execution_count": null,
   "metadata": {},
   "outputs": [],
   "source": [
    "class Cuadrado():\n",
    "    '''Clase que ejemplifica el uso de atributos.'''\n",
    "    lado = 1"
   ]
  },
  {
   "cell_type": "code",
   "execution_count": null,
   "metadata": {},
   "outputs": [],
   "source": [
    "cuadros = [Cuadrado(), Cuadrado()]"
   ]
  },
  {
   "cell_type": "code",
   "execution_count": null,
   "metadata": {},
   "outputs": [],
   "source": [
    "setattr(cuadros[1], \"lado\", 15)"
   ]
  },
  {
   "cell_type": "code",
   "execution_count": null,
   "metadata": {},
   "outputs": [],
   "source": [
    "cuadros[1].lado"
   ]
  },
  {
   "cell_type": "code",
   "execution_count": null,
   "metadata": {},
   "outputs": [],
   "source": [
    "setattr(Cuadrado, \"unidad\", \"metros\")"
   ]
  },
  {
   "cell_type": "code",
   "execution_count": null,
   "metadata": {},
   "outputs": [],
   "source": [
    "hasattr(cuadros[0], \"unidad\")"
   ]
  },
  {
   "cell_type": "code",
   "execution_count": null,
   "metadata": {},
   "outputs": [],
   "source": [
    "getattr(cuadros[0], \"unidad\")"
   ]
  },
  {
   "cell_type": "code",
   "execution_count": null,
   "metadata": {},
   "outputs": [],
   "source": [
    "delattr(Cuadrado, \"unidad\")"
   ]
  },
  {
   "cell_type": "code",
   "execution_count": null,
   "metadata": {},
   "outputs": [],
   "source": [
    "hasattr(Cuadrado, \"unidad\")"
   ]
  },
  {
   "cell_type": "code",
   "execution_count": null,
   "metadata": {
    "scrolled": true
   },
   "outputs": [],
   "source": [
    "getattr(Cuadrado, \"unidad\")"
   ]
  },
  {
   "cell_type": "code",
   "execution_count": null,
   "metadata": {
    "scrolled": true
   },
   "outputs": [],
   "source": [
    "getattr(Cuadrado, \"unidad\", False)"
   ]
  },
  {
   "cell_type": "markdown",
   "metadata": {},
   "source": [
    "## Métodos.\n",
    "\n",
    "Los métodos son un tipo especial de atributo que corresponde a un objeto invocable (callable) muy parecido a una función.\n",
    "\n",
    "Para definir un método se utiliza la siguiente sintaxis:\n",
    "\n",
    "```\n",
    "class <nombre_de_clase>():\n",
    "   ...\n",
    "   def <nombre>(self, <parámetros>):\n",
    "      ...\n",
    "  ...\n",
    "  ```\n",
    "  La definición de un método siempre debe de incluir un parámetro inicial el cual no será utilizado, pero le indica a Python la naturaleza del objeto. Por convención, ese parámetro lleva el nombre _self_.\n",
    "\n",
    "Para invocar a un método se utiliza la siguiente sintaxis:\n",
    "\n",
    "```\n",
    "<nombre>.<nombre_del_método>(<argumentos>)\n",
    "```\n",
    "**Ejemplo:**"
   ]
  },
  {
   "cell_type": "code",
   "execution_count": null,
   "metadata": {},
   "outputs": [],
   "source": [
    "class Modales():\n",
    "    def saludo(self):\n",
    "        return \"Hola.\""
   ]
  },
  {
   "cell_type": "code",
   "execution_count": null,
   "metadata": {},
   "outputs": [],
   "source": [
    "portero = Modales()\n",
    "portero.saludo()"
   ]
  },
  {
   "cell_type": "markdown",
   "metadata": {},
   "source": [
    "### Interacción entre atributos y métodos dentro de una clase.\n",
    "\n",
    "Además de que los métodos cuentan con ámbitos de forma similar a las funciones, también es posible que cree y acceda a los atributos de su clase.\n",
    "\n",
    "Para indicarle a Python que un método se refiere a un atributo de su clase, se utiliza el nombre _self_, el  operador de atributo  \"_._\" y el nombre del atributo.\n",
    "\n",
    "Sintaxis:\n",
    "```\n",
    "self.<atributo>\n",
    "```\n",
    "    Si un método asigna un valor a un nombre de atributo no existente, dicho atributo es creado y añadido a la clase. \n",
    "\n",
    "Del mismo modo, para invocar un método de la clase se utiliza la siguiente sintaxis:\n",
    "\n",
    "```\n",
    "self.<nombre del método>(<argumentos>)\n",
    "```\n",
    "**Ejemplo:**"
   ]
  },
  {
   "cell_type": "code",
   "execution_count": null,
   "metadata": {},
   "outputs": [],
   "source": [
    "class Cuadrado:\n",
    "    lado = 1\n",
    "    \n",
    "    def superficie(self):\n",
    "        return self.lado ** 2"
   ]
  },
  {
   "cell_type": "code",
   "execution_count": null,
   "metadata": {},
   "outputs": [],
   "source": [
    "cuadro = Cuadrado()"
   ]
  },
  {
   "cell_type": "code",
   "execution_count": null,
   "metadata": {},
   "outputs": [],
   "source": [
    "cuadro.lado = 23"
   ]
  },
  {
   "cell_type": "code",
   "execution_count": null,
   "metadata": {},
   "outputs": [],
   "source": [
    "cuadro.superficie()"
   ]
  },
  {
   "cell_type": "code",
   "execution_count": null,
   "metadata": {},
   "outputs": [],
   "source": [
    "class Cuadrado:\n",
    "    lado = 1\n",
    "    def sup(self):\n",
    "        self.superficie = self.lado ** 2"
   ]
  },
  {
   "cell_type": "code",
   "execution_count": null,
   "metadata": {},
   "outputs": [],
   "source": [
    "cuadro = Cuadrado()"
   ]
  },
  {
   "cell_type": "code",
   "execution_count": null,
   "metadata": {},
   "outputs": [],
   "source": [
    "cuadro.lado = 15"
   ]
  },
  {
   "cell_type": "code",
   "execution_count": null,
   "metadata": {},
   "outputs": [],
   "source": [
    "cuadro.superficie"
   ]
  },
  {
   "cell_type": "code",
   "execution_count": null,
   "metadata": {},
   "outputs": [],
   "source": [
    "cuadro.sup()"
   ]
  },
  {
   "cell_type": "code",
   "execution_count": null,
   "metadata": {},
   "outputs": [],
   "source": [
    "cuadro.superficie"
   ]
  },
  {
   "cell_type": "code",
   "execution_count": null,
   "metadata": {},
   "outputs": [],
   "source": [
    "dir(cuadro)"
   ]
  },
  {
   "cell_type": "markdown",
   "metadata": {},
   "source": [
    "### Ámbitos en los métodos.\n",
    "\n",
    " Los métodos tiene un ámbito local, una ámbito global y el ámbito de la clase/objeto a la que pertencen y al que se accede mediante _self_.\n",
    " \n",
    "**Ejemplo:**"
   ]
  },
  {
   "cell_type": "code",
   "execution_count": null,
   "metadata": {},
   "outputs": [],
   "source": [
    "class Circulo:\n",
    "    radio = 1\n",
    "    \n",
    "    def sup(self):\n",
    "        self.superficie = pi * self.radio ** 2\n",
    "        return self.superficie\n",
    "        \n",
    "    def volumen_extrusion(self, alto):\n",
    "        return self.sup() * alto"
   ]
  },
  {
   "cell_type": "code",
   "execution_count": null,
   "metadata": {},
   "outputs": [],
   "source": [
    "rueda = Circulo()"
   ]
  },
  {
   "cell_type": "code",
   "execution_count": null,
   "metadata": {},
   "outputs": [],
   "source": [
    "rueda.radio = 15"
   ]
  },
  {
   "cell_type": "code",
   "execution_count": null,
   "metadata": {},
   "outputs": [],
   "source": [
    "rueda.volumen_extrusion(12)"
   ]
  },
  {
   "cell_type": "code",
   "execution_count": null,
   "metadata": {},
   "outputs": [],
   "source": [
    "from math import pi"
   ]
  },
  {
   "cell_type": "code",
   "execution_count": null,
   "metadata": {},
   "outputs": [],
   "source": [
    "rueda.volumen_extrusion(12)"
   ]
  },
  {
   "cell_type": "code",
   "execution_count": null,
   "metadata": {},
   "outputs": [],
   "source": [
    "rueda.superficie"
   ]
  },
  {
   "cell_type": "code",
   "execution_count": null,
   "metadata": {},
   "outputs": [],
   "source": [
    "rueda.alto"
   ]
  },
  {
   "cell_type": "markdown",
   "metadata": {},
   "source": [
    "## Agregación de funciones a  objetos (monkey patching).\n",
    "\n",
    "Python permite agregar funciones a objetos como si fueran un atributo más. \n",
    "Debido a que los métodos utilizan el parámetro _self_, si se intenta añadir una función a una clase, está no funcionaría como si fuera un método.\n",
    "\n",
    "**Ejemplo:**"
   ]
  },
  {
   "cell_type": "code",
   "execution_count": null,
   "metadata": {},
   "outputs": [],
   "source": [
    "class Animal:\n",
    "    nombre = \"Fido\""
   ]
  },
  {
   "cell_type": "code",
   "execution_count": null,
   "metadata": {},
   "outputs": [],
   "source": [
    "perros = (Animal(), Animal())\n",
    "gato = Animal()"
   ]
  },
  {
   "cell_type": "code",
   "execution_count": null,
   "metadata": {},
   "outputs": [],
   "source": [
    "def maulla():\n",
    "    print(\"miau\")"
   ]
  },
  {
   "cell_type": "code",
   "execution_count": null,
   "metadata": {},
   "outputs": [],
   "source": [
    "type(maulla)"
   ]
  },
  {
   "cell_type": "code",
   "execution_count": null,
   "metadata": {},
   "outputs": [],
   "source": [
    "gato.maulla = maulla"
   ]
  },
  {
   "cell_type": "code",
   "execution_count": null,
   "metadata": {},
   "outputs": [],
   "source": [
    "gato.maulla()"
   ]
  },
  {
   "cell_type": "code",
   "execution_count": null,
   "metadata": {},
   "outputs": [],
   "source": [
    "def duerme():\n",
    "    print(\"zzzz\")"
   ]
  },
  {
   "cell_type": "code",
   "execution_count": null,
   "metadata": {},
   "outputs": [],
   "source": [
    "Animal.duerme = duerme"
   ]
  },
  {
   "cell_type": "code",
   "execution_count": null,
   "metadata": {},
   "outputs": [],
   "source": [
    "perros[1].duerme"
   ]
  },
  {
   "cell_type": "code",
   "execution_count": null,
   "metadata": {},
   "outputs": [],
   "source": [
    "perros[1].duerme()"
   ]
  },
  {
   "cell_type": "markdown",
   "metadata": {},
   "source": [
    "Los métodos requieren que en su definición exista un parámetro que sea utilizado por *self*."
   ]
  },
  {
   "cell_type": "code",
   "execution_count": null,
   "metadata": {},
   "outputs": [],
   "source": [
    "def duerme(self):\n",
    "    print(\"zzzzz\")"
   ]
  },
  {
   "cell_type": "code",
   "execution_count": null,
   "metadata": {},
   "outputs": [],
   "source": [
    "duerme()"
   ]
  },
  {
   "cell_type": "code",
   "execution_count": null,
   "metadata": {},
   "outputs": [],
   "source": [
    "Animal.duerme=duerme"
   ]
  },
  {
   "cell_type": "code",
   "execution_count": null,
   "metadata": {},
   "outputs": [],
   "source": [
    "gato.duerme()"
   ]
  },
  {
   "cell_type": "code",
   "execution_count": null,
   "metadata": {},
   "outputs": [],
   "source": [
    "id(maulla)"
   ]
  },
  {
   "cell_type": "code",
   "execution_count": null,
   "metadata": {},
   "outputs": [],
   "source": [
    "id(gato.maulla)"
   ]
  },
  {
   "cell_type": "code",
   "execution_count": null,
   "metadata": {},
   "outputs": [],
   "source": [
    "del gato"
   ]
  },
  {
   "cell_type": "code",
   "execution_count": null,
   "metadata": {},
   "outputs": [],
   "source": [
    "maulla"
   ]
  },
  {
   "cell_type": "markdown",
   "metadata": {},
   "source": [
    "## Diferencias entre agregación y composición."
   ]
  },
  {
   "cell_type": "markdown",
   "metadata": {
    "collapsed": true
   },
   "source": [
    "<p style=\"text-align: center\"><a rel=\"license\" href=\"http://creativecommons.org/licenses/by/4.0/\"><img alt=\"Licencia Creative Commons\" style=\"border-width:0\" src=\"https://i.creativecommons.org/l/by/4.0/80x15.png\" /></a><br />Esta obra está bajo una <a rel=\"license\" href=\"http://creativecommons.org/licenses/by/4.0/\">Licencia Creative Commons Atribución 4.0 Internacional</a>.</p>\n",
    "<p style=\"text-align: center\">&copy; José Luis Chiquete Valdivieso. 2019.</p>"
   ]
  }
 ],
 "metadata": {
  "kernelspec": {
   "display_name": "Python 3",
   "language": "python",
   "name": "python3"
  },
  "language_info": {
   "codemirror_mode": {
    "name": "ipython",
    "version": 3
   },
   "file_extension": ".py",
   "mimetype": "text/x-python",
   "name": "python",
   "nbconvert_exporter": "python",
   "pygments_lexer": "ipython3",
   "version": "3.7.0"
  }
 },
 "nbformat": 4,
 "nbformat_minor": 2
}
