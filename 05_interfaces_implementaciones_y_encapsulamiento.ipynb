{
 "cells": [
  {
   "cell_type": "markdown",
   "metadata": {
    "collapsed": true
   },
   "source": [
    "[![pythonista.io](imagenes/pythonista.png)](https://pythonista.io)"
   ]
  },
  {
   "cell_type": "markdown",
   "metadata": {},
   "source": [
    "# Interfaces, implementaciones y encapsulamiento."
   ]
  },
  {
   "cell_type": "markdown",
   "metadata": {},
   "source": [
    "## Interfaces e implementaciones.\n",
    "\n",
    "Uno de los objetivos de la programación orientada a objetos es la de crear código que sea:\n",
    "\n",
    "* Reutilizable. \n",
    "* Modular.\n",
    "* Interactivo.\n",
    "* Desacoplado (decoupled).\n",
    "\n",
    "Por lo general, los métodos tienen la finalidad de:\n",
    "\n",
    "* Modificar el estado de un objeto (set).\n",
    "* Exponer componentes específicos del estado de un objeto (get).\n",
    "* Interactuar con otros componentes del entorno de una aplicación.\n",
    "\n",
    "Por ello, los diversos lenguajes de programación orientados a objetos aprovechan e incluso hacen obligatorio el uso de interfaces con sus respectivas implementaciones muy particulares.\n",
    "\n",
    "### Interfaces.\n",
    "\n",
    "Una interfaz define las reglas a partir de las cuales un método puede comunicarse con los métodos de otros objetos. \n",
    "\n",
    "En Python, una interfaz se crea tan sólo con definir un método que indica los parámetros que utiliza.\n",
    "\n",
    "**Ejemplo:**\n",
    "\n",
    "* La clase ```Dispositivo``` define una interfaz simple para el parámetro ```consumo``` en el método ```__init__()```, la cual debe aceptar un argumento que pueda ser convertido en un objeto de tipo ```float``` y cuyo valor por definición es ```50```.\n",
    "* Por otra parte, la clase  ```Dispositivo``` define una interfaz más compleja para el parámetro ```energia``` en el método ```duracion()```. En caso de que el argumento ingresado no cumpla con la definición de la interfaz, se levantará una excepción de tipo ```ValueError```."
   ]
  },
  {
   "cell_type": "code",
   "execution_count": null,
   "metadata": {},
   "outputs": [],
   "source": [
    "class Dispositivo:\n",
    "    '''Clase que define un una interfaz en el método __init__.'''\n",
    "    \n",
    "    def __init__(self, consumo=50):\n",
    "        self.consumo = float(consumo) \n",
    "        \n",
    "    def duracion(self, energia):\n",
    "        '''El argumento para el parámetro energía debe de ser una lista o tupla.\n",
    "           La colección debe de tener exactamente 2 elementos. \n",
    "           El primer elemento debe de ser un número real.\n",
    "           El segundo elemento debe de ser la cadena de caracteres \"watts/hr\". '''  \n",
    "        if  type(energia) in (tuple, list) and \\\n",
    "        len(energia) == 2 and \\\n",
    "        type(energia[0]) in (int, float) and\\\n",
    "        energia[1].casefold() == \"watts/hr\":\n",
    "            return energia[0] / self.consumo\n",
    "        else:\n",
    "            raise ValueError('Interfaz incorrecta.')        "
   ]
  },
  {
   "cell_type": "code",
   "execution_count": null,
   "metadata": {},
   "outputs": [],
   "source": [
    "tostadora = Dispositivo(20)"
   ]
  },
  {
   "cell_type": "code",
   "execution_count": null,
   "metadata": {},
   "outputs": [],
   "source": [
    "tostadora.duracion((12.234, \"watts/hr\"))"
   ]
  },
  {
   "cell_type": "code",
   "execution_count": null,
   "metadata": {},
   "outputs": [],
   "source": [
    "tostadora.duracion(1500)"
   ]
  },
  {
   "cell_type": "markdown",
   "metadata": {},
   "source": [
    "### Implementaciones.\n",
    "\n",
    "Una implementación es la manera en la que un método realiza las operaciones necesarias para regresar la información que será entregada bajo la especificación de una interfaz.\n",
    "\n",
    "Pueden haber múltiples implementaciones para una interfaz específica. De hecho, las implementaciones pueden ser modificadas en el tiempo o incluso sustituida por completo, pero la entrega de la información está garantizada por la interfaz.\n",
    "\n",
    "**Ejemplo:**\n",
    "\n",
    "* Las clases ```Fotovoltaica``` e ```Hidroelectrica``` incluyen cada una un método ```energia()``` que incluye en su código una implementación compatible con la interfaz definida en ```Dispositivo.duracion()```.\n",
    "* La función ```horas()``` también hace uso de una interfaz: el método ```energia()```, el cual es compartido por las clases ```Fotovoltaica``` e ```Hidroelectrica```."
   ]
  },
  {
   "cell_type": "code",
   "execution_count": null,
   "metadata": {},
   "outputs": [],
   "source": [
    "class Dispositivo:\n",
    "    '''Clase que define un una interfaz en el método __init__.'''\n",
    "    \n",
    "    def __init__(self, consumo=50):\n",
    "        self.consumo = float(consumo) \n",
    "        \n",
    "    def duracion(self, energia):\n",
    "        '''El argumento para el parámetro energía debe de ser una lista o tupla.\n",
    "           La colección debe de tener exactamente 2 elementos. \n",
    "           El primer elemento debe de ser un número real.\n",
    "           El segundo elemento debe de ser la cadena de caracteres \"watts/hr\". '''\n",
    "        if  type(energia) in (tuple, list) and len(energia) == 2 and type(energia[0]) in (int, float) \\\n",
    "        and energia[1].casefold() == \"watts/hr\":\n",
    "            return energia[0] / self.consumo\n",
    "        else:\n",
    "            raise ValueError('Interfaz incorrecta.')        "
   ]
  },
  {
   "cell_type": "code",
   "execution_count": null,
   "metadata": {},
   "outputs": [],
   "source": [
    "class Fotovoltaica:\n",
    "    rendimiento = 500\n",
    "        \n",
    "    def energia(self, lumenes):\n",
    "        return (lumenes * self.rendimiento, \"watts/hr\")\n",
    "    \n",
    "class Hidroelectrica:\n",
    "    rendimiento = 2000\n",
    "        \n",
    "    def energia(self, litros):\n",
    "        return (litros * self.rendimiento, \"watts/hr\")"
   ]
  },
  {
   "cell_type": "code",
   "execution_count": null,
   "metadata": {},
   "outputs": [],
   "source": [
    "def horas(Fuente, cantidad):\n",
    "    '''Calcula el tiempo que un dispositivo podría funcionar dependiendo de\n",
    "    la clase indicada en el parámetro fuente.'''\n",
    "    \n",
    "    # Se hace una instancia de la clase Dispositivo.\n",
    "    tostadora = Dispositivo(10)\n",
    "    print('El consumo del dispositivo es: ', tostadora.consumo)\n",
    "    \n",
    "    '''Regresa el resultado del ejecutar método tostadora.duracion() usando\n",
    "       el resultado del método energia propio del objeto instanciado de la \n",
    "       clase Fuente que a su vez usa cantidad coo argumento.'''\n",
    "    \n",
    "    # No importa la clase del objeto, siempre que el método energia() sea compatible.\n",
    "    return tostadora.duracion(Fuente().energia(cantidad))"
   ]
  },
  {
   "cell_type": "code",
   "execution_count": null,
   "metadata": {},
   "outputs": [],
   "source": [
    "horas(Hidroelectrica, 500)"
   ]
  },
  {
   "cell_type": "code",
   "execution_count": null,
   "metadata": {},
   "outputs": [],
   "source": [
    "horas(Fotovoltaica, 500)"
   ]
  },
  {
   "cell_type": "markdown",
   "metadata": {},
   "source": [
    "## Encapsulamiento.\n",
    "\n",
    "A partir de las interfaces e implementaciones se deriva el concepto de \"encapsulamiento\". \n",
    "\n",
    "El encapsulamiento es una técnica que consiste en exponer los atributos de un objeto exclusivamente mediante interfaces, restringir el acceso tanto a los atributos como a las implementaciones. Es así que en otros lenguajes de programación los atributos y métodos pueden ser restingidos definiéndolos como públicos, privados, protegidos, etc.\n",
    "\n",
    "## Ofuscamiento de métodos y atributos.\n",
    "\n",
    "No existen atributos privados o protegidos en Python, pero se puede ofuscar el acceso a un atributo mediante \"name mangling\".\n",
    "\n",
    "El name mangling se realiza anteponiendo dobles guiones bajos ```__``` antes del nombre del atributo a esconder.\n",
    "\n",
    "Sintaxis:\n",
    "\n",
    "```\n",
    "class <nombre de la clase>:\n",
    "...\n",
    "...\n",
    "    __<nombre_1>\n",
    "...\n",
    "...\n",
    "    def __<nombre_2> (self, <parámetros>):\n",
    "    ...\n",
    "    ...\n",
    "```\n",
    "\n",
    "Los atributos escondidos son accesibles como cualquier otro atributo para los métodos del objeto, pero no son accesibles desde fuera.\n",
    "\n",
    "Para acceder a un atributo escondido fuera del objeto es necesario utilizar la siguiente sintaxis:\n",
    "\n",
    "```\n",
    "<objeto>._<nombre de la clase>.__<nombre>\n",
    "```\n",
    "\n",
    "**Ejemplo:**"
   ]
  },
  {
   "cell_type": "code",
   "execution_count": null,
   "metadata": {},
   "outputs": [],
   "source": [
    "class CajaDeSeguridad:\n",
    "    '''Clase que incluye un atributo \"escondido.\"'''\n",
    "    __contraclave = \"123qwe\"\n",
    "    \n",
    "    def seguro(self, clave):\n",
    "        if self.__contraclave == clave:\n",
    "            print(\"Acceso concedido.\")\n",
    "        else:\n",
    "            print(\"Acceso denegado.\")"
   ]
  },
  {
   "cell_type": "code",
   "execution_count": null,
   "metadata": {},
   "outputs": [],
   "source": [
    "caja = CajaDeSeguridad()"
   ]
  },
  {
   "cell_type": "code",
   "execution_count": null,
   "metadata": {},
   "outputs": [],
   "source": [
    "caja.seguro(\"Hola\")"
   ]
  },
  {
   "cell_type": "code",
   "execution_count": null,
   "metadata": {},
   "outputs": [],
   "source": [
    "caja.seguro(\"123qwe\")"
   ]
  },
  {
   "cell_type": "code",
   "execution_count": null,
   "metadata": {},
   "outputs": [],
   "source": [
    "caja.__contraclave"
   ]
  },
  {
   "cell_type": "code",
   "execution_count": null,
   "metadata": {},
   "outputs": [],
   "source": [
    "dir(caja)"
   ]
  },
  {
   "cell_type": "code",
   "execution_count": null,
   "metadata": {},
   "outputs": [],
   "source": [
    "caja._CajaDeSeguridad__contraclave"
   ]
  },
  {
   "cell_type": "markdown",
   "metadata": {},
   "source": [
    "<p style=\"text-align: center\"><a rel=\"license\" href=\"http://creativecommons.org/licenses/by/4.0/\"><img alt=\"Licencia Creative Commons\" style=\"border-width:0\" src=\"https://i.creativecommons.org/l/by/4.0/80x15.png\" /></a><br />Esta obra está bajo una <a rel=\"license\" href=\"http://creativecommons.org/licenses/by/4.0/\">Licencia Creative Commons Atribución 4.0 Internacional</a>.</p>\n",
    "<p style=\"text-align: center\">&copy; José Luis Chiquete Valdivieso. 2020.</p>"
   ]
  }
 ],
 "metadata": {
  "kernelspec": {
   "display_name": "Python 3",
   "language": "python",
   "name": "python3"
  },
  "language_info": {
   "codemirror_mode": {
    "name": "ipython",
    "version": 3
   },
   "file_extension": ".py",
   "mimetype": "text/x-python",
   "name": "python",
   "nbconvert_exporter": "python",
   "pygments_lexer": "ipython3",
   "version": "3.7.6"
  }
 },
 "nbformat": 4,
 "nbformat_minor": 2
}
