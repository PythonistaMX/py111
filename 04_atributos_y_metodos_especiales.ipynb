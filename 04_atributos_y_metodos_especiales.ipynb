{
 "cells": [
  {
   "cell_type": "markdown",
   "metadata": {
    "collapsed": true
   },
   "source": [
    "[![pythonista.io](imagenes/pythonista.png)](https://pythonista.io)"
   ]
  },
  {
   "cell_type": "markdown",
   "metadata": {},
   "source": [
    "# Atributos, métodos especiales."
   ]
  },
  {
   "cell_type": "markdown",
   "metadata": {
    "collapsed": true
   },
   "source": [
    "En Python se pueden identificar a los atributos y métodos especiales (magic methods) de un objeto por que su nombre está encerrado entre dobles guiones bajos ```__```.\n",
    "\n",
    "Estos atributos se utilizan para definir comportamientos básicos de un objeto y son comunes con otras clases.\n",
    "\n",
    "La siguiente liga puede ser usada de referencia: \n",
    "\n",
    "http://minhhh.github.io/posts/a-guide-to-pythons-magic-methods\n",
    "\n",
    "A continuación se muestran algunos de los atributos y métodos especiales más representativos."
   ]
  },
  {
   "cell_type": "markdown",
   "metadata": {},
   "source": [
    "## Métodos de operadores.\n",
    "\n",
    "Python es un lenguaje de muy alto nivel de abstracción que por ende, realiza operaciones de manera distinta a otros. Uno de esos casos es cuando el intérprete identifica un operador.\n",
    "\n",
    "Cuando el intérprete identifica a un operador en una expresión, no realiza la operación relacionada con el operador directamente, sino que invoca un método especial.\n",
    "\n",
    "* ```__add__()``` corresponde al operador ```+```.\n",
    "* ```__and__()``` corresponde al operador ```&```.\n",
    "* ```__eq__()``` corresponde al operador ```==```.\n",
    "* ```__floordiv__()``` corresponde al operador ```//```.\n",
    "* ```__ge__()``` corresponde al operador ```>=```.\n",
    "* ```__gt__()``` corresponde al operador ```>```.\n",
    "* ```__le__()``` corresponde al operador ```<=```.\n",
    "* ```__lshift__()``` corresponde al operador ```<<```.\n",
    "* ```__lt__()``` corresponde al operador ```<```.\n",
    "* ```__mod__()``` corresponde al operador ```%```.\n",
    "* ```__mul__()``` corresponde al operador ```*```.\n",
    "* ```__or__()``` corresponde al operador ```|```.\n",
    "* ```__pow__()``` corresponde al operador ```**```.\n",
    "* ```__rshift__()``` corresponde al operador ```>>```.\n",
    "* ```__sub__()``` corresponde al operador ```-```.\n",
    "* ```__truediv__()``` corresponde al operador ```&```.\n",
    "* ```__xor__()``` corresponde al operador ```^```.\n",
    "\n",
    "**Nota:** Con excepción del método ```__eq__()```, estas funciones sólo pueden ser llamadas cuando el objetos que las contiene se encuentra a la izquierda del operador."
   ]
  },
  {
   "cell_type": "markdown",
   "metadata": {},
   "source": [
    "**Ejemplos:**"
   ]
  },
  {
   "cell_type": "markdown",
   "metadata": {},
   "source": [
    "* Las siguientes celdas acceden al método ```__lt__()```, equivalente al operador ```<```."
   ]
  },
  {
   "cell_type": "code",
   "execution_count": null,
   "metadata": {},
   "outputs": [],
   "source": [
    "(12).__lt__(4)"
   ]
  },
  {
   "cell_type": "code",
   "execution_count": null,
   "metadata": {},
   "outputs": [],
   "source": [
    "12 < 4"
   ]
  },
  {
   "cell_type": "markdown",
   "metadata": {},
   "source": [
    "* Las siguientes celdas acceden al método ```__or__()```, equivalente al operador ```|```."
   ]
  },
  {
   "cell_type": "code",
   "execution_count": null,
   "metadata": {},
   "outputs": [],
   "source": [
    "(12).__or__(1)"
   ]
  },
  {
   "cell_type": "code",
   "execution_count": null,
   "metadata": {},
   "outputs": [],
   "source": [
    "12 | 1"
   ]
  },
  {
   "cell_type": "markdown",
   "metadata": {},
   "source": [
    "### Implementación de un método de operador."
   ]
  },
  {
   "cell_type": "markdown",
   "metadata": {},
   "source": [
    "* El método ```__add__()``` se ejecuta cuando el intérprete se encuentra a la izquierda del símbolo de suma ```+```."
   ]
  },
  {
   "cell_type": "code",
   "execution_count": null,
   "metadata": {},
   "outputs": [],
   "source": [
    "class SuperficieCuadrada():\n",
    "    '''Realiza operaciones con superficies de cuadrados.'''\n",
    "    lado = 1\n",
    "    \n",
    "    def superficie(self):\n",
    "        '''Calcula la superficie de un cuadrado.'''\n",
    "        return self.lado ** 2\n",
    "    \n",
    "    def __add__(self, elemento):\n",
    "        '''Realiza operaciones de suma.'''\n",
    "        if type(elemento) is SuperficieCuadrada:\n",
    "            return self.superficie() + elemento.superficie()\n",
    "        elif type(elemento) in (int, float):\n",
    "            return self.superficie() + elemento\n",
    "        else:\n",
    "            raise NotImplementedError(\"No sé qué hacer\")"
   ]
  },
  {
   "cell_type": "markdown",
   "metadata": {},
   "source": [
    "* Se creará al objeto de tipo ```tuple``` de nombre ```cuadros```, el cual contiene dos instancias de ```SuperficieCuadrada```."
   ]
  },
  {
   "cell_type": "code",
   "execution_count": null,
   "metadata": {},
   "outputs": [],
   "source": [
    "cuadros = (SuperficieCuadrada(), SuperficieCuadrada())"
   ]
  },
  {
   "cell_type": "markdown",
   "metadata": {},
   "source": [
    "* Se actualziarán los objetos asignados al atributo ```lado```de cada elemento de ```cuadros```."
   ]
  },
  {
   "cell_type": "code",
   "execution_count": null,
   "metadata": {},
   "outputs": [],
   "source": [
    "cuadros[0].lado = 25\n",
    "cuadros[1].lado = 12"
   ]
  },
  {
   "cell_type": "markdown",
   "metadata": {},
   "source": [
    "* Las siguientes celdas accederán al métodos ```__add__()```."
   ]
  },
  {
   "cell_type": "code",
   "execution_count": null,
   "metadata": {},
   "outputs": [],
   "source": [
    "cuadros[0] + cuadros[1]"
   ]
  },
  {
   "cell_type": "code",
   "execution_count": null,
   "metadata": {},
   "outputs": [],
   "source": [
    "cuadros[0].__add__(cuadros[1])"
   ]
  },
  {
   "cell_type": "code",
   "execution_count": null,
   "metadata": {},
   "outputs": [],
   "source": [
    "cuadros[0] + 12.34"
   ]
  },
  {
   "cell_type": "code",
   "execution_count": null,
   "metadata": {},
   "outputs": [],
   "source": [
    "cuadros[0].__add__(12.34)"
   ]
  },
  {
   "cell_type": "code",
   "execution_count": null,
   "metadata": {},
   "outputs": [],
   "source": [
    "cuadros[1] + 2j"
   ]
  },
  {
   "cell_type": "markdown",
   "metadata": {},
   "source": [
    "* En las siguientes celdas, las expresiones colocarán a los objetos instanciados de ```SuperficieCuadrada``` se colocarán a la derecha del operador ```+```. "
   ]
  },
  {
   "cell_type": "code",
   "execution_count": null,
   "metadata": {},
   "outputs": [],
   "source": [
    "12.34 + cuadros[0]"
   ]
  },
  {
   "cell_type": "code",
   "execution_count": null,
   "metadata": {},
   "outputs": [],
   "source": [
    "12 + cuadros[0]"
   ]
  },
  {
   "cell_type": "code",
   "execution_count": null,
   "metadata": {},
   "outputs": [],
   "source": [
    "sum(cuadros)"
   ]
  },
  {
   "cell_type": "markdown",
   "metadata": {},
   "source": [
    "### Métodos de operador recíprocos.\n",
    "\n",
    "En el ejemplo previo, el orden del operador tiene relevancia, ya que los objetos de tipo ```int``` y de tipo ```float```, los cuales se invocan primero por estar a la izquierda del operador, no cuentan con una implementación de ```__add__``` para la clase ```SuperficieCuadrada```.\n",
    "\n",
    "Lo mismo ocurre con la función ```sum()```, la cual comienza a realizar la suma desde ```0```, el cual es de tipo ```int```.\n",
    "\n",
    "Cuando un objeto de tipo numérico no encuentra una implementación adecuada, busca un método recíproco en el objeto a la derecha del operador.\n",
    "\n",
    "Los métodos de operador recíprocos de son:\n",
    "\n",
    "* ```__radd__()``` corresponde al operador ```+```.\n",
    "* ```__rand__()``` corresponde al operador ```&```.\n",
    "* ```__rfloordiv__()``` corresponde al operador ```//```.\n",
    "* ```__rlshift__()``` corresponde al operador ```<<```.\n",
    "* ```__rmod__()``` corresponde al operador ```%```.\n",
    "* ```__rmul__()``` corresponde al operador ```*```.\n",
    "* ```__ror__()``` corresponde al operador ```|```.\n",
    "* ```__rpow__()``` corresponde al operador ```**```.\n",
    "* ```__rrshift__()``` corresponde al operador ```>>```.\n",
    "* ```__rsub__()``` corresponde al operador ```-```.\n",
    "* ```__rtruediv__()``` corresponde al operador ```/```.\n",
    "* ```__rxor__()``` corresponde al operador ```^```.\n",
    "* ```__neg__()``` corresponde al operador ```-``` (negativo)."
   ]
  },
  {
   "cell_type": "markdown",
   "metadata": {},
   "source": [
    "**Ejemplo:**"
   ]
  },
  {
   "cell_type": "code",
   "execution_count": null,
   "metadata": {},
   "outputs": [],
   "source": [
    "class SuperficieCuadrada():\n",
    "    '''Realiza operaciones con superficies de cuadrados.'''\n",
    "    lado = 1\n",
    "    \n",
    "    def superficie(self):\n",
    "        '''Calcula la superfice de un cuadrado.'''\n",
    "        return self.lado ** 2\n",
    "    \n",
    "    def __add__(self, elemento):\n",
    "        '''Realiza operaciones de suma.'''\n",
    "        if type(elemento) is SuperficieCuadrada:\n",
    "            return self.superficie() + elemento.superficie()\n",
    "        elif type(elemento) in (int, float):\n",
    "            return self.superficie() + elemento\n",
    "        else:\n",
    "            raise NotImplementedError(\"No sé qué hacer.\")\n",
    "            \n",
    "    def __radd__(self, elemento):\n",
    "        '''Realiza operaciones de suma cuando el otro objeto no la tiene implementada.'''\n",
    "        return self.__add__(elemento)"
   ]
  },
  {
   "cell_type": "code",
   "execution_count": null,
   "metadata": {},
   "outputs": [],
   "source": [
    "cuadrados = [SuperficieCuadrada(), SuperficieCuadrada(), SuperficieCuadrada()]"
   ]
  },
  {
   "cell_type": "code",
   "execution_count": null,
   "metadata": {},
   "outputs": [],
   "source": [
    "cuadrados[0].lado = 13.5\n",
    "cuadrados[1].lado = 50.33\n",
    "cuadrados[2].lado = 23.1"
   ]
  },
  {
   "cell_type": "code",
   "execution_count": null,
   "metadata": {},
   "outputs": [],
   "source": [
    "12.5 + cuadrados[1]"
   ]
  },
  {
   "cell_type": "code",
   "execution_count": null,
   "metadata": {},
   "outputs": [],
   "source": [
    "cuadrados[1] + 21"
   ]
  },
  {
   "cell_type": "code",
   "execution_count": null,
   "metadata": {},
   "outputs": [],
   "source": [
    "sum(cuadrados)"
   ]
  },
  {
   "cell_type": "code",
   "execution_count": null,
   "metadata": {},
   "outputs": [],
   "source": [
    "cuadrados[2] + 15.4"
   ]
  },
  {
   "cell_type": "code",
   "execution_count": null,
   "metadata": {},
   "outputs": [],
   "source": [
    "1j + cuadrados[0]"
   ]
  },
  {
   "cell_type": "code",
   "execution_count": null,
   "metadata": {},
   "outputs": [],
   "source": [
    "dir(3)"
   ]
  },
  {
   "cell_type": "markdown",
   "metadata": {},
   "source": [
    "## Métodos de inicio y finalización de objetos.\n",
    "\n",
    "### El método ```__new__()```.\n",
    "\n",
    "Es el método que se ejecuta para crear una instancia del objeto. Se utiliza de forma muy esporádica y en la mayoría de los casos para modificar clases de objetos inmutables. El estudio de este método queda fuera del alcance de este curso introductorio.\n",
    "\n",
    "### El método ```__init__()```.\n",
    "\n",
    "Es el primer método que se ejecuta un vez instanciado un objeto. Los argumentos que se ingresan dentro del paréntesis al crear un objetos son transferidos a este método."
   ]
  },
  {
   "cell_type": "markdown",
   "metadata": {},
   "source": [
    "**Ejemplo:**"
   ]
  },
  {
   "cell_type": "code",
   "execution_count": null,
   "metadata": {},
   "outputs": [],
   "source": [
    "class PoblacionCensada():\n",
    "    '''Crea censos de población. '''\n",
    "    \n",
    "    def __init__(self, nombre, numero=0):\n",
    "        \n",
    "        print(\"Se ha creado la población {} con {} habitantes.\".format(nombre, numero))\n",
    "        self.nombre = nombre\n",
    "        self.numero = numero"
   ]
  },
  {
   "cell_type": "code",
   "execution_count": null,
   "metadata": {},
   "outputs": [],
   "source": [
    "urbana = PoblacionCensada(\"Texcoco\", 20000)"
   ]
  },
  {
   "cell_type": "code",
   "execution_count": null,
   "metadata": {},
   "outputs": [],
   "source": [
    "urbana.nombre"
   ]
  },
  {
   "cell_type": "code",
   "execution_count": null,
   "metadata": {},
   "outputs": [],
   "source": [
    "urbana.numero"
   ]
  },
  {
   "cell_type": "markdown",
   "metadata": {},
   "source": [
    "El método ```__init__()``` se utiliza generalmente para inicializar el estado de un objeto."
   ]
  },
  {
   "cell_type": "markdown",
   "metadata": {},
   "source": [
    "### El método ```__del__()```.\n",
    "\n",
    "Es el método que se ejecuta cuando un objeto es desechado."
   ]
  },
  {
   "cell_type": "markdown",
   "metadata": {},
   "source": [
    "**Ejemplo:**"
   ]
  },
  {
   "cell_type": "code",
   "execution_count": null,
   "metadata": {},
   "outputs": [],
   "source": [
    "class Ente():\n",
    "    '''Ejemplifica el ciclo de vida de un objeto.'''\n",
    "    \n",
    "    def __init__(self, nombre='Juan'):\n",
    "        print('Hola. Mi nombre es {}.'.format(nombre))\n",
    "        self.nombre = nombre\n",
    "    \n",
    "    def __del__(self):\n",
    "        print ('{} ha dejado de existir.'.format(self.nombre))"
   ]
  },
  {
   "cell_type": "code",
   "execution_count": null,
   "metadata": {},
   "outputs": [],
   "source": [
    "entidades = [Ente('Hugo'), Ente('Paco'), Ente('Luis')]"
   ]
  },
  {
   "cell_type": "code",
   "execution_count": null,
   "metadata": {},
   "outputs": [],
   "source": [
    "del entidades[1]"
   ]
  },
  {
   "cell_type": "code",
   "execution_count": null,
   "metadata": {},
   "outputs": [],
   "source": [
    "del entidades"
   ]
  },
  {
   "cell_type": "code",
   "execution_count": null,
   "metadata": {},
   "outputs": [],
   "source": [
    "Ente('Jose')"
   ]
  },
  {
   "cell_type": "markdown",
   "metadata": {},
   "source": [
    "## Atributos de información.\n",
    "\n",
    "### El atributo ```__doc__``` .\n",
    "\n",
    "Es el atributo que contiene la docstring que se utiliza para documentar al código.\n",
    "\n",
    "### El atributo ```__class__```.\n",
    "\n",
    "Regresa la clase de la que ha sido instanciado un objeto.\n",
    "\n",
    "### El método ```__dir__()```\n",
    ".\n",
    "Regresa la lista de atributos contenidos en un objeto."
   ]
  },
  {
   "cell_type": "markdown",
   "metadata": {},
   "source": [
    "**Ejemplos:**"
   ]
  },
  {
   "cell_type": "code",
   "execution_count": null,
   "metadata": {},
   "outputs": [],
   "source": [
    "entidad = Ente()"
   ]
  },
  {
   "cell_type": "code",
   "execution_count": null,
   "metadata": {},
   "outputs": [],
   "source": [
    "entidad.__doc__"
   ]
  },
  {
   "cell_type": "code",
   "execution_count": null,
   "metadata": {},
   "outputs": [],
   "source": [
    "entidad.__class__"
   ]
  },
  {
   "cell_type": "code",
   "execution_count": null,
   "metadata": {},
   "outputs": [],
   "source": [
    "entidad.__dir__()"
   ]
  },
  {
   "cell_type": "markdown",
   "metadata": {},
   "source": [
    "## Métodos de conversión.\n",
    "\n",
    "### El método ```__repr__()```.\n",
    "\n",
    "Se utiliza para desplegar información que será accedida y despelgada por el intérprete.\n",
    "\n",
    "### El método  ```__str__()```.\n",
    "\n",
    "Se utiliza para desplegar información que será convertida al tipo ```str```. La función ```str()``` es la implementación de este método.\n",
    "\n",
    "### El método ```__format__()```.\n",
    "\n",
    "Se utiliza para desplegar información que se ajuste a el método ```format()``` de los objetos de tipo ```str```.\n",
    "\n",
    "### El método ```__int__()```.\n",
    "\n",
    "Se utiliza para desplegar información que será convertida al tipo ```int```.  La función ```int()``` es la implementación de este método.\n",
    "\n",
    "### El método ```__float__()```.\n",
    "\n",
    "Se utiliza para desplegar información que será convertida al tipo ```float```.  La función ```float()``` es la implementación de este método.\n",
    "\n",
    "### El método ```__bool__()```.\n",
    "\n",
    "Se utiliza para desplegar información que será convertida al tipo ```bool```.  La función ```bool()``` es la implementación de este método."
   ]
  },
  {
   "cell_type": "markdown",
   "metadata": {},
   "source": [
    "**Ejemplo:**"
   ]
  },
  {
   "cell_type": "code",
   "execution_count": null,
   "metadata": {},
   "outputs": [],
   "source": [
    "class Ente():\n",
    "    '''Ejemplifica el ciclo de vida de un objeto.'''\n",
    "    \n",
    "    def __init__(self, nombre='Juan'):\n",
    "        print('Hola. Mi nombre es {}.'.format(nombre))\n",
    "        self.nombre = nombre\n",
    "    \n",
    "    def __del__(self):\n",
    "        print ('{} ha dejado de existir.'.format(self.nombre))\n",
    "    \n",
    "    def __str__(self):\n",
    "        '''Regresa el contenido del atributo nombre convertido a mayúsculas.'''\n",
    "        return self.nombre.upper()\n",
    "    \n",
    "    def __bool__(self):\n",
    "        '''Regresa el resultado de evaluar si el atributo nombre tiene en mayúsculas \n",
    "        la primera letra de cada palabra que contiene.''' \n",
    "        return self.nombre.istitle()\n",
    "    \n",
    "    def __repr__(self):\n",
    "        '''Regresa la representación del objeto.'''\n",
    "        return \"Objeto de la clase Ente\""
   ]
  },
  {
   "cell_type": "code",
   "execution_count": null,
   "metadata": {
    "scrolled": true
   },
   "outputs": [],
   "source": [
    "ente = Ente('Luis Ramón')"
   ]
  },
  {
   "cell_type": "code",
   "execution_count": null,
   "metadata": {},
   "outputs": [],
   "source": [
    "ente"
   ]
  },
  {
   "cell_type": "code",
   "execution_count": null,
   "metadata": {},
   "outputs": [],
   "source": [
    "ente.__repr__()"
   ]
  },
  {
   "cell_type": "markdown",
   "metadata": {},
   "source": []
  },
  {
   "cell_type": "code",
   "execution_count": null,
   "metadata": {},
   "outputs": [],
   "source": [
    "str(ente)"
   ]
  },
  {
   "cell_type": "code",
   "execution_count": null,
   "metadata": {},
   "outputs": [],
   "source": [
    "print(ente)"
   ]
  },
  {
   "cell_type": "code",
   "execution_count": null,
   "metadata": {},
   "outputs": [],
   "source": [
    "ente.__str__()"
   ]
  },
  {
   "cell_type": "code",
   "execution_count": null,
   "metadata": {},
   "outputs": [],
   "source": [
    "bool(ente)"
   ]
  },
  {
   "cell_type": "code",
   "execution_count": null,
   "metadata": {},
   "outputs": [],
   "source": [
    "ente.__bool__()"
   ]
  },
  {
   "cell_type": "markdown",
   "metadata": {},
   "source": [
    "### El método ```__iter__()```.\n",
    "\n",
    "Convierte a las instancias de la clase en objetos iterables.\n",
    "\n",
    "**Ejemplo:**"
   ]
  },
  {
   "cell_type": "code",
   "execution_count": null,
   "metadata": {},
   "outputs": [],
   "source": [
    "class Ente():\n",
    "    '''Ejemplifica el ciclo de vida de un objeto.'''\n",
    "    \n",
    "    def __init__(self, nombre='Juan'):\n",
    "        print('Hola. Mi nombre es {}.'.format(nombre))\n",
    "        self.nombre = nombre\n",
    "    \n",
    "    def __del__(self):\n",
    "        print ('{} ha dejado de existir.'.format(self.nombre))\n",
    "    \n",
    "    def __str__(self):\n",
    "        '''Regresa el contenido del atributo nombre convertido a mayúsculas.'''\n",
    "        return self.nombre.upper()\n",
    "    \n",
    "    def __bool__(self):\n",
    "        '''Regresa el resultado de evaluar si el atributo nombre tiene en mayúsculas \n",
    "        la primera letra de cada palabra que contiene.''' \n",
    "        return self.nombre.istitle()\n",
    "    \n",
    "    def __iter__(self):\n",
    "        '''Crea un iterador que regresa cada letra contenida en el atributo nombre convertida \n",
    "        a minúscuclas.'''\n",
    "        for letra in self.nombre:\n",
    "            yield letra.lower() "
   ]
  },
  {
   "cell_type": "code",
   "execution_count": null,
   "metadata": {},
   "outputs": [],
   "source": [
    "persona = Ente('JAVIER')"
   ]
  },
  {
   "cell_type": "code",
   "execution_count": null,
   "metadata": {},
   "outputs": [],
   "source": [
    "for letra in persona:\n",
    "    print(letra)"
   ]
  },
  {
   "cell_type": "code",
   "execution_count": null,
   "metadata": {},
   "outputs": [],
   "source": [
    "iterador = iter(persona)"
   ]
  },
  {
   "cell_type": "code",
   "execution_count": null,
   "metadata": {},
   "outputs": [],
   "source": [
    "type(iterador)"
   ]
  },
  {
   "cell_type": "code",
   "execution_count": null,
   "metadata": {},
   "outputs": [],
   "source": [
    "iterador.__next__()"
   ]
  },
  {
   "cell_type": "markdown",
   "metadata": {},
   "source": [
    "<p style=\"text-align: center\"><a rel=\"license\" href=\"http://creativecommons.org/licenses/by/4.0/\"><img alt=\"Licencia Creative Commons\" style=\"border-width:0\" src=\"https://i.creativecommons.org/l/by/4.0/80x15.png\" /></a><br />Esta obra está bajo una <a rel=\"license\" href=\"http://creativecommons.org/licenses/by/4.0/\">Licencia Creative Commons Atribución 4.0 Internacional</a>.</p>\n",
    "<p style=\"text-align: center\">&copy; José Luis Chiquete Valdivieso. 2020.</p>"
   ]
  }
 ],
 "metadata": {
  "kernelspec": {
   "display_name": "Python 3",
   "language": "python",
   "name": "python3"
  },
  "language_info": {
   "codemirror_mode": {
    "name": "ipython",
    "version": 3
   },
   "file_extension": ".py",
   "mimetype": "text/x-python",
   "name": "python",
   "nbconvert_exporter": "python",
   "pygments_lexer": "ipython3",
   "version": "3.7.6"
  }
 },
 "nbformat": 4,
 "nbformat_minor": 2
}
