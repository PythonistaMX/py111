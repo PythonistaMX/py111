{
 "cells": [
  {
   "cell_type": "markdown",
   "metadata": {},
   "source": [
    "[![pythonista.io](imagenes/pythonista.png)](https://pythonista.io)"
   ]
  },
  {
   "cell_type": "markdown",
   "metadata": {},
   "source": [
    "# Clases abstractas."
   ]
  },
  {
   "cell_type": "markdown",
   "metadata": {
    "collapsed": true
   },
   "source": [
    "Una clase abstracta es aquella que define una interfaz, pero no su implementación, de tal forma que sus subclases sobrescriban los métodos con las implementaciones correspondientes.\n",
    "\n",
    "En otros lenguajes de programación, las clases abstractas no pueden ser instanciadas, pero en Python esto no está implementado de forma nativa, aún cuando es posible mediante el módulo [_abc_](https://docs.python.org/3/library/abc.html), cuyo estudio no está en el alcance de este curso introductorio.\n",
    "\n",
    "**Ejemplo:**"
   ]
  },
  {
   "cell_type": "code",
   "execution_count": null,
   "metadata": {},
   "outputs": [],
   "source": [
    "class Animal:\n",
    "    '''Clase base de todos los animales.'''\n",
    "    \n",
    "    def __init__(self, nombre):\n",
    "        self.nombre = nombre\n",
    "        print('Hola. Mi nombre es {}.'.format(self.nombre))\n",
    "    \n",
    "    def reproduccion(self):\n",
    "        '''Sólo define una interfaz.'''\n",
    "        pass\n",
    "    \n",
    "    def alimentacion(self):\n",
    "        '''Sólo define una interfaz.'''\n",
    "        pass\n",
    "    \n",
    "    def __del__(self):\n",
    "        print(\"El animal {} acaba de fallecer.\".format(self.nombre))"
   ]
  },
  {
   "cell_type": "code",
   "execution_count": null,
   "metadata": {},
   "outputs": [],
   "source": [
    "class Mamifero(Animal):\n",
    "    '''Clase que incluye actividades de los mamíferos.'''\n",
    "    \n",
    "    def reproduccion(self):\n",
    "        '''Es la implementación de la interfaz reproduccion de la superclase.'''\n",
    "        print('Toma un cachorro.')\n",
    "    \n",
    "    def amamanta(self):\n",
    "        print('Toma un vaso de leche.')"
   ]
  },
  {
   "cell_type": "code",
   "execution_count": null,
   "metadata": {},
   "outputs": [],
   "source": [
    "class Perro(Mamifero):\n",
    "    def alimentacion(self):\n",
    "        '''Es la implementación de la interfaz alimentacion de la superclase.'''\n",
    "        print('Deme dos tacos de pastor sin  tortillas ni verdura.')"
   ]
  },
  {
   "cell_type": "code",
   "execution_count": null,
   "metadata": {},
   "outputs": [],
   "source": [
    "beagle = Perro('Snoopy')"
   ]
  },
  {
   "cell_type": "code",
   "execution_count": null,
   "metadata": {},
   "outputs": [],
   "source": [
    "beagle.alimentacion()"
   ]
  },
  {
   "cell_type": "code",
   "execution_count": null,
   "metadata": {},
   "outputs": [],
   "source": [
    "del beagle"
   ]
  },
  {
   "cell_type": "code",
   "execution_count": null,
   "metadata": {},
   "outputs": [],
   "source": [
    "animalito = Mamifero('Cosa')"
   ]
  },
  {
   "cell_type": "code",
   "execution_count": null,
   "metadata": {},
   "outputs": [],
   "source": [
    "animalito.reproduccion()"
   ]
  },
  {
   "cell_type": "code",
   "execution_count": null,
   "metadata": {},
   "outputs": [],
   "source": [
    "animalito.alimentacion()"
   ]
  },
  {
   "cell_type": "code",
   "execution_count": null,
   "metadata": {},
   "outputs": [],
   "source": [
    "del animalito"
   ]
  },
  {
   "cell_type": "markdown",
   "metadata": {},
   "source": [
    "## Duck Typing.\n",
    "\n",
    "En otros lenguajes de programación una clase sólo puede interactuar con las implementaciones de otra clase que emane de la misma superclase.\n",
    "\n",
    "En el caso de Python, cualquier clase que tenga una interfaz compatible puede interactuar con cualquier otra clase. A esto se le conoce como \"Duck Typing\".\n",
    "\n",
    "**Ejemplo: **\n",
    "\n",
    "En este caso, el método _energia_ es compartido por 2 superclases. Si la interfaz es compatible, Python la ejecuta."
   ]
  },
  {
   "cell_type": "code",
   "execution_count": null,
   "metadata": {},
   "outputs": [],
   "source": [
    "class EnergiaSolar:\n",
    "    '''Clase base para todas las variedades de producción de energía a partir de la luz del sol.'''\n",
    "    fuente = \"luz solar\"\n",
    "    \n",
    "    def energia(self):\n",
    "        pass\n",
    "    \n",
    "class EnergiaDinamica:\n",
    "    '''Clase base para todas las variedades de producción de energía a partir del movimiento mecánico.'''\n",
    "    fuente = \"Movimiento mecánico\"\n",
    "    \n",
    "    def energia(self):\n",
    "        pass"
   ]
  },
  {
   "cell_type": "code",
   "execution_count": null,
   "metadata": {},
   "outputs": [],
   "source": [
    "class Fotovoltaica(EnergiaSolar):\n",
    "    rendimiento = 500\n",
    "    \n",
    "    def __init__(self, lumenes):\n",
    "        self.lumenes = lumenes\n",
    "        \n",
    "    def energia(self):\n",
    "        return (self.lumenes * self.rendimiento, \"watts/hr\")\n",
    "    \n",
    "class Hidroelectrica(EnergiaDinamica):\n",
    "    rendimiento = 2000\n",
    "    \n",
    "    def __init__(self, litros):\n",
    "        self.litros = litros\n",
    "        \n",
    "    def energia(self):\n",
    "        return (self.litros * self.rendimiento, \"watts/hr\")"
   ]
  },
  {
   "cell_type": "code",
   "execution_count": null,
   "metadata": {},
   "outputs": [],
   "source": [
    "class Dispositivo:\n",
    "    '''Clase que define un una interfaz en el método __init__.'''\n",
    "    \n",
    "    def __init__(self, consumo=50):\n",
    "        self.consumo = float(consumo) \n",
    "        \n",
    "    def duracion(self, energia):\n",
    "        '''El argumento para el parámetro energía debe de ser una lista o tulpa con 2 elementos \n",
    "        en los que el primer elemento debe de ser un número real y el segundo elemento debe \n",
    "        de ser la cadena de caracteres \"watts/hr\". '''  \n",
    "        if  type(energia) in (tuple, list) and len(energia) == 2 and type(energia[0]) in (int, float) \\\n",
    "        and energia[1].casefold() == \"watts/hr\":\n",
    "            return energia[0] / self.consumo\n",
    "        else:\n",
    "            raise ValueError('Interfaz incorrecta.')        "
   ]
  },
  {
   "cell_type": "code",
   "execution_count": null,
   "metadata": {},
   "outputs": [],
   "source": [
    "tostadora = Dispositivo(20)"
   ]
  },
  {
   "cell_type": "code",
   "execution_count": null,
   "metadata": {},
   "outputs": [],
   "source": [
    "tostadora.duracion(Fotovoltaica(500).energia())"
   ]
  },
  {
   "cell_type": "code",
   "execution_count": null,
   "metadata": {},
   "outputs": [],
   "source": [
    "tostadora.duracion(Hidroelectrica(500).energia())"
   ]
  },
  {
   "cell_type": "markdown",
   "metadata": {},
   "source": [
    "<p style=\"text-align: center\"><a rel=\"license\" href=\"http://creativecommons.org/licenses/by/4.0/\"><img alt=\"Licencia Creative Commons\" style=\"border-width:0\" src=\"https://i.creativecommons.org/l/by/4.0/80x15.png\" /></a><br />Esta obra está bajo una <a rel=\"license\" href=\"http://creativecommons.org/licenses/by/4.0/\">Licencia Creative Commons Atribución 4.0 Internacional</a>.</p>\n",
    "<p style=\"text-align: center\">&copy; José Luis Chiquete Valdivieso. 2020.</p>"
   ]
  }
 ],
 "metadata": {
  "kernelspec": {
   "display_name": "Python 3",
   "language": "python",
   "name": "python3"
  },
  "language_info": {
   "codemirror_mode": {
    "name": "ipython",
    "version": 3
   },
   "file_extension": ".py",
   "mimetype": "text/x-python",
   "name": "python",
   "nbconvert_exporter": "python",
   "pygments_lexer": "ipython3",
   "version": "3.7.6"
  }
 },
 "nbformat": 4,
 "nbformat_minor": 2
}
