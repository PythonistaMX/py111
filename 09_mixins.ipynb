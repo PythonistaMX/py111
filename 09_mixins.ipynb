{
 "cells": [
  {
   "cell_type": "markdown",
   "metadata": {},
   "source": [
    "[![pythonista.io](imagenes/pythonista.png)](https://pythonista.io)"
   ]
  },
  {
   "cell_type": "markdown",
   "metadata": {},
   "source": [
    "# Mixins."
   ]
  },
  {
   "cell_type": "markdown",
   "metadata": {
    "collapsed": true
   },
   "source": [
    "Los mixins son una coleccion de clases que contienen métodos, los cuales pueden ser intercambiables. Aprovechan la herencia múltiple para conformar clases modulares.\n",
    "\n",
    "Por lo general estas clases contienen métodos que corresponden a bibliotecas que no sobrescriben a las otras superclases.\n",
    "\n",
    "El uso de mixins es muy controvertido e incluso algunos lo consideran un \"antipatrón\", pero aún así es aceptable en Python."
   ]
  },
  {
   "cell_type": "code",
   "execution_count": 1,
   "metadata": {
    "scrolled": true
   },
   "outputs": [],
   "source": [
    "class AutoRobot:\n",
    "    \n",
    "    def conversion(self):\n",
    "        return 'Soy un felino.'"
   ]
  },
  {
   "cell_type": "code",
   "execution_count": 2,
   "metadata": {
    "scrolled": true
   },
   "outputs": [],
   "source": [
    "class LeonNegro(AutoRobot):\n",
    "    \n",
    "    def opera_cabeza(self):\n",
    "        return 'Jeje. Soy el más importante'"
   ]
  },
  {
   "cell_type": "code",
   "execution_count": 3,
   "metadata": {
    "scrolled": true
   },
   "outputs": [],
   "source": [
    "class LeonRojo(AutoRobot):\n",
    "    \n",
    "    def opera_brazo_derecho(self):\n",
    "        return 'Operando brazo derecho'"
   ]
  },
  {
   "cell_type": "code",
   "execution_count": 4,
   "metadata": {
    "scrolled": true
   },
   "outputs": [],
   "source": [
    "class LeonVerde(AutoRobot):\n",
    "    \n",
    "    def opera_brazo_izquierdo(self):\n",
    "        return 'Operando brazo izquierdo'"
   ]
  },
  {
   "cell_type": "code",
   "execution_count": 5,
   "metadata": {
    "scrolled": true
   },
   "outputs": [],
   "source": [
    "class LeonAzul(AutoRobot):\n",
    "    \n",
    "    def opera_pierna_derecha(self):\n",
    "        return 'Operando pierna derecha.'"
   ]
  },
  {
   "cell_type": "code",
   "execution_count": 6,
   "metadata": {
    "scrolled": true
   },
   "outputs": [],
   "source": [
    "class LeonAmarillo(AutoRobot):\n",
    "    \n",
    "    def opera_pierna_izquierda(self):\n",
    "        return 'Quería ser la cabeza.'"
   ]
  },
  {
   "cell_type": "code",
   "execution_count": 7,
   "metadata": {
    "scrolled": true
   },
   "outputs": [],
   "source": [
    "class Voltron(LeonNegro, LeonRojo, LeonAzul, LeonVerde, LeonAmarillo):\n",
    "    pass"
   ]
  },
  {
   "cell_type": "code",
   "execution_count": 8,
   "metadata": {
    "scrolled": true
   },
   "outputs": [
    {
     "name": "stdout",
     "output_type": "stream",
     "text": [
      "Help on class Voltron in module __main__:\n",
      "\n",
      "class Voltron(LeonNegro, LeonRojo, LeonAzul, LeonVerde, LeonAmarillo)\n",
      " |  Method resolution order:\n",
      " |      Voltron\n",
      " |      LeonNegro\n",
      " |      LeonRojo\n",
      " |      LeonAzul\n",
      " |      LeonVerde\n",
      " |      LeonAmarillo\n",
      " |      AutoRobot\n",
      " |      builtins.object\n",
      " |  \n",
      " |  Methods inherited from LeonNegro:\n",
      " |  \n",
      " |  opera_cabeza(self)\n",
      " |  \n",
      " |  ----------------------------------------------------------------------\n",
      " |  Methods inherited from LeonRojo:\n",
      " |  \n",
      " |  opera_brazo_derecho(self)\n",
      " |  \n",
      " |  ----------------------------------------------------------------------\n",
      " |  Methods inherited from LeonAzul:\n",
      " |  \n",
      " |  opera_pierna_derecha(self)\n",
      " |  \n",
      " |  ----------------------------------------------------------------------\n",
      " |  Methods inherited from LeonVerde:\n",
      " |  \n",
      " |  opera_brazo_izquierdo(self)\n",
      " |  \n",
      " |  ----------------------------------------------------------------------\n",
      " |  Methods inherited from LeonAmarillo:\n",
      " |  \n",
      " |  opera_pierna_izquierda(self)\n",
      " |  \n",
      " |  ----------------------------------------------------------------------\n",
      " |  Methods inherited from AutoRobot:\n",
      " |  \n",
      " |  conversion(self)\n",
      " |  \n",
      " |  ----------------------------------------------------------------------\n",
      " |  Data descriptors inherited from AutoRobot:\n",
      " |  \n",
      " |  __dict__\n",
      " |      dictionary for instance variables (if defined)\n",
      " |  \n",
      " |  __weakref__\n",
      " |      list of weak references to the object (if defined)\n",
      "\n"
     ]
    }
   ],
   "source": [
    "help(Voltron)"
   ]
  },
  {
   "cell_type": "code",
   "execution_count": 9,
   "metadata": {
    "scrolled": true
   },
   "outputs": [],
   "source": [
    "ensamblar = Voltron()"
   ]
  },
  {
   "cell_type": "code",
   "execution_count": 10,
   "metadata": {
    "scrolled": true
   },
   "outputs": [
    {
     "data": {
      "text/plain": [
       "'Soy un felino.'"
      ]
     },
     "execution_count": 10,
     "metadata": {},
     "output_type": "execute_result"
    }
   ],
   "source": [
    "ensamblar.conversion()"
   ]
  },
  {
   "cell_type": "code",
   "execution_count": 11,
   "metadata": {
    "scrolled": true
   },
   "outputs": [
    {
     "data": {
      "text/plain": [
       "'Quería ser la cabeza.'"
      ]
     },
     "execution_count": 11,
     "metadata": {},
     "output_type": "execute_result"
    }
   ],
   "source": [
    "ensamblar.opera_pierna_izquierda()"
   ]
  },
  {
   "cell_type": "code",
   "execution_count": 12,
   "metadata": {
    "scrolled": true
   },
   "outputs": [
    {
     "data": {
      "text/plain": [
       "'Operando brazo izquierdo'"
      ]
     },
     "execution_count": 12,
     "metadata": {},
     "output_type": "execute_result"
    }
   ],
   "source": [
    "ensamblar.opera_brazo_izquierdo()"
   ]
  },
  {
   "cell_type": "markdown",
   "metadata": {},
   "source": [
    "<p style=\"text-align: center\"><a rel=\"license\" href=\"http://creativecommons.org/licenses/by/4.0/\"><img alt=\"Licencia Creative Commons\" style=\"border-width:0\" src=\"https://i.creativecommons.org/l/by/4.0/80x15.png\" /></a><br />Esta obra está bajo una <a rel=\"license\" href=\"http://creativecommons.org/licenses/by/4.0/\">Licencia Creative Commons Atribución 4.0 Internacional</a>.</p>\n",
    "<p style=\"text-align: center\">&copy; José Luis Chiquete Valdivieso. 2019.</p>"
   ]
  }
 ],
 "metadata": {
  "kernelspec": {
   "display_name": "Python 3",
   "language": "python",
   "name": "python3"
  },
  "language_info": {
   "codemirror_mode": {
    "name": "ipython",
    "version": 3
   },
   "file_extension": ".py",
   "mimetype": "text/x-python",
   "name": "python",
   "nbconvert_exporter": "python",
   "pygments_lexer": "ipython3",
   "version": "3.7.6"
  }
 },
 "nbformat": 4,
 "nbformat_minor": 2
}
